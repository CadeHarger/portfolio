{
  "nbformat": 4,
  "nbformat_minor": 0,
  "metadata": {
    "colab": {
      "provenance": [],
      "authorship_tag": "ABX9TyPbDVs1v2/+A7/qPh5H2+na",
      "include_colab_link": true
    },
    "kernelspec": {
      "name": "python3",
      "display_name": "Python 3"
    },
    "language_info": {
      "name": "python"
    }
  },
  "cells": [
    {
      "cell_type": "markdown",
      "metadata": {
        "id": "view-in-github",
        "colab_type": "text"
      },
      "source": [
        "<a href=\"https://colab.research.google.com/github/CadeHarger/portfolio/blob/main/Personal_Projects/Stock_Market_Round_2.ipynb\" target=\"_parent\"><img src=\"https://colab.research.google.com/assets/colab-badge.svg\" alt=\"Open In Colab\"/></a>"
      ]
    },
    {
      "cell_type": "code",
      "metadata": {
        "id": "8e_uy1glYelJ",
        "cellView": "form"
      },
      "source": [
        "#@title Setup Dependencies\n",
        "!pip install tensorflow-probability\n",
        "\n",
        "from IPython import display\n",
        "\n",
        "import tensorflow as tf\n",
        "import matplotlib.pyplot as plt\n",
        "import tensorflow_probability as tfp\n",
        "import numpy as np\n",
        "import pandas as pd\n",
        "import random\n",
        "import time"
      ],
      "execution_count": null,
      "outputs": []
    },
    {
      "cell_type": "code",
      "metadata": {
        "colab": {
          "base_uri": "https://localhost:8080/"
        },
        "id": "1XV-sdRhYkZR",
        "cellView": "form",
        "outputId": "61fc7b2d-7761-45b6-b2aa-85c5b563de38"
      },
      "source": [
        "#@title Load and Format Dataset\n",
        "testSize = 300 #@param{type: 'integer'}\n",
        "valSize = 25 #@param{type: 'integer'}\n",
        "aToK = pd.read_csv(\"StockDataset A-K.csv\", low_memory=False)\n",
        "kToZ = pd.read_csv(\"StockDataset K-Z.csv\", low_memory=False)\n",
        "preTickers = (list(aToK.columns) + list(kToZ.columns))[:-1]\n",
        "\n",
        "a = np.swapaxes(aToK.to_numpy(), 0, 1)\n",
        "z = np.swapaxes(kToZ.to_numpy(), 0, 1)\n",
        "z = np.delete(z, -1, axis=1)\n",
        "\n",
        "raw = np.delete(np.append(a, z, axis=0), 0, 1)\n",
        "dates = []\n",
        "sequences = []\n",
        "invalid = []\n",
        "tickers = []\n",
        "for x in range(0, len(raw) - 1, 2):\n",
        "  index = 0\n",
        "  while index < len(raw[0]) and type(raw[x][index]) == type('s'):\n",
        "    index += 1\n",
        "  if index == 0 or index != len(raw[0]):\n",
        "    invalid.append(int(x / 2))\n",
        "  dates.append(raw[x][:index])\n",
        "  sequences.append(raw[x + 1][:index])\n",
        "  tickers.append(preTickers[x])\n",
        "for x in range(len(invalid) - 1, -1, -1):\n",
        "  del dates[invalid[x]]\n",
        "  del sequences[invalid[x]]\n",
        "  del tickers[invalid[x]]\n",
        "\n",
        "tmp = sequences[220:]\n",
        "sequences[220:] = dates[220:]\n",
        "dates[220:] = tmp\n",
        "sequences = np.array(sequences).astype('float32')\n",
        "\n",
        "data = np.expand_dims(np.swapaxes(sequences, 0, 1), -1)\n",
        "train = data[:-1 * testSize]\n",
        "test = data[-1 * testSize:]\n",
        "train = np.swapaxes(train, 0, 1)\n",
        "test = np.swapaxes(test, 0, 1)\n",
        "\n",
        "for x in range(len(train)):\n",
        "  train[x] = (train[x] - min(train[x]))\n",
        "  train[x] /= max(train[x])\n",
        "\n",
        "validation = train[-1 * valSize:]\n",
        "train = train[:-1 * valSize]\n",
        "\n",
        "print('Train Shape:      ', train.shape)\n",
        "print('Validation Shape: ', validation.shape)\n",
        "print('Test Shape:       ', test.shape)"
      ],
      "execution_count": null,
      "outputs": [
        {
          "output_type": "stream",
          "name": "stdout",
          "text": [
            "Train Shape:       (400, 2634, 1)\n",
            "Validation Shape:  (25, 2634, 1)\n",
            "Test Shape:        (425, 300, 1)\n"
          ]
        }
      ]
    },
    {
      "cell_type": "code",
      "metadata": {
        "id": "6eVEG0ExVXKZ"
      },
      "source": [
        "#@title Define the Model(s)\n",
        "class VAE(tf.keras.Model):\n",
        "  def __init__(self, latentDims):\n",
        "    super(VAE, self).__init__()\n",
        "    self.latentDims = latentDims\n",
        "    self.encoder = tf.keras.Sequential([\n",
        "      tf.keras.layers.Input(shape=(2634, 1)),\n",
        "      tf.keras.layers.Conv1D(filters=32, kernel_size=5, strides=2, activation='relu'),\n",
        "      tf.keras.layers.Conv1D(filters=64, kernel_size=4, strides=2, activation='relu'),\n",
        "      tf.keras.layers.MaxPool1D(pool_size=2),\n",
        "      tf.keras.layers.Conv1D(filters=96, kernel_size=3, strides=2, activation='relu'),\n",
        "      tf.keras.layers.Conv1D(filters=96, kernel_size=3, strides=2, activation='relu'),\n",
        "      tf.keras.layers.Flatten(),\n",
        "      tf.keras.layers.Dense(latentDims + latentDims)\n",
        "    ])\n",
        "    self.decoder = tf.keras.Sequential([\n",
        "      tf.keras.layers.Input(shape=(latentDims,)),\n",
        "      tf.keras.layers.Dense(328, activation=tf.nn.relu),\n",
        "      tf.keras.layers.Reshape((328, 1)),\n",
        "      tf.keras.layers.Conv1DTranspose(filters=96, kernel_size=3, strides=2, activation='relu'),\n",
        "      tf.keras.layers.Conv1DTranspose(filters=64, kernel_size=3, strides=2, activation='relu'),\n",
        "      tf.keras.layers.Conv1DTranspose(filters=32, kernel_size=4, strides=2, activation='relu'),\n",
        "      tf.keras.layers.Conv1DTranspose(filters=1, kernel_size=3, strides=1),\n",
        "      tf.keras.layers.Flatten(),\n",
        "      tf.keras.layers.Dense(2634, use_bias=False),\n",
        "      tf.keras.layers.Reshape((2634, 1))\n",
        "    ])\n",
        "\n",
        "  @tf.function\n",
        "  def sample(self, eps=None):\n",
        "    if eps is None:\n",
        "      eps = tf.random.normal(shape=(100, self.latentDims))\n",
        "    return self.decode(eps, apply_sigmoid=True)\n",
        "\n",
        "  def encode(self, x):\n",
        "    mean, logvar = tf.split(self.encoder(x), num_or_size_splits=2, axis=1)\n",
        "    return mean, logvar\n",
        "\n",
        "  def reparameterize(self, mean, logvar):\n",
        "    eps = tf.random.normal(shape=mean.shape)\n",
        "    return eps * tf.exp(logvar * .5) + mean\n",
        "\n",
        "  def decode(self, z, apply_sigmoid=False):\n",
        "    logits = self.decoder(z)\n",
        "    if apply_sigmoid:\n",
        "      probs = tf.sigmoid(logits)\n",
        "      return probs\n",
        "    return logits\n",
        "\n",
        "optimizer = tf.keras.optimizers.Adam(2e-5)\n",
        "\n",
        "\n",
        "def log_normal_pdf(sample, mean, logvar, raxis=1):\n",
        "  log2pi = tf.math.log(2. * np.pi)\n",
        "  return tf.reduce_sum(\n",
        "      -.5 * ((sample - mean) ** 2. * tf.exp(-logvar) + logvar + log2pi),\n",
        "      axis=raxis)\n",
        "\n",
        "\n",
        "def compute_loss(model, x):\n",
        "  mse = tf.keras.losses.MeanSquaredError()\n",
        "  mean, logvar = model.encode(x)\n",
        "  z = model.reparameterize(mean, logvar)\n",
        "  x_logit = model.decode(z)\n",
        "  err = -mse(y_true=x, y_pred=x_logit)\n",
        "  #cross_ent = -tf.nn.sigmoid_cross_entropy_with_logits(logits=x_logit, labels=x)\n",
        "  #logpx_z = -tf.reduce_sum(cross_ent, axis=[1, 2])\n",
        "  #logpz = log_normal_pdf(z, 0., 0.)\n",
        "  #logqz_x = log_normal_pdf(z, mean, logvar)\n",
        "  return -tf.reduce_mean(err)# + logpz - logqz_x)\n",
        "\n",
        "\n",
        "@tf.function\n",
        "def train_step(model, x, optimizer):\n",
        "  \"\"\"Executes one training step and returns the loss.\n",
        "\n",
        "  This function computes the loss and gradients, and uses the latter to\n",
        "  update the model's parameters.\n",
        "  \"\"\"\n",
        "  with tf.GradientTape() as tape:\n",
        "    loss = compute_loss(model, x)\n",
        "  gradients = tape.gradient(loss, model.trainable_variables)\n",
        "  optimizer.apply_gradients(zip(gradients, model.trainable_variables))"
      ],
      "execution_count": null,
      "outputs": []
    },
    {
      "cell_type": "code",
      "metadata": {
        "id": "uIvakipD8kLG",
        "cellView": "form"
      },
      "source": [
        "#@title Train the Model\n",
        "model = VAE(latentDims=200)\n",
        "model.encoder.summary()\n",
        "epochs = 500\n",
        "batchSize = 25\n",
        "\n",
        "losses = []\n",
        "for epoch in range(1, epochs + 1):\n",
        "  start_time = time.time()\n",
        "  for x in range(int(len(train) / batchSize)):\n",
        "    train_step(model, train[x:x + batchSize], optimizer)\n",
        "  end_time = time.time()\n",
        "\n",
        "  loss = tf.keras.metrics.Mean()\n",
        "  loss(compute_loss(model, validation))\n",
        "  elbo = loss.result()\n",
        "  losses.append(elbo)\n",
        "  #display.clear_output(wait=False)\n",
        "  print('Epoch: {}, Test set ELBO: {}, time elapse for current epoch: {}'\n",
        "        .format(epoch, elbo, end_time - start_time))\n",
        "\n",
        "plt.plot(losses)"
      ],
      "execution_count": null,
      "outputs": []
    },
    {
      "cell_type": "code",
      "metadata": {
        "colab": {
          "base_uri": "https://localhost:8080/",
          "height": 316
        },
        "id": "oFbJErdI_o7t",
        "cellView": "form",
        "outputId": "e371a0ba-bfd0-4ee0-99b3-f85c466d91e4"
      },
      "source": [
        "#@title Test the VAE\n",
        "example =  2#@param{type:'integer'}\n",
        "plt.plot(train[example], label='truth')\n",
        "mean, logvar = model.encode(np.expand_dims(train[0], 0))\n",
        "result = model.decode(model.reparameterize(mean, logvar))\n",
        "plt.plot(result[0], label='pred')\n",
        "\n",
        "\n",
        "mean, logvar = model.encode(np.expand_dims(train[example + 1], 0))\n",
        "resultant = model.decode(model.reparameterize(mean, logvar))\n",
        "plt.plot(resultant[0], label='pred + 1')\n",
        "plt.plot(train[example + 1], label='train + 1')\n",
        "plt.legend()\n",
        "\n",
        "print(compute_loss(model, np.expand_dims(train[example], 0)))\n",
        "print(np.max(result[0]))\n",
        "print(np.max(train[example]))"
      ],
      "execution_count": null,
      "outputs": [
        {
          "output_type": "stream",
          "name": "stdout",
          "text": [
            "tf.Tensor(2.9761799e-05, shape=(), dtype=float32)\n",
            "1.026016\n",
            "1.0\n"
          ]
        },
        {
          "output_type": "display_data",
          "data": {
            "image/png": "[encoded data removed]",
            "text/plain": [
              "<Figure size 432x288 with 1 Axes>"
            ]
          },
          "metadata": {
            "needs_background": "light"
          }
        }
      ]
    },
    {
      "cell_type": "code",
      "metadata": {
        "id": "tNl7m3LeDmaE",
        "colab": {
          "base_uri": "https://localhost:8080/",
          "height": 130
        },
        "outputId": "c8263808-8235-4b95-b96f-28c3c8a75b54"
      },
      "source": [
        "# Beginning of abandonded attempt to use reinforcement learning\n",
        "\n",
        "class StockUpGame:\n",
        "  def __init__(self, trainData, histCount):\n",
        "    self.trainData = trainData\n",
        "    self.histCount = histCount\n",
        "    self.currentGraph = trainData[0]\n",
        "    self.dayNo = histCount\n",
        "    self.graphNo = 0\n",
        "    self.cash = 500\n",
        "    self.buyPrice = None\n",
        "    self.isLong = None\n",
        "    self.model = 0\n",
        "\n",
        "  def buy(self):\n",
        "    self.isLong = True\n",
        "    self.buyPrice = self.currentGraph[self.dayNo]\n",
        "\n",
        "  def sell(self):\n",
        "    self.isLong = False\n",
        "    self.buyPrice = self.currentGraph[self.dayNo]\n",
        "\n",
        "  def end(self):\n",
        "    self.isLong = None\n",
        "    self.buyPrice = None\n",
        "\n",
        "  def advance(self):\n",
        "    self.dayNo += 1\n",
        "    if self.dayNo == len(trainData[0]):\n",
        "      self.end()\n",
        "      self.dayNo = self.histCount\n",
        "      self.graphNo += 1\n",
        "      self.currentGraph = self.trainData[self.graphNo]\n",
        "    else:\n",
        "      self.getAIDecision(self.currentGraph[self.dayNo - self.histCount:self.dayNo + 1])\n",
        "      if self.buyPrice is not None:\n",
        "        if self.isLong:\n",
        "          self.cash += self.cash * (self.currentGraph[self.dayNo] - self.buyPrice) / self.buyPrice\n",
        "        else:\n",
        "          self.cash += self.cash * (self.buyPrice - self.currentGraph[self.dayNo]) / self.buyPrice\n",
        "\n",
        "  def getAIDecision(self, inputs):\n",
        "    # need the graph, isLong, and the buyPrice\n",
        "    # Perhaps forcefully decrease the chance of holding the longer a stock is held to discourage the\n",
        "    # ai from just holding forever for an average gain. Also forcefully selling is possible, but a\n",
        "    # daysHeld input might need to be appended.\n",
        "    #\n",
        "    # OPTIONS:\n",
        "    # Network that outputs a buy or sell, and a number of days (no position holding aspect)\n",
        "    #   Inputs: Graph   Outputs: Softmax(2), number of days to hold\n",
        "    # One network for buying/selling/waiting decisions, another for holding or ending\n",
        "    #   Inputs1: Graph    Inputs2: Graph, buyPrice    Outputs : Softmax(3)   Outputs2: Softmax(2)\n",
        "    # One network that buys/sells/waits/ends with invalid options masked out\n",
        "    #   Inputs: Graph, buyPrice, isLong   Outputs: Softmax(4)\n",
        "    # Same as above but with buyPrice and isLong omitted as inputs\n",
        "    #\n",
        "    # Try: Dense, conv1d, transformer, lstm, Hybrid with dense connecting outputs\n",
        "\n",
        "\n",
        "\n",
        "\n",
        "\n",
        ""
      ],
      "execution_count": null,
      "outputs": [
        {
          "output_type": "error",
          "ename": "SyntaxError",
          "evalue": "ignored",
          "traceback": [
            "\u001b[0;36m  File \u001b[0;32m\"<ipython-input-1-6b853eadfc34>\"\u001b[0;36m, line \u001b[0;32m46\u001b[0m\n\u001b[0;31m    \u001b[0m\n\u001b[0m    ^\u001b[0m\n\u001b[0;31mSyntaxError\u001b[0m\u001b[0;31m:\u001b[0m unexpected EOF while parsing\n"
          ]
        }
      ]
    }
  ]
}