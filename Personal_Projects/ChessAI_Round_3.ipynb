{
  "nbformat": 4,
  "nbformat_minor": 0,
  "metadata": {
    "colab": {
      "provenance": [],
      "mount_file_id": "1dp-gsH4ZV3NcT_ihQaUL8iZAxXdXrP9X",
      "authorship_tag": "ABX9TyOFrATyXStA0cbaBDEBQGEd",
      "include_colab_link": true
    },
    "kernelspec": {
      "display_name": "Python 3",
      "name": "python3"
    },
    "accelerator": "GPU"
  },
  "cells": [
    {
      "cell_type": "markdown",
      "metadata": {
        "id": "view-in-github",
        "colab_type": "text"
      },
      "source": [
        "<a href=\"https://colab.research.google.com/github/CadeHarger/portfolio/blob/main/Personal_Projects/ChessAI_Round_3.ipynb\" target=\"_parent\"><img src=\"https://colab.research.google.com/assets/colab-badge.svg\" alt=\"Open In Colab\"/></a>"
      ]
    },
    {
      "cell_type": "code",
      "metadata": {
        "id": "RCGusZ5o4vZ7",
        "colab": {
          "base_uri": "https://localhost:8080/"
        },
        "outputId": "415dd7c8-3ac6-48ef-8989-16618684190d"
      },
      "source": [
        "!pip install python-chess==0.31.3"
      ],
      "execution_count": null,
      "outputs": [
        {
          "output_type": "stream",
          "name": "stdout",
          "text": [
            "Looking in indexes: https://pypi.org/simple, https://us-python.pkg.dev/colab-wheels/public/simple/\n",
            "Collecting python-chess==0.31.3\n",
            "  Downloading python_chess-0.31.3-py3-none-any.whl (134 kB)\n",
            "\u001b[K     |████████████████████████████████| 134 kB 5.1 MB/s \n",
            "\u001b[?25hInstalling collected packages: python-chess\n",
            "Successfully installed python-chess-0.31.3\n"
          ]
        }
      ]
    },
    {
      "cell_type": "code",
      "metadata": {
        "id": "vvVKcQAm3_Iy",
        "colab": {
          "base_uri": "https://localhost:8080/"
        },
        "outputId": "859363ee-eb19-4b01-8bac-3e313ed2aebc",
        "cellView": "form"
      },
      "source": [
        "#@title Run on TensorFlow 2.x\n",
        "from __future__ import absolute_import, division, print_function, unicode_literals\n",
        "%tensorflow_version 2.x\n"
      ],
      "execution_count": null,
      "outputs": [
        {
          "output_type": "stream",
          "name": "stdout",
          "text": [
            "Colab only includes TensorFlow 2.x; %tensorflow_version has no effect.\n"
          ]
        }
      ]
    },
    {
      "cell_type": "code",
      "metadata": {
        "id": "Bd2WVi3F4LQF",
        "cellView": "form"
      },
      "source": [
        "#@title Import Relevant Modules\n",
        "import numpy as np\n",
        "import pandas as pd\n",
        "import tensorflow as tf\n",
        "from tensorflow.keras import layers\n",
        "from matplotlib import pyplot as plt\n",
        "import chess\n",
        "import chess.engine\n",
        "import chess.svg\n",
        "import chess.pgn\n",
        "import random\n",
        "import time\n",
        "\n",
        "# The following lines adjust the granularity of reporting.\n",
        "pd.options.display.max_rows = 10\n",
        "pd.options.display.float_format = \"{:.1f}\".format\n",
        "\n",
        "# The following line improves formatting when ouputting NumPy arrays.\n",
        "np.set_printoptions(linewidth = 200)"
      ],
      "execution_count": null,
      "outputs": []
    },
    {
      "cell_type": "code",
      "metadata": {
        "id": "mzrPRe5P5TxT",
        "cellView": "form"
      },
      "source": [
        "#@title Feature Creation\n",
        "\n",
        "numFeats = 14\n",
        "movesPerGame = 2\n",
        "\n",
        "squares_index = {\n",
        "  'a': 0,\n",
        "  'b': 1,\n",
        "  'c': 2,\n",
        "  'd': 3,\n",
        "  'e': 4,\n",
        "  'f': 5,\n",
        "  'g': 6,\n",
        "  'h': 7\n",
        "}\n",
        "'''\n",
        "# ex: h3 -> 17\n",
        "def square_to_index(square):\n",
        "  letter = chess.square_name(square)\n",
        "  return 8 - int(letter[1]), squares_index[letter[0]]\n",
        "'''\n",
        "\n",
        "def comprehendBoard(board):\n",
        "  board3d = np.zeros((numFeats, 8, 8), dtype=np.int8)\n",
        "\n",
        "  # get the available moves for each side (REDUNDANT)\n",
        "  '''\n",
        "  aux = board.turn\n",
        "  board.turn = chess.WHITE\n",
        "  for move in board.legal_moves:\n",
        "      i, j = square_to_index(move.to_square)\n",
        "      board3d[12][i][j] = 1\n",
        "  board.turn = chess.BLACK\n",
        "  for move in board.legal_moves:\n",
        "      i, j = square_to_index(move.to_square)\n",
        "      board3d[13][i][j] = 1\n",
        "  board.turn = aux\n",
        "  '''\n",
        "\n",
        "  # get the location of each piece\n",
        "  for piece in chess.PIECE_TYPES:\n",
        "    for square in board.pieces(piece, chess.WHITE):\n",
        "      idx = np.unravel_index(square, (8, 8))\n",
        "      board3d[piece - 1][7 - idx[0]][idx[1]] = 1\n",
        "    for square in board.pieces(piece, chess.BLACK):\n",
        "      idx = np.unravel_index(square, (8, 8))\n",
        "      board3d[piece + 5][7 - idx[0]][idx[1]] = 1\n",
        "  # get the number of attackers on each square for each side\n",
        "\n",
        "  for square in chess.SQUARES:\n",
        "    idx = np.unravel_index(square, (8, 8))\n",
        "    board3d[12][idx[0]][idx[1]] = len(board.attackers(chess.WHITE, square))\n",
        "  for square in chess.SQUARES:\n",
        "    idx = np.unravel_index(square, (8, 8))\n",
        "    board3d[13][idx[0]][idx[1]] = len(board.attackers(chess.BLACK, square))\n",
        "\n",
        "  return board3d"
      ],
      "execution_count": null,
      "outputs": []
    },
    {
      "cell_type": "code",
      "metadata": {
        "id": "bfsRnhuotg4e",
        "cellView": "form"
      },
      "source": [
        "#@title Load the Dataset\n",
        "trainData = pd.read_csv(\"ChessGames.csv\")\n",
        "trainData = trainData.to_numpy()\n",
        "np.random.shuffle(trainData)\n",
        "print(len(trainData))\n",
        "\n",
        "# Create features/labels from dataset\n",
        "betaFeatureSet = np.zeros((len(trainData) * movesPerGame, numFeats, 8, 8), dtype=np.int8)\n",
        "betaLabelSet = np.zeros((len(trainData) * movesPerGame, 2), dtype=np.float16)\n",
        "for x in range(len(trainData)):\n",
        "  moves = trainData[x][3].split()\n",
        "  for y in range(movesPerGame):\n",
        "    board = chess.Board()\n",
        "    randomMove = random.randrange(5, len(moves))\n",
        "    for i in range(randomMove):\n",
        "      board.push(board.parse_san(moves[i]))\n",
        "    betaLabelSet[(x * movesPerGame) + y][0] = trainData[x][1] * -0.5 + 0.5 # One-hot encode -1, 0, 1 values\n",
        "    betaLabelSet[(x * movesPerGame) + y][1] = trainData[x][1] * 0.5 + 0.5\n",
        "    betaFeatureSet[(x * movesPerGame) + y] = comprehendBoard(board)\n",
        "\n",
        "del trainData\n",
        "\n",
        "print(len(betaFeatureSet))\n",
        "print(len(betaLabelSet))\n",
        "\n",
        "print(np.histogram(betaLabelSet, bins=2))"
      ],
      "execution_count": null,
      "outputs": []
    },
    {
      "cell_type": "code",
      "metadata": {
        "colab": {
          "base_uri": "https://localhost:8080/"
        },
        "id": "k3speQjIXZ__",
        "cellView": "form",
        "outputId": "f3278fdd-34e9-4d98-caa4-9580c4b27967"
      },
      "source": [
        "#@title Mount Google Drive\n",
        "import os\n",
        "from google.colab import drive\n",
        "drive.mount('/gdrive')"
      ],
      "execution_count": null,
      "outputs": [
        {
          "output_type": "stream",
          "name": "stdout",
          "text": [
            "Mounted at /gdrive\n"
          ]
        }
      ]
    },
    {
      "cell_type": "code",
      "metadata": {
        "id": "a0OeR5QWU91g",
        "cellView": "form"
      },
      "source": [
        "#@title Load the Dataset from Drive\n",
        "\n",
        "minLength = 6\n",
        "\n",
        "tic = time.perf_counter()\n",
        "games = []\n",
        "path = \"/gdrive/MyDrive/AI Stuff/Chess/\"\n",
        "for filename in os.listdir(path):\n",
        "  print(filename)\n",
        "  if filename.endswith(\"txt\"):\n",
        "    with open(path + filename, 'r', encoding='latin-1') as file:\n",
        "      parsing = False\n",
        "      san = \"\"\n",
        "      for i, line in enumerate(file):\n",
        "        if parsing:\n",
        "          if line == '\\n':\n",
        "            parsing = False\n",
        "            moves = san.split()\n",
        "            if len(moves) > minLength:\n",
        "              games.append(moves)\n",
        "            san = \"\"\n",
        "          else:\n",
        "            san += line\n",
        "        elif line[0] == '1':\n",
        "          parsing = True\n",
        "          san += line\n",
        "      print(i)\n",
        "print(len(games))\n",
        "toc = time.perf_counter()\n",
        "print(f'Time: {toc - tic} seconds')\n",
        "\n",
        "featureSetX = np.zeros((len(games) * movesPerGame, numFeats, 8, 8), dtype=np.int8)\n",
        "labelSetX = np.zeros((len(games) * movesPerGame, 2), dtype=np.float16) # Black Score, White Score\n",
        "for gameNo, game in enumerate(games):\n",
        "  if gameNo % 30000 == 0:\n",
        "    print(gameNo)\n",
        "  for x in range(movesPerGame):\n",
        "    board = chess.Board()\n",
        "    randomMove = random.randrange(minLength, len(game) - 1)\n",
        "    for i in range(randomMove):\n",
        "      if '.' in game[i]:\n",
        "        try:\n",
        "          board.push(board.parse_san(game[i].split('.')[1]))\n",
        "        except:\n",
        "          print(game[i].split('.'), game)\n",
        "          board.push('Rg1')\n",
        "      else:\n",
        "        board.push(board.parse_san(game[i]))\n",
        "    index = gameNo * movesPerGame + x\n",
        "    outcome = game[-1]\n",
        "    featureSetX[index] = comprehendBoard(board)\n",
        "    if outcome[0] == '1':\n",
        "      if outcome[1] == '/':\n",
        "        labelSetX[index][0] = 0.5\n",
        "        labelSetX[index][1] = 0.5\n",
        "      else:\n",
        "        labelSetX[index][0] = 0\n",
        "        labelSetX[index][1] = 1\n",
        "    else:\n",
        "      labelSetX[index][0] = 1\n",
        "      labelSetX[index][1] = 0\n",
        "\n",
        "del games\n",
        "\n",
        "# Diagnostics\n",
        "print(len(featureSetX))\n",
        "print(len(labelSetX))\n",
        "\n",
        "print(np.histogram(labelSetX, bins=2))\n",
        "print(f'Time: {time.perf_counter() - toc} seconds')\n",
        "print(np.shape(featureSetX))\n",
        ""
      ],
      "execution_count": null,
      "outputs": []
    },
    {
      "cell_type": "code",
      "metadata": {
        "colab": {
          "base_uri": "https://localhost:8080/"
        },
        "id": "zRPUWa-iwQKu",
        "cellView": "form",
        "outputId": "b59632f1-15c9-4e58-ce78-5689ef18c617"
      },
      "source": [
        "#@title Merging Datasets\n",
        "\n",
        "testSize = 30000\n",
        "\n",
        "featureSet = np.append(featureSetX, betaFeatureSet, axis=0)\n",
        "labelSet = np.append(labelSetX, betaLabelSet, axis=0)\n",
        "print(np.shape(featureSet))\n",
        "print(np.shape(labelSet))\n",
        "\n",
        "# Shuffle the features and labels together\n",
        "shuffler = np.random.permutation(len(featureSet))\n",
        "featureSet = featureSet[shuffler]\n",
        "labelSet = labelSet[shuffler]\n",
        "\n",
        "# Split the test and training datasets\n",
        "testFeatureSet = featureSet[-1 * testSize:]\n",
        "testLabelSet = labelSet[-1 * testSize:]\n",
        "featureSet = featureSet[0:-1 * testSize]\n",
        "labelSet = labelSet[0:-1 * testSize]"
      ],
      "execution_count": null,
      "outputs": [
        {
          "output_type": "stream",
          "name": "stdout",
          "text": [
            "(554546, 14, 8, 8)\n",
            "(554546, 2)\n"
          ]
        }
      ]
    },
    {
      "cell_type": "code",
      "metadata": {
        "colab": {
          "base_uri": "https://localhost:8080/"
        },
        "id": "USDVhI8B5gXN",
        "cellView": "form",
        "outputId": "59f0705a-0197-44cb-eb74-eac1e6828449"
      },
      "source": [
        "#@title Define the plotting function\n",
        "def plot_curve(epochs, hist, list_of_metrics):\n",
        "  \"\"\"Plot a curve of one or more classification metrics vs. epoch.\"\"\"\n",
        "  # list_of_metrics should be one of the names shown in:\n",
        "  # https://www.tensorflow.org/tutorials/structured_data/imbalanced_data#define_the_model_and_metrics\n",
        "\n",
        "  plt.figure()\n",
        "  plt.xlabel(\"Epoch\")\n",
        "  plt.ylabel(\"Value\")\n",
        "\n",
        "  for m in list_of_metrics:\n",
        "    x = hist[m]\n",
        "    plt.plot(epochs[1:], x[1:], label=m)\n",
        "\n",
        "  plt.legend()\n",
        "\n",
        "print(\"Loaded the plot_curve function.\")"
      ],
      "execution_count": null,
      "outputs": [
        {
          "output_type": "stream",
          "name": "stdout",
          "text": [
            "Loaded the plot_curve function.\n"
          ]
        }
      ]
    },
    {
      "cell_type": "code",
      "metadata": {
        "id": "Qv6-Fwv458mY",
        "cellView": "form"
      },
      "source": [
        "#@title Model Creation\n",
        "def createModel(lr):\n",
        "  kernelSize = (3,3)\n",
        "  filters = 64\n",
        "  model = tf.keras.models.Sequential()\n",
        "\n",
        "  model.add(tf.keras.layers.InputLayer(input_shape=(numFeats, 8, 8)))\n",
        "\n",
        "  model.add(tf.keras.layers.Conv2D(filters=filters, kernel_size=kernelSize, padding='same', activation='relu', input_shape=(numFeats, 8, 8), data_format='channels_first'))\n",
        "  model.add(tf.keras.layers.BatchNormalization())\n",
        "  model.add(tf.keras.layers.Dropout(rate=0.1))\n",
        "\n",
        "  model.add(tf.keras.layers.MaxPooling2D(pool_size=(2,2)))\n",
        "\n",
        "  model.add(tf.keras.layers.Conv2D(filters=filters, kernel_size=kernelSize, padding='same', activation='relu', data_format='channels_first'))\n",
        "  model.add(tf.keras.layers.BatchNormalization())\n",
        "  model.add(tf.keras.layers.Dropout(rate=0.1))\n",
        "\n",
        "  model.add(tf.keras.layers.MaxPooling2D(pool_size=(2,2)))\n",
        "\n",
        "  model.add(tf.keras.layers.Conv2D(filters=filters, kernel_size=kernelSize, padding='same', activation='relu', data_format='channels_first'))\n",
        "  model.add(tf.keras.layers.BatchNormalization())\n",
        "  model.add(tf.keras.layers.Dropout(rate=0.1))\n",
        "\n",
        "  model.add(tf.keras.layers.Flatten())\n",
        "\n",
        "  model.add(tf.keras.layers.Dense(units=128, activation='relu', kernel_regularizer='l2'))\n",
        "\n",
        "  model.add(tf.keras.layers.Dropout(rate=0.1))\n",
        "\n",
        "  model.add(tf.keras.layers.Dense(units=2, activation=\"softmax\",\n",
        "                                  name='Output'))\n",
        "\n",
        "  model.compile(optimizer=tf.keras.optimizers.Adam(learning_rate=lr),\n",
        "                loss=\"categorical_crossentropy\",\n",
        "                metrics=['accuracy'])\n",
        "\n",
        "\n",
        "  return model"
      ],
      "execution_count": null,
      "outputs": []
    },
    {
      "cell_type": "code",
      "metadata": {
        "id": "zeqDn3ba7DO6",
        "cellView": "form"
      },
      "source": [
        "#@title Model Training\n",
        "def trainModel(model, features, label, epochs,\n",
        "                batchSize=None, validationSplit=0.1):\n",
        "\n",
        "  history = model.fit(x=features, y=label, batch_size=batchSize,\n",
        "                      epochs=epochs, shuffle=True, validation_split=validationSplit)\n",
        "\n",
        "  epochs = history.epoch\n",
        "  hist = pd.DataFrame(history.history)\n",
        "\n",
        "  return epochs, hist"
      ],
      "execution_count": null,
      "outputs": []
    },
    {
      "cell_type": "code",
      "metadata": {
        "id": "CO69MCUg0RRt",
        "cellView": "form",
        "colab": {
          "base_uri": "https://localhost:8080/",
          "height": 1000
        },
        "outputId": "604a97cf-2136-4c4e-c3ca-43691c1e6fda"
      },
      "source": [
        "#@title The AI\n",
        "\n",
        "lr = 0.00008\n",
        "epochs = 60\n",
        "batchSize = 196\n",
        "validationSplit = 0.2\n",
        "\n",
        "model = createModel(lr)\n",
        "model.summary()\n",
        "\n",
        "epochs, hist = trainModel(model, featureSet, labelSet, epochs, batchSize, validationSplit)\n",
        "metrics = ['accuracy', 'val_accuracy']\n",
        "plot_curve(epochs, hist, metrics)\n",
        "\n",
        "print(\"Evaluate Model on Test Set:\")\n",
        "model.evaluate(x = testFeatureSet, y = testLabelSet, batch_size=batchSize)"
      ],
      "execution_count": null,
      "outputs": [
        {
          "output_type": "stream",
          "name": "stdout",
          "text": [
            "Model: \"sequential\"\n",
            "_________________________________________________________________\n",
            " Layer (type)                Output Shape              Param #   \n",
            "=================================================================\n",
            " conv2d (Conv2D)             (None, 64, 8, 8)          8128      \n",
            "                                                                 \n",
            " batch_normalization (BatchN  (None, 64, 8, 8)         32        \n",
            " ormalization)                                                   \n",
            "                                                                 \n",
            " dropout (Dropout)           (None, 64, 8, 8)          0         \n",
            "                                                                 \n",
            " max_pooling2d (MaxPooling2D  (None, 32, 4, 8)         0         \n",
            " )                                                               \n",
            "                                                                 \n",
            " conv2d_1 (Conv2D)           (None, 64, 4, 8)          18496     \n",
            "                                                                 \n",
            " batch_normalization_1 (Batc  (None, 64, 4, 8)         32        \n",
            " hNormalization)                                                 \n",
            "                                                                 \n",
            " dropout_1 (Dropout)         (None, 64, 4, 8)          0         \n",
            "                                                                 \n",
            " max_pooling2d_1 (MaxPooling  (None, 32, 2, 8)         0         \n",
            " 2D)                                                             \n",
            "                                                                 \n",
            " conv2d_2 (Conv2D)           (None, 64, 2, 8)          18496     \n",
            "                                                                 \n",
            " batch_normalization_2 (Batc  (None, 64, 2, 8)         32        \n",
            " hNormalization)                                                 \n",
            "                                                                 \n",
            " dropout_2 (Dropout)         (None, 64, 2, 8)          0         \n",
            "                                                                 \n",
            " flatten (Flatten)           (None, 1024)              0         \n",
            "                                                                 \n",
            " dense (Dense)               (None, 128)               131200    \n",
            "                                                                 \n",
            " dropout_3 (Dropout)         (None, 128)               0         \n",
            "                                                                 \n",
            " Output (Dense)              (None, 2)                 258       \n",
            "                                                                 \n",
            "=================================================================\n",
            "Total params: 176,674\n",
            "Trainable params: 176,626\n",
            "Non-trainable params: 48\n",
            "_________________________________________________________________\n",
            "Epoch 1/60\n",
            "2141/2141 [==============================] - 21s 6ms/step - loss: 1.2445 - accuracy: 0.5088 - val_loss: 0.7082 - val_accuracy: 0.5179\n",
            "Epoch 2/60\n",
            "2141/2141 [==============================] - 13s 6ms/step - loss: 0.6745 - accuracy: 0.5233 - val_loss: 0.6565 - val_accuracy: 0.5169\n",
            "Epoch 3/60\n",
            "2141/2141 [==============================] - 12s 5ms/step - loss: 0.6540 - accuracy: 0.5291 - val_loss: 0.6479 - val_accuracy: 0.5423\n",
            "Epoch 4/60\n",
            "2141/2141 [==============================] - 11s 5ms/step - loss: 0.6495 - accuracy: 0.5357 - val_loss: 0.6462 - val_accuracy: 0.5461\n",
            "Epoch 5/60\n",
            "2141/2141 [==============================] - 13s 6ms/step - loss: 0.6471 - accuracy: 0.5381 - val_loss: 0.6455 - val_accuracy: 0.5563\n",
            "Epoch 6/60\n",
            "2141/2141 [==============================] - 12s 6ms/step - loss: 0.6453 - accuracy: 0.5416 - val_loss: 0.6438 - val_accuracy: 0.5364\n",
            "Epoch 7/60\n",
            "2141/2141 [==============================] - 12s 6ms/step - loss: 0.6438 - accuracy: 0.5450 - val_loss: 0.6447 - val_accuracy: 0.5695\n",
            "Epoch 8/60\n",
            "2141/2141 [==============================] - 11s 5ms/step - loss: 0.6425 - accuracy: 0.5476 - val_loss: 0.6424 - val_accuracy: 0.5574\n",
            "Epoch 9/60\n",
            "2141/2141 [==============================] - 14s 6ms/step - loss: 0.6413 - accuracy: 0.5497 - val_loss: 0.6419 - val_accuracy: 0.5643\n",
            "Epoch 10/60\n",
            "2141/2141 [==============================] - 13s 6ms/step - loss: 0.6403 - accuracy: 0.5513 - val_loss: 0.6409 - val_accuracy: 0.5640\n",
            "Epoch 11/60\n",
            "2141/2141 [==============================] - 11s 5ms/step - loss: 0.6393 - accuracy: 0.5528 - val_loss: 0.6406 - val_accuracy: 0.5746\n",
            "Epoch 12/60\n",
            "2141/2141 [==============================] - 14s 6ms/step - loss: 0.6383 - accuracy: 0.5551 - val_loss: 0.6396 - val_accuracy: 0.5499\n",
            "Epoch 13/60\n",
            "2141/2141 [==============================] - 11s 5ms/step - loss: 0.6374 - accuracy: 0.5560 - val_loss: 0.6417 - val_accuracy: 0.5732\n",
            "Epoch 14/60\n",
            "2141/2141 [==============================] - 11s 5ms/step - loss: 0.6365 - accuracy: 0.5583 - val_loss: 0.6406 - val_accuracy: 0.5793\n",
            "Epoch 15/60\n",
            "2141/2141 [==============================] - 12s 6ms/step - loss: 0.6360 - accuracy: 0.5589 - val_loss: 0.6377 - val_accuracy: 0.5528\n",
            "Epoch 16/60\n",
            "2141/2141 [==============================] - 12s 5ms/step - loss: 0.6351 - accuracy: 0.5591 - val_loss: 0.6380 - val_accuracy: 0.5668\n",
            "Epoch 17/60\n",
            "2141/2141 [==============================] - 12s 5ms/step - loss: 0.6343 - accuracy: 0.5612 - val_loss: 0.6402 - val_accuracy: 0.5848\n",
            "Epoch 18/60\n",
            "2141/2141 [==============================] - 13s 6ms/step - loss: 0.6337 - accuracy: 0.5621 - val_loss: 0.6392 - val_accuracy: 0.5779\n",
            "Epoch 19/60\n",
            "2141/2141 [==============================] - 12s 6ms/step - loss: 0.6329 - accuracy: 0.5626 - val_loss: 0.6400 - val_accuracy: 0.5661\n",
            "Epoch 20/60\n",
            "2141/2141 [==============================] - 12s 6ms/step - loss: 0.6323 - accuracy: 0.5638 - val_loss: 0.6362 - val_accuracy: 0.5601\n",
            "Epoch 21/60\n",
            "2141/2141 [==============================] - 11s 5ms/step - loss: 0.6317 - accuracy: 0.5651 - val_loss: 0.6359 - val_accuracy: 0.5555\n",
            "Epoch 22/60\n",
            "2141/2141 [==============================] - 11s 5ms/step - loss: 0.6310 - accuracy: 0.5674 - val_loss: 0.6362 - val_accuracy: 0.5671\n",
            "Epoch 23/60\n",
            "2141/2141 [==============================] - 13s 6ms/step - loss: 0.6306 - accuracy: 0.5680 - val_loss: 0.6363 - val_accuracy: 0.5761\n",
            "Epoch 24/60\n",
            "2141/2141 [==============================] - 12s 6ms/step - loss: 0.6300 - accuracy: 0.5689 - val_loss: 0.6362 - val_accuracy: 0.5670\n",
            "Epoch 25/60\n",
            "2141/2141 [==============================] - 12s 6ms/step - loss: 0.6293 - accuracy: 0.5693 - val_loss: 0.6353 - val_accuracy: 0.5548\n",
            "Epoch 26/60\n",
            "2141/2141 [==============================] - 11s 5ms/step - loss: 0.6290 - accuracy: 0.5704 - val_loss: 0.6360 - val_accuracy: 0.5682\n",
            "Epoch 27/60\n",
            "2141/2141 [==============================] - 15s 7ms/step - loss: 0.6285 - accuracy: 0.5713 - val_loss: 0.6360 - val_accuracy: 0.5693\n",
            "Epoch 28/60\n",
            "2141/2141 [==============================] - 12s 6ms/step - loss: 0.6278 - accuracy: 0.5726 - val_loss: 0.6355 - val_accuracy: 0.5717\n",
            "Epoch 29/60\n",
            "2141/2141 [==============================] - 12s 6ms/step - loss: 0.6271 - accuracy: 0.5728 - val_loss: 0.6356 - val_accuracy: 0.5705\n",
            "Epoch 30/60\n",
            "2141/2141 [==============================] - 13s 6ms/step - loss: 0.6268 - accuracy: 0.5739 - val_loss: 0.6350 - val_accuracy: 0.5603\n",
            "Epoch 31/60\n",
            "2141/2141 [==============================] - 11s 5ms/step - loss: 0.6263 - accuracy: 0.5739 - val_loss: 0.6345 - val_accuracy: 0.5676\n",
            "Epoch 32/60\n",
            "2141/2141 [==============================] - 12s 6ms/step - loss: 0.6260 - accuracy: 0.5741 - val_loss: 0.6361 - val_accuracy: 0.5567\n",
            "Epoch 33/60\n",
            "2141/2141 [==============================] - 12s 6ms/step - loss: 0.6255 - accuracy: 0.5767 - val_loss: 0.6393 - val_accuracy: 0.5795\n",
            "Epoch 34/60\n",
            "2141/2141 [==============================] - 11s 5ms/step - loss: 0.6252 - accuracy: 0.5757 - val_loss: 0.6351 - val_accuracy: 0.5712\n",
            "Epoch 35/60\n",
            "2141/2141 [==============================] - 11s 5ms/step - loss: 0.6246 - accuracy: 0.5765 - val_loss: 0.6362 - val_accuracy: 0.5717\n",
            "Epoch 36/60\n",
            "2141/2141 [==============================] - 13s 6ms/step - loss: 0.6242 - accuracy: 0.5775 - val_loss: 0.6362 - val_accuracy: 0.5436\n",
            "Epoch 37/60\n",
            "2141/2141 [==============================] - 11s 5ms/step - loss: 0.6241 - accuracy: 0.5773 - val_loss: 0.6348 - val_accuracy: 0.5748\n",
            "Epoch 38/60\n",
            "2141/2141 [==============================] - 12s 6ms/step - loss: 0.6234 - accuracy: 0.5778 - val_loss: 0.6346 - val_accuracy: 0.5678\n",
            "Epoch 39/60\n",
            "2141/2141 [==============================] - 14s 6ms/step - loss: 0.6228 - accuracy: 0.5796 - val_loss: 0.6360 - val_accuracy: 0.5478\n",
            "Epoch 40/60\n",
            "2141/2141 [==============================] - 12s 6ms/step - loss: 0.6227 - accuracy: 0.5792 - val_loss: 0.6371 - val_accuracy: 0.5791\n",
            "Epoch 41/60\n",
            "2141/2141 [==============================] - 12s 6ms/step - loss: 0.6222 - accuracy: 0.5793 - val_loss: 0.6368 - val_accuracy: 0.5801\n",
            "Epoch 42/60\n",
            "2141/2141 [==============================] - 13s 6ms/step - loss: 0.6220 - accuracy: 0.5808 - val_loss: 0.6359 - val_accuracy: 0.5780\n",
            "Epoch 43/60\n",
            "2141/2141 [==============================] - 14s 6ms/step - loss: 0.6215 - accuracy: 0.5816 - val_loss: 0.6375 - val_accuracy: 0.5796\n",
            "Epoch 44/60\n",
            "2141/2141 [==============================] - 11s 5ms/step - loss: 0.6214 - accuracy: 0.5809 - val_loss: 0.6352 - val_accuracy: 0.5738\n",
            "Epoch 45/60\n",
            "2141/2141 [==============================] - 11s 5ms/step - loss: 0.6210 - accuracy: 0.5820 - val_loss: 0.6349 - val_accuracy: 0.5574\n",
            "Epoch 46/60\n",
            "2141/2141 [==============================] - 12s 6ms/step - loss: 0.6208 - accuracy: 0.5811 - val_loss: 0.6353 - val_accuracy: 0.5733\n",
            "Epoch 47/60\n",
            "2141/2141 [==============================] - 12s 6ms/step - loss: 0.6205 - accuracy: 0.5820 - val_loss: 0.6349 - val_accuracy: 0.5723\n",
            "Epoch 48/60\n",
            "2141/2141 [==============================] - 13s 6ms/step - loss: 0.6202 - accuracy: 0.5834 - val_loss: 0.6352 - val_accuracy: 0.5688\n",
            "Epoch 49/60\n",
            "2141/2141 [==============================] - 12s 6ms/step - loss: 0.6197 - accuracy: 0.5839 - val_loss: 0.6354 - val_accuracy: 0.5765\n",
            "Epoch 50/60\n",
            "2141/2141 [==============================] - 12s 6ms/step - loss: 0.6197 - accuracy: 0.5837 - val_loss: 0.6353 - val_accuracy: 0.5661\n",
            "Epoch 51/60\n",
            "2141/2141 [==============================] - 12s 6ms/step - loss: 0.6189 - accuracy: 0.5849 - val_loss: 0.6371 - val_accuracy: 0.5829\n",
            "Epoch 52/60\n",
            "2141/2141 [==============================] - 12s 6ms/step - loss: 0.6189 - accuracy: 0.5856 - val_loss: 0.6370 - val_accuracy: 0.5817\n",
            "Epoch 53/60\n",
            "2141/2141 [==============================] - 11s 5ms/step - loss: 0.6186 - accuracy: 0.5853 - val_loss: 0.6358 - val_accuracy: 0.5629\n",
            "Epoch 54/60\n",
            "2141/2141 [==============================] - 12s 6ms/step - loss: 0.6184 - accuracy: 0.5854 - val_loss: 0.6349 - val_accuracy: 0.5655\n",
            "Epoch 55/60\n",
            "2141/2141 [==============================] - 12s 6ms/step - loss: 0.6182 - accuracy: 0.5871 - val_loss: 0.6352 - val_accuracy: 0.5681\n",
            "Epoch 56/60\n",
            "2141/2141 [==============================] - 11s 5ms/step - loss: 0.6180 - accuracy: 0.5861 - val_loss: 0.6374 - val_accuracy: 0.5478\n",
            "Epoch 57/60\n",
            "2141/2141 [==============================] - 11s 5ms/step - loss: 0.6175 - accuracy: 0.5873 - val_loss: 0.6359 - val_accuracy: 0.5626\n",
            "Epoch 58/60\n",
            "2141/2141 [==============================] - 14s 6ms/step - loss: 0.6172 - accuracy: 0.5870 - val_loss: 0.6359 - val_accuracy: 0.5748\n",
            "Epoch 59/60\n",
            "2141/2141 [==============================] - 11s 5ms/step - loss: 0.6172 - accuracy: 0.5871 - val_loss: 0.6355 - val_accuracy: 0.5674\n",
            "Epoch 60/60\n",
            "2141/2141 [==============================] - 13s 6ms/step - loss: 0.6171 - accuracy: 0.5880 - val_loss: 0.6370 - val_accuracy: 0.5726\n",
            "Evaluate Model on Test Set:\n",
            "154/154 [==============================] - 1s 4ms/step - loss: 0.6419 - accuracy: 0.5682\n"
          ]
        },
        {
          "output_type": "execute_result",
          "data": {
            "text/plain": [
              "[0.6418625712394714, 0.5682333111763]"
            ]
          },
          "metadata": {},
          "execution_count": 14
        },
        {
          "output_type": "display_data",
          "data": {
            "text/plain": [
              "<Figure size 432x288 with 1 Axes>"
            ],
            "image/png": "[encoded data removed]"
          },
          "metadata": {
            "needs_background": "light"
          }
        }
      ]
    },
    {
      "cell_type": "code",
      "metadata": {
        "id": "QQ5T4a85KnZg",
        "cellView": "form"
      },
      "source": [
        "#@title Generating AI Move\n",
        "\n",
        "def getAIMove(board, movesAhead):\n",
        "  tic = time.perf_counter()\n",
        "  moveTree = generateMoveTree(board, movesAhead)\n",
        "  treeGenTime += time.perf_counter() - tic\n",
        "  print(\"Tree Generated\")\n",
        "  eval = minimax(moveTree, movesAhead * 2, -3, 3, board.turn)\n",
        "  return moveTree.children[[move.score for move in moveTree.children].index(eval)].data.copy()\n",
        "\n",
        "class Node():\n",
        "  def __init__(self, data):\n",
        "    self.data = data\n",
        "    self.children = []\n",
        "    self.score = 0.0\n",
        "  def setChildren(self,obj):\n",
        "    self.children = obj\n",
        "\n",
        "# Generates a tree of possible moves with n ply\n",
        "def generateMoveTree(move, n):\n",
        "  children = [Node(move.data.copy()) for available in move.data.legal_moves]\n",
        "  for i, available in enumerate(move.data.legal_moves):\n",
        "    children[i].data.push(available)\n",
        "  move.setChildren(children)\n",
        "  if n - 1 != 0:\n",
        "    for node in move.children:\n",
        "      generateMoveTree(node, n - 1)\n",
        "\n",
        "# Alpha = worst possible score for white assuming white plays logically\n",
        "# Beta = the exact oppposite\n",
        "# Best Black = -1, Best White = 1\n",
        "def minimax(moveTree, depth, alpha, beta, isWhite):\n",
        "  if moveTree.data.is_checkmate():\n",
        "    return isWhite * 3 - 1\n",
        "  if depth == 0:\n",
        "    features = np.zeros((1, numFeats, 8, 8), dtype=np.int8)\n",
        "    features[0] = comprehendBoard(moveTree.data)\n",
        "    prediction = model.predict(features, verbose=False)\n",
        "    moveTree.score = prediction[0][1] - prediction[0][0]\n",
        "    return moveTree.score\n",
        "  if isWhite:\n",
        "    maximum = -1\n",
        "    for node in moveTree.children:\n",
        "      eval = minimax(node, depth - 1, alpha, beta, 0)\n",
        "      maximum = max(maximum, eval)\n",
        "      alpha = max(alpha, eval)\n",
        "      if beta <= alpha:\n",
        "        break\n",
        "    moveTree.score = maximum\n",
        "    return maximum\n",
        "  else:\n",
        "    minimum = 1\n",
        "    for node in moveTree.children:\n",
        "      eval = minimax(node, depth - 1, alpha, beta, 1)\n",
        "      minimum = min(minimum, eval)\n",
        "      beta = min(beta, eval)\n",
        "      if beta <= alpha:\n",
        "        break\n",
        "    moveTree.score = minimum\n",
        "    return minimum\n"
      ],
      "execution_count": null,
      "outputs": []
    },
    {
      "cell_type": "code",
      "metadata": {
        "id": "r0fHSGxKFG1e",
        "cellView": "form"
      },
      "source": [
        "#@title Testing Play\n",
        "\n",
        "def playerVsAI():\n",
        "  board = chess.Board()\n",
        "  moveCount = 0\n",
        "  while True:\n",
        "    if moveCount == 0:\n",
        "      board.push(board.parse_san('e4'))\n",
        "    elif moveCount == 1:\n",
        "      board.push(board.parse_san('Nf3'))\n",
        "    else:\n",
        "      tic = time.perf_counter()\n",
        "      newBoard = getAIMove(board)\n",
        "      board.push(newBoard.move_stack[-1])\n",
        "      print(f'Time: {time.perf_counter() - tic} seconds')\n",
        "    print(f'\\n{board}')\n",
        "    if board.is_game_over():\n",
        "        break\n",
        "    while True:\n",
        "      move = input(\"Enter a move: \")\n",
        "      try:\n",
        "        board.push_san(move)\n",
        "        break\n",
        "      except:\n",
        "        print('Invalid move')\n",
        "    if board.is_game_over():\n",
        "        break\n",
        "    moveCount += 1\n",
        "\n",
        "def AIVsAI(board, movesAhead, variance):\n",
        "  treeGenTime = 0\n",
        "  minimaxTime = 0\n",
        "  board.push(board.parse_san('e4'))\n",
        "  board.push(board.parse_san('e5'))\n",
        "  board.push(board.parse_san('Nf3'))\n",
        "  board.push(board.parse_san('Nc6'))\n",
        "  totalPly = movesAhead * 2\n",
        "  while 1:\n",
        "    tic = time.perf_counter()\n",
        "    moveTree = Node(board)\n",
        "    generateMoveTree(moveTree, totalPly)\n",
        "    treeGenTime += time.perf_counter() - tic\n",
        "    print(\"Tree Generated\")\n",
        "    toc = time.perf_counter()\n",
        "    eval = minimax(moveTree, totalPly, -3, 3, board.turn)\n",
        "    print(eval)\n",
        "    minimaxTime += time.perf_counter() - toc\n",
        "\n",
        "    if board.turn:\n",
        "      scores = [move.score for move in moveTree.children]\n",
        "    else:\n",
        "      scores = [move.score * -1 + 1 for move in moveTree.children]\n",
        "    index = np.argmax(np.add(scores, (np.random.rand(len(scores)) - 0.5) * np.std(scores) * 2 * variance))\n",
        "    board.push(moveTree.children[index].data.move_stack[-1])\n",
        "    print(f'Time: {time.perf_counter() - tic} seconds')\n",
        "    print(f'\\n{board}')\n",
        "    if board.is_game_over():\n",
        "      for move in moveTree.children:\n",
        "        print(move.score)\n",
        "        if move.score == 0.0:\n",
        "          print(move.data)\n",
        "      break\n",
        "  print(\"Tree Generation Time: \", end=\"\")\n",
        "  print(treeGenTime)\n",
        "  print(\"Average Tree Generation Time: \", end=\"\")\n",
        "  print(treeGenTime / len(board.move_stack))\n",
        "  print(\"Total Minimax Time: \", end=\"\")\n",
        "  print(minimaxTime)\n",
        "  print(\"Average Minimax Time: \", end=\"\")\n",
        "  print(minimaxTime / len(board.move_stack))\n",
        "\n",
        "movesAhead = 1\n",
        "variance = 1 # Number of standard deviations to modify the scores for each move by\n",
        "board = chess.Board()\n",
        "AIVsAI(board, movesAhead, variance)\n",
        "\n",
        "board\n",
        ""
      ],
      "execution_count": null,
      "outputs": []
    },
    {
      "cell_type": "code",
      "metadata": {
        "id": "mza8jTcgcUE_"
      },
      "source": [
        "prev = 0\n",
        "newBoard = chess.Board()"
      ],
      "execution_count": null,
      "outputs": []
    },
    {
      "cell_type": "code",
      "metadata": {
        "colab": {
          "base_uri": "https://localhost:8080/",
          "height": 411
        },
        "id": "jT_e1KkYcNKn",
        "outputId": "87f6e8cf-7dc8-4731-9758-8be821226eeb"
      },
      "source": [
        "newBoard.push(board.move_stack[prev])\n",
        "prev += 1\n",
        "newBoard"
      ],
      "execution_count": null,
      "outputs": [
        {
          "output_type": "execute_result",
          "data": {
            "text/plain": [
              "Board('r3kbnr/1ppb1p1p/2np2p1/pB2P1q1/Q3P3/2P2N1P/PP3PP1/RNB1K2R w KQkq - 1 9')"
            ],
            "image/svg+xml": "<svg height=\"390\" version=\"1.1\" viewBox=\"0 0 390 390\" width=\"390\" xmlns=\"http://www.w3.org/2000/svg\" xmlns:xlink=\"http://www.w3.org/1999/xlink\"><defs><g class=\"white pawn\" id=\"white-pawn\"><path d=\"M22 9c-2.21 0-4 1.79-4 4 0 .89.29 1.71.78 2.38-1.95 1.12-3.28 3.21-3.28 5.62 0 2.03.94 3.84 2.41 5.03-3 1.06-7.41 5.55-7.41 13.47h23c0-7.92-4.41-12.41-7.41-13.47 1.47-1.19 2.41-3 2.41-5.03 0-2.41-1.33-4.5-3.28-5.62.49-.67.78-1.49.78-2.38 0-2.21-1.79-4-4-4z\" fill=\"#fff\" stroke=\"#000\" stroke-linecap=\"round\" stroke-width=\"1.5\" /></g><g class=\"white knight\" fill=\"none\" fill-rule=\"evenodd\" id=\"white-knight\" stroke=\"#000\" stroke-linecap=\"round\" stroke-linejoin=\"round\" stroke-width=\"1.5\"><path d=\"M 22,10 C 32.5,11 38.5,18 38,39 L 15,39 C 15,30 25,32.5 23,18\" style=\"fill:#ffffff; stroke:#000000;\" /><path d=\"M 24,18 C 24.38,20.91 18.45,25.37 16,27 C 13,29 13.18,31.34 11,31 C 9.958,30.06 12.41,27.96 11,28 C 10,28 11.19,29.23 10,30 C 9,30 5.997,31 6,26 C 6,24 12,14 12,14 C 12,14 13.89,12.1 14,10.5 C 13.27,9.506 13.5,8.5 13.5,7.5 C 14.5,6.5 16.5,10 16.5,10 L 18.5,10 C 18.5,10 19.28,8.008 21,7 C 22,7 22,10 22,10\" style=\"fill:#ffffff; stroke:#000000;\" /><path d=\"M 9.5 25.5 A 0.5 0.5 0 1 1 8.5,25.5 A 0.5 0.5 0 1 1 9.5 25.5 z\" style=\"fill:#000000; stroke:#000000;\" /><path d=\"M 15 15.5 A 0.5 1.5 0 1 1 14,15.5 A 0.5 1.5 0 1 1 15 15.5 z\" style=\"fill:#000000; stroke:#000000;\" transform=\"matrix(0.866,0.5,-0.5,0.866,9.693,-5.173)\" /></g><g class=\"white bishop\" fill=\"none\" fill-rule=\"evenodd\" id=\"white-bishop\" stroke=\"#000\" stroke-linecap=\"round\" stroke-linejoin=\"round\" stroke-width=\"1.5\"><g fill=\"#fff\" stroke-linecap=\"butt\"><path d=\"M9 36c3.39-.97 10.11.43 13.5-2 3.39 2.43 10.11 1.03 13.5 2 0 0 1.65.54 3 2-.68.97-1.65.99-3 .5-3.39-.97-10.11.46-13.5-1-3.39 1.46-10.11.03-13.5 1-1.354.49-2.323.47-3-.5 1.354-1.94 3-2 3-2zM15 32c2.5 2.5 12.5 2.5 15 0 .5-1.5 0-2 0-2 0-2.5-2.5-4-2.5-4 5.5-1.5 6-11.5-5-15.5-11 4-10.5 14-5 15.5 0 0-2.5 1.5-2.5 4 0 0-.5.5 0 2zM25 8a2.5 2.5 0 1 1-5 0 2.5 2.5 0 1 1 5 0z\" /></g><path d=\"M17.5 26h10M15 30h15m-7.5-14.5v5M20 18h5\" stroke-linejoin=\"miter\" /></g><g class=\"white rook\" fill=\"#fff\" fill-rule=\"evenodd\" id=\"white-rook\" stroke=\"#000\" stroke-linecap=\"round\" stroke-linejoin=\"round\" stroke-width=\"1.5\"><path d=\"M9 39h27v-3H9v3zM12 36v-4h21v4H12zM11 14V9h4v2h5V9h5v2h5V9h4v5\" stroke-linecap=\"butt\" /><path d=\"M34 14l-3 3H14l-3-3\" /><path d=\"M31 17v12.5H14V17\" stroke-linecap=\"butt\" stroke-linejoin=\"miter\" /><path d=\"M31 29.5l1.5 2.5h-20l1.5-2.5\" /><path d=\"M11 14h23\" fill=\"none\" stroke-linejoin=\"miter\" /></g><g class=\"white queen\" fill=\"#fff\" fill-rule=\"evenodd\" id=\"white-queen\" stroke=\"#000\" stroke-linecap=\"round\" stroke-linejoin=\"round\" stroke-width=\"1.5\"><path d=\"M8 12a2 2 0 1 1-4 0 2 2 0 1 1 4 0zM24.5 7.5a2 2 0 1 1-4 0 2 2 0 1 1 4 0zM41 12a2 2 0 1 1-4 0 2 2 0 1 1 4 0zM16 8.5a2 2 0 1 1-4 0 2 2 0 1 1 4 0zM33 9a2 2 0 1 1-4 0 2 2 0 1 1 4 0z\" /><path d=\"M9 26c8.5-1.5 21-1.5 27 0l2-12-7 11V11l-5.5 13.5-3-15-3 15-5.5-14V25L7 14l2 12zM9 26c0 2 1.5 2 2.5 4 1 1.5 1 1 .5 3.5-1.5 1-1.5 2.5-1.5 2.5-1.5 1.5.5 2.5.5 2.5 6.5 1 16.5 1 23 0 0 0 1.5-1 0-2.5 0 0 .5-1.5-1-2.5-.5-2.5-.5-2 .5-3.5 1-2 2.5-2 2.5-4-8.5-1.5-18.5-1.5-27 0z\" stroke-linecap=\"butt\" /><path d=\"M11.5 30c3.5-1 18.5-1 22 0M12 33.5c6-1 15-1 21 0\" fill=\"none\" /></g><g class=\"white king\" fill=\"none\" fill-rule=\"evenodd\" id=\"white-king\" stroke=\"#000\" stroke-linecap=\"round\" stroke-linejoin=\"round\" stroke-width=\"1.5\"><path d=\"M22.5 11.63V6M20 8h5\" stroke-linejoin=\"miter\" /><path d=\"M22.5 25s4.5-7.5 3-10.5c0 0-1-2.5-3-2.5s-3 2.5-3 2.5c-1.5 3 3 10.5 3 10.5\" fill=\"#fff\" stroke-linecap=\"butt\" stroke-linejoin=\"miter\" /><path d=\"M11.5 37c5.5 3.5 15.5 3.5 21 0v-7s9-4.5 6-10.5c-4-6.5-13.5-3.5-16 4V27v-3.5c-3.5-7.5-13-10.5-16-4-3 6 5 10 5 10V37z\" fill=\"#fff\" /><path d=\"M11.5 30c5.5-3 15.5-3 21 0m-21 3.5c5.5-3 15.5-3 21 0m-21 3.5c5.5-3 15.5-3 21 0\" /></g><g class=\"black pawn\" id=\"black-pawn\"><path d=\"M22 9c-2.21 0-4 1.79-4 4 0 .89.29 1.71.78 2.38-1.95 1.12-3.28 3.21-3.28 5.62 0 2.03.94 3.84 2.41 5.03-3 1.06-7.41 5.55-7.41 13.47h23c0-7.92-4.41-12.41-7.41-13.47 1.47-1.19 2.41-3 2.41-5.03 0-2.41-1.33-4.5-3.28-5.62.49-.67.78-1.49.78-2.38 0-2.21-1.79-4-4-4z\" stroke=\"#000\" stroke-linecap=\"round\" stroke-width=\"1.5\" /></g><g class=\"black knight\" fill=\"none\" fill-rule=\"evenodd\" id=\"black-knight\" stroke=\"#000\" stroke-linecap=\"round\" stroke-linejoin=\"round\" stroke-width=\"1.5\"><path d=\"M 22,10 C 32.5,11 38.5,18 38,39 L 15,39 C 15,30 25,32.5 23,18\" style=\"fill:#000000; stroke:#000000;\" /><path d=\"M 24,18 C 24.38,20.91 18.45,25.37 16,27 C 13,29 13.18,31.34 11,31 C 9.958,30.06 12.41,27.96 11,28 C 10,28 11.19,29.23 10,30 C 9,30 5.997,31 6,26 C 6,24 12,14 12,14 C 12,14 13.89,12.1 14,10.5 C 13.27,9.506 13.5,8.5 13.5,7.5 C 14.5,6.5 16.5,10 16.5,10 L 18.5,10 C 18.5,10 19.28,8.008 21,7 C 22,7 22,10 22,10\" style=\"fill:#000000; stroke:#000000;\" /><path d=\"M 9.5 25.5 A 0.5 0.5 0 1 1 8.5,25.5 A 0.5 0.5 0 1 1 9.5 25.5 z\" style=\"fill:#ececec; stroke:#ececec;\" /><path d=\"M 15 15.5 A 0.5 1.5 0 1 1 14,15.5 A 0.5 1.5 0 1 1 15 15.5 z\" style=\"fill:#ececec; stroke:#ececec;\" transform=\"matrix(0.866,0.5,-0.5,0.866,9.693,-5.173)\" /><path d=\"M 24.55,10.4 L 24.1,11.85 L 24.6,12 C 27.75,13 30.25,14.49 32.5,18.75 C 34.75,23.01 35.75,29.06 35.25,39 L 35.2,39.5 L 37.45,39.5 L 37.5,39 C 38,28.94 36.62,22.15 34.25,17.66 C 31.88,13.17 28.46,11.02 25.06,10.5 L 24.55,10.4 z \" style=\"fill:#ececec; stroke:none;\" /></g><g class=\"black bishop\" fill=\"none\" fill-rule=\"evenodd\" id=\"black-bishop\" stroke=\"#000\" stroke-linecap=\"round\" stroke-linejoin=\"round\" stroke-width=\"1.5\"><path d=\"M9 36c3.39-.97 10.11.43 13.5-2 3.39 2.43 10.11 1.03 13.5 2 0 0 1.65.54 3 2-.68.97-1.65.99-3 .5-3.39-.97-10.11.46-13.5-1-3.39 1.46-10.11.03-13.5 1-1.354.49-2.323.47-3-.5 1.354-1.94 3-2 3-2zm6-4c2.5 2.5 12.5 2.5 15 0 .5-1.5 0-2 0-2 0-2.5-2.5-4-2.5-4 5.5-1.5 6-11.5-5-15.5-11 4-10.5 14-5 15.5 0 0-2.5 1.5-2.5 4 0 0-.5.5 0 2zM25 8a2.5 2.5 0 1 1-5 0 2.5 2.5 0 1 1 5 0z\" fill=\"#000\" stroke-linecap=\"butt\" /><path d=\"M17.5 26h10M15 30h15m-7.5-14.5v5M20 18h5\" stroke=\"#fff\" stroke-linejoin=\"miter\" /></g><g class=\"black rook\" fill=\"#000\" fill-rule=\"evenodd\" id=\"black-rook\" stroke=\"#000\" stroke-linecap=\"round\" stroke-linejoin=\"round\" stroke-width=\"1.5\"><path d=\"M9 39h27v-3H9v3zM12.5 32l1.5-2.5h17l1.5 2.5h-20zM12 36v-4h21v4H12z\" stroke-linecap=\"butt\" /><path d=\"M14 29.5v-13h17v13H14z\" stroke-linecap=\"butt\" stroke-linejoin=\"miter\" /><path d=\"M14 16.5L11 14h23l-3 2.5H14zM11 14V9h4v2h5V9h5v2h5V9h4v5H11z\" stroke-linecap=\"butt\" /><path d=\"M12 35.5h21M13 31.5h19M14 29.5h17M14 16.5h17M11 14h23\" fill=\"none\" stroke=\"#fff\" stroke-linejoin=\"miter\" stroke-width=\"1\" /></g><g class=\"black queen\" fill=\"#000\" fill-rule=\"evenodd\" id=\"black-queen\" stroke=\"#000\" stroke-linecap=\"round\" stroke-linejoin=\"round\" stroke-width=\"1.5\"><g fill=\"#000\" stroke=\"none\"><circle cx=\"6\" cy=\"12\" r=\"2.75\" /><circle cx=\"14\" cy=\"9\" r=\"2.75\" /><circle cx=\"22.5\" cy=\"8\" r=\"2.75\" /><circle cx=\"31\" cy=\"9\" r=\"2.75\" /><circle cx=\"39\" cy=\"12\" r=\"2.75\" /></g><path d=\"M9 26c8.5-1.5 21-1.5 27 0l2.5-12.5L31 25l-.3-14.1-5.2 13.6-3-14.5-3 14.5-5.2-13.6L14 25 6.5 13.5 9 26zM9 26c0 2 1.5 2 2.5 4 1 1.5 1 1 .5 3.5-1.5 1-1.5 2.5-1.5 2.5-1.5 1.5.5 2.5.5 2.5 6.5 1 16.5 1 23 0 0 0 1.5-1 0-2.5 0 0 .5-1.5-1-2.5-.5-2.5-.5-2 .5-3.5 1-2 2.5-2 2.5-4-8.5-1.5-18.5-1.5-27 0z\" stroke-linecap=\"butt\" /><path d=\"M11 38.5a35 35 1 0 0 23 0\" fill=\"none\" stroke-linecap=\"butt\" /><path d=\"M11 29a35 35 1 0 1 23 0M12.5 31.5h20M11.5 34.5a35 35 1 0 0 22 0M10.5 37.5a35 35 1 0 0 24 0\" fill=\"none\" stroke=\"#fff\" /></g><g class=\"black king\" fill=\"none\" fill-rule=\"evenodd\" id=\"black-king\" stroke=\"#000\" stroke-linecap=\"round\" stroke-linejoin=\"round\" stroke-width=\"1.5\"><path d=\"M22.5 11.63V6\" stroke-linejoin=\"miter\" /><path d=\"M22.5 25s4.5-7.5 3-10.5c0 0-1-2.5-3-2.5s-3 2.5-3 2.5c-1.5 3 3 10.5 3 10.5\" fill=\"#000\" stroke-linecap=\"butt\" stroke-linejoin=\"miter\" /><path d=\"M11.5 37c5.5 3.5 15.5 3.5 21 0v-7s9-4.5 6-10.5c-4-6.5-13.5-3.5-16 4V27v-3.5c-3.5-7.5-13-10.5-16-4-3 6 5 10 5 10V37z\" fill=\"#000\" /><path d=\"M20 8h5\" stroke-linejoin=\"miter\" /><path d=\"M32 29.5s8.5-4 6.03-9.65C34.15 14 25 18 22.5 24.5l.01 2.1-.01-2.1C20 18 9.906 14 6.997 19.85c-2.497 5.65 4.853 9 4.853 9M11.5 30c5.5-3 15.5-3 21 0m-21 3.5c5.5-3 15.5-3 21 0m-21 3.5c5.5-3 15.5-3 21 0\" stroke=\"#fff\" /></g></defs><rect fill=\"#212121\" height=\"390\" width=\"390\" x=\"0\" y=\"0\" /><rect class=\"square dark a1\" fill=\"#d18b47\" height=\"45\" stroke=\"none\" width=\"45\" x=\"15\" y=\"330\" /><use transform=\"translate(15, 330)\" xlink:href=\"#white-rook\" /><rect class=\"square light b1\" fill=\"#ffce9e\" height=\"45\" stroke=\"none\" width=\"45\" x=\"60\" y=\"330\" /><use transform=\"translate(60, 330)\" xlink:href=\"#white-knight\" /><rect class=\"square dark c1\" fill=\"#d18b47\" height=\"45\" stroke=\"none\" width=\"45\" x=\"105\" y=\"330\" /><use transform=\"translate(105, 330)\" xlink:href=\"#white-bishop\" /><rect class=\"square light d1\" fill=\"#ffce9e\" height=\"45\" stroke=\"none\" width=\"45\" x=\"150\" y=\"330\" /><rect class=\"square dark e1\" fill=\"#d18b47\" height=\"45\" stroke=\"none\" width=\"45\" x=\"195\" y=\"330\" /><use transform=\"translate(195, 330)\" xlink:href=\"#white-king\" /><rect class=\"square light f1\" fill=\"#ffce9e\" height=\"45\" stroke=\"none\" width=\"45\" x=\"240\" y=\"330\" /><rect class=\"square dark g1\" fill=\"#d18b47\" height=\"45\" stroke=\"none\" width=\"45\" x=\"285\" y=\"330\" /><rect class=\"square light h1\" fill=\"#ffce9e\" height=\"45\" stroke=\"none\" width=\"45\" x=\"330\" y=\"330\" /><use transform=\"translate(330, 330)\" xlink:href=\"#white-rook\" /><rect class=\"square light a2\" fill=\"#ffce9e\" height=\"45\" stroke=\"none\" width=\"45\" x=\"15\" y=\"285\" /><use transform=\"translate(15, 285)\" xlink:href=\"#white-pawn\" /><rect class=\"square dark b2\" fill=\"#d18b47\" height=\"45\" stroke=\"none\" width=\"45\" x=\"60\" y=\"285\" /><use transform=\"translate(60, 285)\" xlink:href=\"#white-pawn\" /><rect class=\"square light c2\" fill=\"#ffce9e\" height=\"45\" stroke=\"none\" width=\"45\" x=\"105\" y=\"285\" /><rect class=\"square dark d2\" fill=\"#d18b47\" height=\"45\" stroke=\"none\" width=\"45\" x=\"150\" y=\"285\" /><rect class=\"square light e2\" fill=\"#ffce9e\" height=\"45\" stroke=\"none\" width=\"45\" x=\"195\" y=\"285\" /><rect class=\"square dark f2\" fill=\"#d18b47\" height=\"45\" stroke=\"none\" width=\"45\" x=\"240\" y=\"285\" /><use transform=\"translate(240, 285)\" xlink:href=\"#white-pawn\" /><rect class=\"square light g2\" fill=\"#ffce9e\" height=\"45\" stroke=\"none\" width=\"45\" x=\"285\" y=\"285\" /><use transform=\"translate(285, 285)\" xlink:href=\"#white-pawn\" /><rect class=\"square dark h2\" fill=\"#d18b47\" height=\"45\" stroke=\"none\" width=\"45\" x=\"330\" y=\"285\" /><rect class=\"square dark a3\" fill=\"#d18b47\" height=\"45\" stroke=\"none\" width=\"45\" x=\"15\" y=\"240\" /><rect class=\"square light b3\" fill=\"#ffce9e\" height=\"45\" stroke=\"none\" width=\"45\" x=\"60\" y=\"240\" /><rect class=\"square dark c3\" fill=\"#d18b47\" height=\"45\" stroke=\"none\" width=\"45\" x=\"105\" y=\"240\" /><use transform=\"translate(105, 240)\" xlink:href=\"#white-pawn\" /><rect class=\"square light d3\" fill=\"#ffce9e\" height=\"45\" stroke=\"none\" width=\"45\" x=\"150\" y=\"240\" /><rect class=\"square dark e3\" fill=\"#d18b47\" height=\"45\" stroke=\"none\" width=\"45\" x=\"195\" y=\"240\" /><rect class=\"square light f3\" fill=\"#ffce9e\" height=\"45\" stroke=\"none\" width=\"45\" x=\"240\" y=\"240\" /><use transform=\"translate(240, 240)\" xlink:href=\"#white-knight\" /><rect class=\"square dark g3\" fill=\"#d18b47\" height=\"45\" stroke=\"none\" width=\"45\" x=\"285\" y=\"240\" /><rect class=\"square light h3\" fill=\"#ffce9e\" height=\"45\" stroke=\"none\" width=\"45\" x=\"330\" y=\"240\" /><use transform=\"translate(330, 240)\" xlink:href=\"#white-pawn\" /><rect class=\"square light a4\" fill=\"#ffce9e\" height=\"45\" stroke=\"none\" width=\"45\" x=\"15\" y=\"195\" /><use transform=\"translate(15, 195)\" xlink:href=\"#white-queen\" /><rect class=\"square dark b4\" fill=\"#d18b47\" height=\"45\" stroke=\"none\" width=\"45\" x=\"60\" y=\"195\" /><rect class=\"square light c4\" fill=\"#ffce9e\" height=\"45\" stroke=\"none\" width=\"45\" x=\"105\" y=\"195\" /><rect class=\"square dark d4\" fill=\"#d18b47\" height=\"45\" stroke=\"none\" width=\"45\" x=\"150\" y=\"195\" /><rect class=\"square light e4\" fill=\"#ffce9e\" height=\"45\" stroke=\"none\" width=\"45\" x=\"195\" y=\"195\" /><use transform=\"translate(195, 195)\" xlink:href=\"#white-pawn\" /><rect class=\"square dark f4\" fill=\"#d18b47\" height=\"45\" stroke=\"none\" width=\"45\" x=\"240\" y=\"195\" /><rect class=\"square light g4\" fill=\"#ffce9e\" height=\"45\" stroke=\"none\" width=\"45\" x=\"285\" y=\"195\" /><rect class=\"square dark h4\" fill=\"#d18b47\" height=\"45\" stroke=\"none\" width=\"45\" x=\"330\" y=\"195\" /><rect class=\"square dark a5\" fill=\"#d18b47\" height=\"45\" stroke=\"none\" width=\"45\" x=\"15\" y=\"150\" /><use transform=\"translate(15, 150)\" xlink:href=\"#black-pawn\" /><rect class=\"square light b5\" fill=\"#ffce9e\" height=\"45\" stroke=\"none\" width=\"45\" x=\"60\" y=\"150\" /><use transform=\"translate(60, 150)\" xlink:href=\"#white-bishop\" /><rect class=\"square dark c5\" fill=\"#d18b47\" height=\"45\" stroke=\"none\" width=\"45\" x=\"105\" y=\"150\" /><rect class=\"square light d5\" fill=\"#ffce9e\" height=\"45\" stroke=\"none\" width=\"45\" x=\"150\" y=\"150\" /><rect class=\"square dark e5\" fill=\"#d18b47\" height=\"45\" stroke=\"none\" width=\"45\" x=\"195\" y=\"150\" /><use transform=\"translate(195, 150)\" xlink:href=\"#white-pawn\" /><rect class=\"square light f5\" fill=\"#ffce9e\" height=\"45\" stroke=\"none\" width=\"45\" x=\"240\" y=\"150\" /><rect class=\"square dark lastmove g5\" fill=\"#aaa23b\" height=\"45\" stroke=\"none\" width=\"45\" x=\"285\" y=\"150\" /><use transform=\"translate(285, 150)\" xlink:href=\"#black-queen\" /><rect class=\"square light h5\" fill=\"#ffce9e\" height=\"45\" stroke=\"none\" width=\"45\" x=\"330\" y=\"150\" /><rect class=\"square light a6\" fill=\"#ffce9e\" height=\"45\" stroke=\"none\" width=\"45\" x=\"15\" y=\"105\" /><rect class=\"square dark b6\" fill=\"#d18b47\" height=\"45\" stroke=\"none\" width=\"45\" x=\"60\" y=\"105\" /><rect class=\"square light c6\" fill=\"#ffce9e\" height=\"45\" stroke=\"none\" width=\"45\" x=\"105\" y=\"105\" /><use transform=\"translate(105, 105)\" xlink:href=\"#black-knight\" /><rect class=\"square dark d6\" fill=\"#d18b47\" height=\"45\" stroke=\"none\" width=\"45\" x=\"150\" y=\"105\" /><use transform=\"translate(150, 105)\" xlink:href=\"#black-pawn\" /><rect class=\"square light e6\" fill=\"#ffce9e\" height=\"45\" stroke=\"none\" width=\"45\" x=\"195\" y=\"105\" /><rect class=\"square dark f6\" fill=\"#d18b47\" height=\"45\" stroke=\"none\" width=\"45\" x=\"240\" y=\"105\" /><rect class=\"square light g6\" fill=\"#ffce9e\" height=\"45\" stroke=\"none\" width=\"45\" x=\"285\" y=\"105\" /><use transform=\"translate(285, 105)\" xlink:href=\"#black-pawn\" /><rect class=\"square dark h6\" fill=\"#d18b47\" height=\"45\" stroke=\"none\" width=\"45\" x=\"330\" y=\"105\" /><rect class=\"square dark a7\" fill=\"#d18b47\" height=\"45\" stroke=\"none\" width=\"45\" x=\"15\" y=\"60\" /><rect class=\"square light b7\" fill=\"#ffce9e\" height=\"45\" stroke=\"none\" width=\"45\" x=\"60\" y=\"60\" /><use transform=\"translate(60, 60)\" xlink:href=\"#black-pawn\" /><rect class=\"square dark c7\" fill=\"#d18b47\" height=\"45\" stroke=\"none\" width=\"45\" x=\"105\" y=\"60\" /><use transform=\"translate(105, 60)\" xlink:href=\"#black-pawn\" /><rect class=\"square light d7\" fill=\"#ffce9e\" height=\"45\" stroke=\"none\" width=\"45\" x=\"150\" y=\"60\" /><use transform=\"translate(150, 60)\" xlink:href=\"#black-bishop\" /><rect class=\"square dark lastmove e7\" fill=\"#aaa23b\" height=\"45\" stroke=\"none\" width=\"45\" x=\"195\" y=\"60\" /><rect class=\"square light f7\" fill=\"#ffce9e\" height=\"45\" stroke=\"none\" width=\"45\" x=\"240\" y=\"60\" /><use transform=\"translate(240, 60)\" xlink:href=\"#black-pawn\" /><rect class=\"square dark g7\" fill=\"#d18b47\" height=\"45\" stroke=\"none\" width=\"45\" x=\"285\" y=\"60\" /><rect class=\"square light h7\" fill=\"#ffce9e\" height=\"45\" stroke=\"none\" width=\"45\" x=\"330\" y=\"60\" /><use transform=\"translate(330, 60)\" xlink:href=\"#black-pawn\" /><rect class=\"square light a8\" fill=\"#ffce9e\" height=\"45\" stroke=\"none\" width=\"45\" x=\"15\" y=\"15\" /><use transform=\"translate(15, 15)\" xlink:href=\"#black-rook\" /><rect class=\"square dark b8\" fill=\"#d18b47\" height=\"45\" stroke=\"none\" width=\"45\" x=\"60\" y=\"15\" /><rect class=\"square light c8\" fill=\"#ffce9e\" height=\"45\" stroke=\"none\" width=\"45\" x=\"105\" y=\"15\" /><rect class=\"square dark d8\" fill=\"#d18b47\" height=\"45\" stroke=\"none\" width=\"45\" x=\"150\" y=\"15\" /><rect class=\"square light e8\" fill=\"#ffce9e\" height=\"45\" stroke=\"none\" width=\"45\" x=\"195\" y=\"15\" /><use transform=\"translate(195, 15)\" xlink:href=\"#black-king\" /><rect class=\"square dark f8\" fill=\"#d18b47\" height=\"45\" stroke=\"none\" width=\"45\" x=\"240\" y=\"15\" /><use transform=\"translate(240, 15)\" xlink:href=\"#black-bishop\" /><rect class=\"square light g8\" fill=\"#ffce9e\" height=\"45\" stroke=\"none\" width=\"45\" x=\"285\" y=\"15\" /><use transform=\"translate(285, 15)\" xlink:href=\"#black-knight\" /><rect class=\"square dark h8\" fill=\"#d18b47\" height=\"45\" stroke=\"none\" width=\"45\" x=\"330\" y=\"15\" /><use transform=\"translate(330, 15)\" xlink:href=\"#black-rook\" /><g fill=\"#e5e5e5\" stroke=\"#e5e5e5\" transform=\"translate(20, 0) scale(0.75, 0.75)\"><path d=\"M23.328 10.016q-1.742 0-2.414.398-.672.398-.672 1.36 0 .765.5 1.218.508.445 1.375.445 1.196 0 1.914-.843.727-.852.727-2.258v-.32zm2.867-.594v4.992h-1.437v-1.328q-.492.797-1.227 1.18-.734.375-1.797.375-1.343 0-2.14-.75-.79-.758-.79-2.024 0-1.476.985-2.226.992-.75 2.953-.75h2.016V8.75q0-.992-.656-1.531-.649-.547-1.829-.547-.75 0-1.46.18-.711.18-1.368.539V6.062q.79-.304 1.532-.453.742-.156 1.445-.156 1.898 0 2.836.984.937.985.937 2.985z\" /></g><g fill=\"#e5e5e5\" stroke=\"#e5e5e5\" transform=\"translate(20, 375) scale(0.75, 0.75)\"><path d=\"M23.328 10.016q-1.742 0-2.414.398-.672.398-.672 1.36 0 .765.5 1.218.508.445 1.375.445 1.196 0 1.914-.843.727-.852.727-2.258v-.32zm2.867-.594v4.992h-1.437v-1.328q-.492.797-1.227 1.18-.734.375-1.797.375-1.343 0-2.14-.75-.79-.758-.79-2.024 0-1.476.985-2.226.992-.75 2.953-.75h2.016V8.75q0-.992-.656-1.531-.649-.547-1.829-.547-.75 0-1.46.18-.711.18-1.368.539V6.062q.79-.304 1.532-.453.742-.156 1.445-.156 1.898 0 2.836.984.937.985.937 2.985z\" /></g><g fill=\"#e5e5e5\" stroke=\"#e5e5e5\" transform=\"translate(65, 0) scale(0.75, 0.75)\"><path d=\"M24.922 10.047q0-1.586-.656-2.485-.649-.906-1.79-.906-1.14 0-1.796.906-.649.899-.649 2.485 0 1.586.649 2.492.656.898 1.797.898 1.14 0 1.789-.898.656-.906.656-2.492zm-4.89-3.055q.452-.781 1.14-1.156.695-.383 1.656-.383 1.594 0 2.586 1.266 1 1.265 1 3.328 0 2.062-1 3.328-.992 1.266-2.586 1.266-.96 0-1.656-.375-.688-.383-1.14-1.164v1.312h-1.446V2.258h1.445z\" /></g><g fill=\"#e5e5e5\" stroke=\"#e5e5e5\" transform=\"translate(65, 375) scale(0.75, 0.75)\"><path d=\"M24.922 10.047q0-1.586-.656-2.485-.649-.906-1.79-.906-1.14 0-1.796.906-.649.899-.649 2.485 0 1.586.649 2.492.656.898 1.797.898 1.14 0 1.789-.898.656-.906.656-2.492zm-4.89-3.055q.452-.781 1.14-1.156.695-.383 1.656-.383 1.594 0 2.586 1.266 1 1.265 1 3.328 0 2.062-1 3.328-.992 1.266-2.586 1.266-.96 0-1.656-.375-.688-.383-1.14-1.164v1.312h-1.446V2.258h1.445z\" /></g><g fill=\"#e5e5e5\" stroke=\"#e5e5e5\" transform=\"translate(110, 0) scale(0.75, 0.75)\"><path d=\"M25.96 6v1.344q-.608-.336-1.226-.5-.609-.172-1.234-.172-1.398 0-2.172.89-.773.883-.773 2.485 0 1.601.773 2.492.774.883 2.172.883.625 0 1.234-.164.618-.172 1.227-.508v1.328q-.602.281-1.25.422-.64.14-1.367.14-1.977 0-3.14-1.242-1.165-1.242-1.165-3.351 0-2.14 1.172-3.367 1.18-1.227 3.227-1.227.664 0 1.296.14.633.134 1.227.407z\" /></g><g fill=\"#e5e5e5\" stroke=\"#e5e5e5\" transform=\"translate(110, 375) scale(0.75, 0.75)\"><path d=\"M25.96 6v1.344q-.608-.336-1.226-.5-.609-.172-1.234-.172-1.398 0-2.172.89-.773.883-.773 2.485 0 1.601.773 2.492.774.883 2.172.883.625 0 1.234-.164.618-.172 1.227-.508v1.328q-.602.281-1.25.422-.64.14-1.367.14-1.977 0-3.14-1.242-1.165-1.242-1.165-3.351 0-2.14 1.172-3.367 1.18-1.227 3.227-1.227.664 0 1.296.14.633.134 1.227.407z\" /></g><g fill=\"#e5e5e5\" stroke=\"#e5e5e5\" transform=\"translate(155, 0) scale(0.75, 0.75)\"><path d=\"M24.973 6.992V2.258h1.437v12.156h-1.437v-1.312q-.453.78-1.149 1.164-.687.375-1.656.375-1.586 0-2.586-1.266-.992-1.266-.992-3.328 0-2.063.992-3.328 1-1.266 2.586-1.266.969 0 1.656.383.696.375 1.149 1.156zm-4.899 3.055q0 1.586.649 2.492.656.898 1.797.898 1.14 0 1.796-.898.657-.906.657-2.492 0-1.586-.657-2.485-.656-.906-1.796-.906-1.141 0-1.797.906-.649.899-.649 2.485z\" /></g><g fill=\"#e5e5e5\" stroke=\"#e5e5e5\" transform=\"translate(155, 375) scale(0.75, 0.75)\"><path d=\"M24.973 6.992V2.258h1.437v12.156h-1.437v-1.312q-.453.78-1.149 1.164-.687.375-1.656.375-1.586 0-2.586-1.266-.992-1.266-.992-3.328 0-2.063.992-3.328 1-1.266 2.586-1.266.969 0 1.656.383.696.375 1.149 1.156zm-4.899 3.055q0 1.586.649 2.492.656.898 1.797.898 1.14 0 1.796-.898.657-.906.657-2.492 0-1.586-.657-2.485-.656-.906-1.796-.906-1.141 0-1.797.906-.649.899-.649 2.485z\" /></g><g fill=\"#e5e5e5\" stroke=\"#e5e5e5\" transform=\"translate(200, 0) scale(0.75, 0.75)\"><path d=\"M26.555 9.68v.703h-6.61q.094 1.484.89 2.265.806.774 2.235.774.828 0 1.602-.203.781-.203 1.547-.61v1.36q-.774.328-1.586.5-.813.172-1.649.172-2.093 0-3.32-1.22-1.219-1.218-1.219-3.296 0-2.148 1.157-3.406 1.164-1.266 3.132-1.266 1.766 0 2.79 1.14 1.03 1.134 1.03 3.087zm-1.438-.422q-.015-1.18-.664-1.883-.64-.703-1.703-.703-1.203 0-1.93.68-.718.68-.828 1.914z\" /></g><g fill=\"#e5e5e5\" stroke=\"#e5e5e5\" transform=\"translate(200, 375) scale(0.75, 0.75)\"><path d=\"M26.555 9.68v.703h-6.61q.094 1.484.89 2.265.806.774 2.235.774.828 0 1.602-.203.781-.203 1.547-.61v1.36q-.774.328-1.586.5-.813.172-1.649.172-2.093 0-3.32-1.22-1.219-1.218-1.219-3.296 0-2.148 1.157-3.406 1.164-1.266 3.132-1.266 1.766 0 2.79 1.14 1.03 1.134 1.03 3.087zm-1.438-.422q-.015-1.18-.664-1.883-.64-.703-1.703-.703-1.203 0-1.93.68-.718.68-.828 1.914z\" /></g><g fill=\"#e5e5e5\" stroke=\"#e5e5e5\" transform=\"translate(245, 0) scale(0.75, 0.75)\"><path d=\"M25.285 2.258v1.195H23.91q-.773 0-1.078.313-.297.312-.297 1.125v.773h2.367v1.117h-2.367v7.633H21.09V6.781h-1.375V5.664h1.375v-.61q0-1.46.68-2.124.68-.672 2.156-.672z\" /></g><g fill=\"#e5e5e5\" stroke=\"#e5e5e5\" transform=\"translate(245, 375) scale(0.75, 0.75)\"><path d=\"M25.285 2.258v1.195H23.91q-.773 0-1.078.313-.297.312-.297 1.125v.773h2.367v1.117h-2.367v7.633H21.09V6.781h-1.375V5.664h1.375v-.61q0-1.46.68-2.124.68-.672 2.156-.672z\" /></g><g fill=\"#e5e5e5\" stroke=\"#e5e5e5\" transform=\"translate(290, 0) scale(0.75, 0.75)\"><path d=\"M24.973 9.937q0-1.562-.649-2.421-.64-.86-1.804-.86-1.157 0-1.805.86-.64.859-.64 2.421 0 1.555.64 2.415.648.859 1.805.859 1.164 0 1.804-.86.649-.859.649-2.414zm1.437 3.391q0 2.234-.992 3.32-.992 1.094-3.04 1.094-.757 0-1.429-.117-.672-.11-1.304-.344v-1.398q.632.344 1.25.508.617.164 1.257.164 1.414 0 2.118-.743.703-.734.703-2.226v-.711q-.446.773-1.141 1.156-.695.383-1.664.383-1.61 0-2.594-1.227-.984-1.226-.984-3.25 0-2.03.984-3.257.985-1.227 2.594-1.227.969 0 1.664.383t1.14 1.156V5.664h1.438z\" /></g><g fill=\"#e5e5e5\" stroke=\"#e5e5e5\" transform=\"translate(290, 375) scale(0.75, 0.75)\"><path d=\"M24.973 9.937q0-1.562-.649-2.421-.64-.86-1.804-.86-1.157 0-1.805.86-.64.859-.64 2.421 0 1.555.64 2.415.648.859 1.805.859 1.164 0 1.804-.86.649-.859.649-2.414zm1.437 3.391q0 2.234-.992 3.32-.992 1.094-3.04 1.094-.757 0-1.429-.117-.672-.11-1.304-.344v-1.398q.632.344 1.25.508.617.164 1.257.164 1.414 0 2.118-.743.703-.734.703-2.226v-.711q-.446.773-1.141 1.156-.695.383-1.664.383-1.61 0-2.594-1.227-.984-1.226-.984-3.25 0-2.03.984-3.257.985-1.227 2.594-1.227.969 0 1.664.383t1.14 1.156V5.664h1.438z\" /></g><g fill=\"#e5e5e5\" stroke=\"#e5e5e5\" transform=\"translate(335, 0) scale(0.75, 0.75)\"><path d=\"M26.164 9.133v5.281h-1.437V9.18q0-1.243-.485-1.86-.484-.617-1.453-.617-1.164 0-1.836.742-.672.742-.672 2.024v4.945h-1.445V2.258h1.445v4.765q.516-.789 1.211-1.18.703-.39 1.617-.39 1.508 0 2.282.938.773.93.773 2.742z\" /></g><g fill=\"#e5e5e5\" stroke=\"#e5e5e5\" transform=\"translate(335, 375) scale(0.75, 0.75)\"><path d=\"M26.164 9.133v5.281h-1.437V9.18q0-1.243-.485-1.86-.484-.617-1.453-.617-1.164 0-1.836.742-.672.742-.672 2.024v4.945h-1.445V2.258h1.445v4.765q.516-.789 1.211-1.18.703-.39 1.617-.39 1.508 0 2.282.938.773.93.773 2.742z\" /></g><g fill=\"#e5e5e5\" stroke=\"#e5e5e5\" transform=\"translate(0, 335) scale(0.75, 0.75)\"><path d=\"M6.754 26.996h2.578v-8.898l-2.805.562v-1.437l2.79-.563h1.578v10.336h2.578v1.328h-6.72z\" /></g><g fill=\"#e5e5e5\" stroke=\"#e5e5e5\" transform=\"translate(375, 335) scale(0.75, 0.75)\"><path d=\"M6.754 26.996h2.578v-8.898l-2.805.562v-1.437l2.79-.563h1.578v10.336h2.578v1.328h-6.72z\" /></g><g fill=\"#e5e5e5\" stroke=\"#e5e5e5\" transform=\"translate(0, 290) scale(0.75, 0.75)\"><path d=\"M8.195 26.996h5.508v1.328H6.297v-1.328q.898-.93 2.445-2.492 1.555-1.57 1.953-2.024.758-.851 1.055-1.437.305-.594.305-1.164 0-.93-.657-1.516-.648-.586-1.695-.586-.742 0-1.57.258-.82.258-1.758.781v-1.593q.953-.383 1.781-.578.828-.196 1.516-.196 1.812 0 2.89.906 1.079.907 1.079 2.422 0 .72-.274 1.368-.265.64-.976 1.515-.196.227-1.243 1.313-1.046 1.078-2.953 3.023z\" /></g><g fill=\"#e5e5e5\" stroke=\"#e5e5e5\" transform=\"translate(375, 290) scale(0.75, 0.75)\"><path d=\"M8.195 26.996h5.508v1.328H6.297v-1.328q.898-.93 2.445-2.492 1.555-1.57 1.953-2.024.758-.851 1.055-1.437.305-.594.305-1.164 0-.93-.657-1.516-.648-.586-1.695-.586-.742 0-1.57.258-.82.258-1.758.781v-1.593q.953-.383 1.781-.578.828-.196 1.516-.196 1.812 0 2.89.906 1.079.907 1.079 2.422 0 .72-.274 1.368-.265.64-.976 1.515-.196.227-1.243 1.313-1.046 1.078-2.953 3.023z\" /></g><g fill=\"#e5e5e5\" stroke=\"#e5e5e5\" transform=\"translate(0, 245) scale(0.75, 0.75)\"><path d=\"M11.434 22.035q1.132.242 1.765 1.008.64.766.64 1.89 0 1.727-1.187 2.672-1.187.946-3.375.946-.734 0-1.515-.149-.774-.14-1.602-.43V26.45q.656.383 1.438.578.78.196 1.632.196 1.485 0 2.258-.586.782-.586.782-1.703 0-1.032-.727-1.61-.719-.586-2.008-.586h-1.36v-1.297h1.423q1.164 0 1.78-.46.618-.47.618-1.344 0-.899-.64-1.375-.633-.485-1.82-.485-.65 0-1.391.141-.743.14-1.633.437V16.95q.898-.25 1.68-.375.788-.125 1.484-.125 1.797 0 2.844.82 1.046.813 1.046 2.204 0 .968-.554 1.64-.555.664-1.578.922z\" /></g><g fill=\"#e5e5e5\" stroke=\"#e5e5e5\" transform=\"translate(375, 245) scale(0.75, 0.75)\"><path d=\"M11.434 22.035q1.132.242 1.765 1.008.64.766.64 1.89 0 1.727-1.187 2.672-1.187.946-3.375.946-.734 0-1.515-.149-.774-.14-1.602-.43V26.45q.656.383 1.438.578.78.196 1.632.196 1.485 0 2.258-.586.782-.586.782-1.703 0-1.032-.727-1.61-.719-.586-2.008-.586h-1.36v-1.297h1.423q1.164 0 1.78-.46.618-.47.618-1.344 0-.899-.64-1.375-.633-.485-1.82-.485-.65 0-1.391.141-.743.14-1.633.437V16.95q.898-.25 1.68-.375.788-.125 1.484-.125 1.797 0 2.844.82 1.046.813 1.046 2.204 0 .968-.554 1.64-.555.664-1.578.922z\" /></g><g fill=\"#e5e5e5\" stroke=\"#e5e5e5\" transform=\"translate(0, 200) scale(0.75, 0.75)\"><path d=\"M11.016 18.035L7.03 24.262h3.985zm-.414-1.375h1.984v7.602h1.664v1.312h-1.664v2.75h-1.57v-2.75H5.75v-1.523z\" /></g><g fill=\"#e5e5e5\" stroke=\"#e5e5e5\" transform=\"translate(375, 200) scale(0.75, 0.75)\"><path d=\"M11.016 18.035L7.03 24.262h3.985zm-.414-1.375h1.984v7.602h1.664v1.312h-1.664v2.75h-1.57v-2.75H5.75v-1.523z\" /></g><g fill=\"#e5e5e5\" stroke=\"#e5e5e5\" transform=\"translate(0, 155) scale(0.75, 0.75)\"><path d=\"M6.719 16.66h6.195v1.328h-4.75v2.86q.344-.118.688-.172.343-.063.687-.063 1.953 0 3.094 1.07 1.14 1.07 1.14 2.899 0 1.883-1.171 2.93-1.172 1.039-3.305 1.039-.735 0-1.5-.125-.758-.125-1.57-.375v-1.586q.703.383 1.453.57.75.188 1.586.188 1.351 0 2.14-.711.79-.711.79-1.93 0-1.219-.79-1.93-.789-.71-2.14-.71-.633 0-1.266.14-.625.14-1.281.438z\" /></g><g fill=\"#e5e5e5\" stroke=\"#e5e5e5\" transform=\"translate(375, 155) scale(0.75, 0.75)\"><path d=\"M6.719 16.66h6.195v1.328h-4.75v2.86q.344-.118.688-.172.343-.063.687-.063 1.953 0 3.094 1.07 1.14 1.07 1.14 2.899 0 1.883-1.171 2.93-1.172 1.039-3.305 1.039-.735 0-1.5-.125-.758-.125-1.57-.375v-1.586q.703.383 1.453.57.75.188 1.586.188 1.351 0 2.14-.711.79-.711.79-1.93 0-1.219-.79-1.93-.789-.71-2.14-.71-.633 0-1.266.14-.625.14-1.281.438z\" /></g><g fill=\"#e5e5e5\" stroke=\"#e5e5e5\" transform=\"translate(0, 110) scale(0.75, 0.75)\"><path d=\"M10.137 21.863q-1.063 0-1.688.727-.617.726-.617 1.992 0 1.258.617 1.992.625.727 1.688.727 1.062 0 1.68-.727.624-.734.624-1.992 0-1.266-.625-1.992-.617-.727-1.68-.727zm3.133-4.945v1.437q-.594-.28-1.204-.43-.601-.148-1.195-.148-1.562 0-2.39 1.055-.82 1.055-.938 3.188.46-.68 1.156-1.04.696-.367 1.531-.367 1.758 0 2.774 1.07 1.023 1.063 1.023 2.899 0 1.797-1.062 2.883-1.063 1.086-2.828 1.086-2.024 0-3.094-1.547-1.07-1.555-1.07-4.5 0-2.766 1.312-4.406 1.313-1.649 3.524-1.649.593 0 1.195.117.61.118 1.266.352z\" /></g><g fill=\"#e5e5e5\" stroke=\"#e5e5e5\" transform=\"translate(375, 110) scale(0.75, 0.75)\"><path d=\"M10.137 21.863q-1.063 0-1.688.727-.617.726-.617 1.992 0 1.258.617 1.992.625.727 1.688.727 1.062 0 1.68-.727.624-.734.624-1.992 0-1.266-.625-1.992-.617-.727-1.68-.727zm3.133-4.945v1.437q-.594-.28-1.204-.43-.601-.148-1.195-.148-1.562 0-2.39 1.055-.82 1.055-.938 3.188.46-.68 1.156-1.04.696-.367 1.531-.367 1.758 0 2.774 1.07 1.023 1.063 1.023 2.899 0 1.797-1.062 2.883-1.063 1.086-2.828 1.086-2.024 0-3.094-1.547-1.07-1.555-1.07-4.5 0-2.766 1.312-4.406 1.313-1.649 3.524-1.649.593 0 1.195.117.61.118 1.266.352z\" /></g><g fill=\"#e5e5e5\" stroke=\"#e5e5e5\" transform=\"translate(0, 65) scale(0.75, 0.75)\"><path d=\"M6.25 16.66h7.5v.672L9.516 28.324H7.867l3.985-10.336H6.25z\" /></g><g fill=\"#e5e5e5\" stroke=\"#e5e5e5\" transform=\"translate(375, 65) scale(0.75, 0.75)\"><path d=\"M6.25 16.66h7.5v.672L9.516 28.324H7.867l3.985-10.336H6.25z\" /></g><g fill=\"#e5e5e5\" stroke=\"#e5e5e5\" transform=\"translate(0, 20) scale(0.75, 0.75)\"><path d=\"M10 22.785q-1.125 0-1.773.602-.641.601-.641 1.656t.64 1.656q.649.602 1.774.602t1.773-.602q.649-.61.649-1.656 0-1.055-.649-1.656-.64-.602-1.773-.602zm-1.578-.672q-1.016-.25-1.586-.945-.563-.695-.563-1.695 0-1.399.993-2.211 1-.813 2.734-.813 1.742 0 2.734.813.993.812.993 2.21 0 1-.57 1.696-.563.695-1.571.945 1.14.266 1.773 1.04.641.773.641 1.89 0 1.695-1.04 2.602-1.03.906-2.96.906t-2.969-.906Q6 26.738 6 25.043q0-1.117.64-1.89.641-.774 1.782-1.04zm-.578-2.492q0 .906.562 1.414.57.508 1.594.508 1.016 0 1.586-.508.578-.508.578-1.414 0-.906-.578-1.414-.57-.508-1.586-.508-1.023 0-1.594.508-.562.508-.562 1.414z\" /></g><g fill=\"#e5e5e5\" stroke=\"#e5e5e5\" transform=\"translate(375, 20) scale(0.75, 0.75)\"><path d=\"M10 22.785q-1.125 0-1.773.602-.641.601-.641 1.656t.64 1.656q.649.602 1.774.602t1.773-.602q.649-.61.649-1.656 0-1.055-.649-1.656-.64-.602-1.773-.602zm-1.578-.672q-1.016-.25-1.586-.945-.563-.695-.563-1.695 0-1.399.993-2.211 1-.813 2.734-.813 1.742 0 2.734.813.993.812.993 2.21 0 1-.57 1.696-.563.695-1.571.945 1.14.266 1.773 1.04.641.773.641 1.89 0 1.695-1.04 2.602-1.03.906-2.96.906t-2.969-.906Q6 26.738 6 25.043q0-1.117.64-1.89.641-.774 1.782-1.04zm-.578-2.492q0 .906.562 1.414.57.508 1.594.508 1.016 0 1.586-.508.578-.508.578-1.414 0-.906-.578-1.414-.57-.508-1.586-.508-1.023 0-1.594.508-.562.508-.562 1.414z\" /></g></svg>"
          },
          "metadata": {},
          "execution_count": 35
        }
      ]
    },
    {
      "cell_type": "code",
      "metadata": {
        "id": "Pu9KAt04eqVi"
      },
      "source": [
        "#@title Reinforcement\n",
        "#Try making output for draws [0.5-0.5]\n",
        "#Add back attackers feature\n",
        "#Add Hash Tables"
      ],
      "execution_count": null,
      "outputs": []
    }
  ]
}