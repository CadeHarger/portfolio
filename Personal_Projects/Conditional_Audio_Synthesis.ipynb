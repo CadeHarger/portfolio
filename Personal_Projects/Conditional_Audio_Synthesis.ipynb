{
  "nbformat": 4,
  "nbformat_minor": 0,
  "metadata": {
    "colab": {
      "provenance": [],
      "authorship_tag": "ABX9TyNXWNA0AphlmTfKLEbUtzo2",
      "include_colab_link": true
    },
    "kernelspec": {
      "name": "python3",
      "display_name": "Python 3"
    },
    "language_info": {
      "name": "python"
    },
    "accelerator": "GPU"
  },
  "cells": [
    {
      "cell_type": "markdown",
      "metadata": {
        "id": "view-in-github",
        "colab_type": "text"
      },
      "source": [
        "<a href=\"https://colab.research.google.com/github/CadeHarger/portfolio/blob/main/Personal_Projects/Conditional_Audio_Synthesis.ipynb\" target=\"_parent\"><img src=\"https://colab.research.google.com/assets/colab-badge.svg\" alt=\"Open In Colab\"/></a>"
      ]
    },
    {
      "cell_type": "code",
      "metadata": {
        "id": "zMObkPkPSQVS",
        "cellView": "form"
      },
      "source": [
        "#@title Setup Dependencies\n",
        "!pip install tensorflow-io\n",
        "\n",
        "%tensorflow_version 2.x\n",
        "from __future__ import absolute_import, division, print_function, unicode_literals\n",
        "\n",
        "import os\n",
        "import pathlib\n",
        "import matplotlib.pyplot as plt\n",
        "import numpy as np\n",
        "import seaborn as sns\n",
        "import tensorflow as tf\n",
        "import pandas as pd\n",
        "import glob\n",
        "import imageio\n",
        "import PIL\n",
        "import tensorflow_probability as tfp\n",
        "import time\n",
        "\n",
        "from tensorflow.keras.layers.experimental import preprocessing\n",
        "from tensorflow.keras import layers\n",
        "from tensorflow.keras import models\n",
        "from IPython import display\n",
        "from tqdm.autonotebook import tqdm"
      ],
      "execution_count": null,
      "outputs": []
    },
    {
      "cell_type": "code",
      "metadata": {
        "cellView": "form",
        "id": "kET-LutMTV7v"
      },
      "source": [
        "#@title Load the Dataset\n",
        "# You'll write a script to download a portion of the Speech Commands dataset.\n",
        "# The original dataset consists of over 105,000 WAV audio files of people saying thirty different words.\n",
        "# This data was collected by Google and released under a CC BY license.\n",
        "# You'll be using a portion of the dataset to save time with data loading. Extract the mini_speech_commands.zip and load it in using the tf.data API.\n",
        "data_dir = pathlib.Path('data/mini_speech_commands')\n",
        "if not data_dir.exists():\n",
        "  tf.keras.utils.get_file(\n",
        "      'mini_speech_commands.zip',\n",
        "      origin=\"http://storage.googleapis.com/download.tensorflow.org/data/mini_speech_commands.zip\",\n",
        "      extract=True,\n",
        "      cache_dir='.', cache_subdir='data')\n",
        "\n",
        "commands = np.array(tf.io.gfile.listdir(str(data_dir)))\n",
        "commands = commands[commands != 'README.md']\n",
        "print('Commands:', commands)"
      ],
      "execution_count": null,
      "outputs": []
    },
    {
      "cell_type": "code",
      "metadata": {
        "cellView": "form",
        "id": "QxIdk7MQUFzv"
      },
      "source": [
        "#@title Extract and shuffle audio files\n",
        "filenames = tf.io.gfile.glob(str(data_dir) + '/*/*')\n",
        "filenames = tf.random.shuffle(filenames)\n",
        "num_samples = len(filenames)\n",
        "print('Number of total examples:', num_samples)\n",
        "print('Number of examples per label:',\n",
        "      len(tf.io.gfile.listdir(str(data_dir/commands[0]))))\n",
        "print('Example file tensor:', filenames[0])\n",
        "\n",
        "# 80:10:10 Split\n",
        "train_files = filenames[:6400]\n",
        "val_files = filenames[6400: 6400 + 800]\n",
        "test_files = filenames[-800:]\n",
        "\n",
        "print('Training set size', len(train_files))\n",
        "print('Validation set size', len(val_files))\n",
        "print('Test set size', len(test_files))"
      ],
      "execution_count": null,
      "outputs": []
    },
    {
      "cell_type": "code",
      "metadata": {
        "id": "fsrEcpHAU_vF",
        "cellView": "form"
      },
      "source": [
        "#@title Converting Audio to usable format\n",
        "# To load an audio file, you will use tf.audio.decode_wav, which returns the WAV-encoded audio as a Tensor and the sample rate.\n",
        "# A WAV file contains time series data with a set number of samples per second.\n",
        "# Each sample represents the amplitude of the audio signal at that specific time. In a 16-bit system, like the files in mini_speech_commands, the values range from -32768 to 32767.\n",
        "# The sample rate for this dataset is 16kHz. Note that tf.audio.decode_wav will normalize the values to the range [-1.0, 1.0].\n",
        "def decode_audio(audio_binary):\n",
        "  audio, _ = tf.audio.decode_wav(audio_binary)\n",
        "  return tf.squeeze(audio, axis=-1)\n",
        "\n",
        "# Labels are its parent directory\n",
        "def get_label(file_path):\n",
        "  parts = tf.strings.split(file_path, os.path.sep)\n",
        "\n",
        "  # Note: You'll use indexing here instead of tuple unpacking to enable this\n",
        "  # to work in a TensorFlow graph.\n",
        "  return parts[-2]\n",
        "\n",
        "def get_waveform_and_label(file_path):\n",
        "  label = get_label(file_path)\n",
        "  audio_binary = tf.io.read_file(file_path)\n",
        "  waveform = decode_audio(audio_binary)\n",
        "  return waveform, label\n",
        "\n",
        "# Create the datasets from tensor slices and by mapping our function to the filenames (Redundant because we split validation and train later)\n",
        "AUTOTUNE = tf.data.AUTOTUNE\n",
        "files_ds = tf.data.Dataset.from_tensor_slices(train_files)\n",
        "waveform_ds = (files_ds.map(get_waveform_and_label, num_parallel_calls=AUTOTUNE))"
      ],
      "execution_count": null,
      "outputs": []
    },
    {
      "cell_type": "code",
      "metadata": {
        "id": "BLgRcgYEV3WD",
        "cellView": "form"
      },
      "source": [
        "#@title Display Examples\n",
        "rows = 3\n",
        "cols = 3\n",
        "n = rows*cols\n",
        "fig, axes = plt.subplots(rows, cols, figsize=(10, 12))\n",
        "for i, (audio, label) in enumerate(waveform_ds.take(n)):\n",
        "  r = i // cols\n",
        "  c = i % cols\n",
        "  ax = axes[r][c]\n",
        "  ax.plot(audio.numpy())\n",
        "  ax.set_yticks(np.arange(-1.2, 1.2, 0.2))\n",
        "  label = label.numpy().decode('utf-8')\n",
        "  ax.set_title(label)\n",
        "\n",
        "plt.show()"
      ],
      "execution_count": null,
      "outputs": []
    },
    {
      "cell_type": "code",
      "metadata": {
        "id": "7MESJNK82u5N",
        "cellView": "form"
      },
      "source": [
        "#@title Audio Example\n",
        "for waveform, label in waveform_ds.take(1):\n",
        "  label = label.numpy().decode('utf-8')\n",
        "print('Label:', label)\n",
        "print('Waveform shape:', waveform.shape)\n",
        "print('Audio playback')\n",
        "display.display(display.Audio(waveform, rate=16000))"
      ],
      "execution_count": null,
      "outputs": []
    },
    {
      "cell_type": "code",
      "metadata": {
        "id": "QJTGrWa_3psn",
        "cellView": "form"
      },
      "source": [
        "#@title Prepare Data for Training\n",
        "def preprocess_dataset(files):\n",
        "  files_ds = tf.data.Dataset.from_tensor_slices(files)\n",
        "  output_ds = files_ds.map(get_waveform_and_label, num_parallel_calls=AUTOTUNE)\n",
        "  return output_ds\n",
        "\n",
        "train_ds = preprocess_dataset(train_files)\n",
        "val_ds = preprocess_dataset(val_files)\n",
        "test_ds = preprocess_dataset(test_files)\n",
        "\n",
        "batchSize = 2\n",
        "train_ds = train_ds.padded_batch(batchSize)\n",
        "val_ds = val_ds.padded_batch(batchSize)\n",
        "\n",
        "train_ds = train_ds.cache().prefetch(AUTOTUNE)\n",
        "val_ds = val_ds.cache().prefetch(AUTOTUNE)"
      ],
      "execution_count": null,
      "outputs": []
    },
    {
      "cell_type": "code",
      "metadata": {
        "id": "ZS03GALzb9l4"
      },
      "source": [
        "#@title Construct the Model\n",
        "\n",
        "class CIDVAE(tf.keras.Model):\n",
        "  def __init__(self, latentDimensions, reconRatio, latentRatio, encOpt, decOpt, discOpt, sigmaMultiplier=20):\n",
        "    super(CIDVAE, self).__init__()\n",
        "    self.encOpt = encOpt\n",
        "    self.decOpt = decOpt\n",
        "    self.discOpt = discOpt\n",
        "    self.reconRatio = reconRatio\n",
        "    self.latentRatio = latentRatio\n",
        "    self.sigmaMultiplier = sigmaMultiplier\n",
        "    inputs = tf.keras.layers.Input(shape=(16000, 1))\n",
        "    x = tf.keras.layers.LSTM(600, return_sequences=False,\n",
        "                dropout=0.1, recurrent_dropout = 0.0)(inputs)\n",
        "    x = tf.keras.layers.Dense(400, activation='relu')(x)\n",
        "\n",
        "    self.discriminator = tf.keras.layers.Dense(200, activation='relu')(x)\n",
        "    self.discriminator = tf.keras.layers.Dense(1, activation='sigmoid')(self.discriminator)\n",
        "    self.discriminator = tf.keras.Model(inputs = inputs, outputs = self.discriminator, name = 'Discriminator')\n",
        "\n",
        "    self.encoder = tf.keras.layers.Dense(200, activation='relu')(x)\n",
        "    self.encoder = tf.keras.layers.Dense(latentDimensions + latentDimensions, activation = None)(self.encoder)\n",
        "    self.encoder = tf.keras.Model(inputs = inputs, outputs = self.encoder, name = 'Encoder')\n",
        "\n",
        "    inputsDec = tf.keras.layers.Input(shape=(latentDimensions, 1), name='Latent Input')\n",
        "    x = tf.keras.layers.LSTM(50, return_sequences=True, dropout=0.1, recurrent_dropout = 0.0)(inputsDec)\n",
        "    x = tf.keras.layers.Flatten()(x)\n",
        "    self.decoder = tf.keras.layers.Dense(16000, activation='relu')(x)\n",
        "    self.decoder = tf.keras.Model(inputs = inputsDec, outputs = self.decoder, name = 'Decoder')\n",
        "\n",
        "    #self.encoder.summary()\n",
        "    #self.decoder.summary()\n",
        "    #self.discriminator.summary()\n",
        "\n",
        "  @tf.function\n",
        "  def sample(self, eps=None):\n",
        "    if eps is None:\n",
        "      eps = tf.random.normal(shape=(100, self.latent_dim))\n",
        "    return self.decode(eps, apply_sigmoid=True)\n",
        "\n",
        "  def decode(self, z, apply_sigmoid=False):\n",
        "    logits = self.decoder(z)\n",
        "    if apply_sigmoid:\n",
        "      probs = tf.sigmoid(logits)\n",
        "      return probs\n",
        "    return logits\n",
        "\n",
        "  def distEncode(self, x):\n",
        "    mu, sigma = self.encode(x)\n",
        "    return tfp.distributions.MultivariateNormalDiag(loc=mu, scale_diag=sigma)\n",
        "\n",
        "  def encode(self, x):\n",
        "    mean, logvar = tf.split(self.encoder(x), num_or_size_splits=2, axis=1)\n",
        "    return mean, logvar\n",
        "\n",
        "  def reparameterize(self, mean, logvar):\n",
        "    eps = tf.random.normal(shape = mean.shape)\n",
        "    return eps * tf.exp(logvar * .5) + mean\n",
        "\n",
        "  # Shared + encoder: Lrecon + Lkldivergence\n",
        "  # Shared + discriminator: Ldis (Lreal - Lrandom - Lgenerated)\n",
        "  # Decoder: Lrecon (L2(real - generated)) + Lgenerated\n",
        "\n",
        "  def compute_loss(self, x):\n",
        "    zDist = self.distEncode(x)\n",
        "    z = zDist.sample()\n",
        "    zpDist = tfp.distributions.MultivariateNormalDiag(loc=[0.0] * z.shape[-1], scale_diag=[1.0] * z.shape[-1])\n",
        "    zp = tf.random.normal([x.shape[0], z.shape[-1], 1])\n",
        "    xhat = self.decode(z)\n",
        "    xp = self.decode(zp)\n",
        "    realOutput = self.discriminator(x)\n",
        "    genOutput = self.discriminator(xhat)\n",
        "    randOutput = self.discriminator(xp)\n",
        "    lreal = self.discriminatorLoss(realOutput, 1)\n",
        "    lgenerated = self.discriminatorLoss(genOutput, 0)\n",
        "    lrandom = self.discriminatorLoss(randOutput, 0)\n",
        "    #print(lreal, lgenerated, lrandom)\n",
        "    lrecon = tf.reduce_mean(tf.reduce_mean(tf.math.square(realOutput - genOutput), axis=0)) / self.reconRatio\n",
        "    self.dProp = tf.constant(1.0) / (tf.constant(1.0) + tf.exp(-tf.constant(1.0) * ((lgenerated + lrandom) * self.sigmaMultiplier)))\n",
        "\n",
        "    klDiv = tfp.distributions.kl_divergence(zDist, zpDist)\n",
        "    llatent = tf.reduce_mean(tf.maximum(klDiv, 0)) / self.latentRatio\n",
        "\n",
        "    return (\n",
        "      self.dProp,\n",
        "      llatent,\n",
        "      lrecon,\n",
        "      lrandom,\n",
        "      lgenerated,\n",
        "      lreal,\n",
        "    )\n",
        "\n",
        "  def compute_gradients(self, x):\n",
        "    with tf.GradientTape() as encTape, tf.GradientTape() as decTape, tf.GradientTape() as discTape:\n",
        "        (_, llatent, lrecon, lrandom, lgenerated, lreal, ) = self.compute_loss(x)\n",
        "        lEnc = llatent + lrecon\n",
        "        lDec = lrandom + lrecon\n",
        "        lDisc = lgenerated + lreal\n",
        "    enc_gradients = encTape.gradient(lEnc, self.encoder.trainable_variables)\n",
        "    dec_gradients = decTape.gradient(lDec, self.decoder.trainable_variables)\n",
        "    disc_gradients = discTape.gradient(lDisc, self.discriminator.trainable_variables)\n",
        "\n",
        "    return enc_gradients, dec_gradients, disc_gradients\n",
        "\n",
        "  @tf.function\n",
        "  def apply_gradients(self, enc_gradients, dec_gradients, disc_gradients):\n",
        "      self.encOpt.apply_gradients(\n",
        "          zip(enc_gradients, self.encoder.trainable_variables)\n",
        "      )\n",
        "      self.decOpt.apply_gradients(\n",
        "          zip(dec_gradients, self.decoder.trainable_variables)\n",
        "      )\n",
        "      self.discOpt.apply_gradients(\n",
        "          zip(disc_gradients, self.discriminator.trainable_variables)\n",
        "      )\n",
        "\n",
        "  def train(self, x):\n",
        "    enc_gradients, dec_gradients, disc_gradients = self.compute_gradients(x)\n",
        "    self.apply_gradients(enc_gradients, dec_gradients, disc_gradients)\n",
        "\n",
        "  def discriminatorLoss(_, logits, real=True):\n",
        "    if real:\n",
        "        labels = tf.ones_like(logits)\n",
        "    else:\n",
        "        labels = tf.zeros_like(logits)\n",
        "    return tf.compat.v1.losses.sigmoid_cross_entropy(multi_class_labels=labels, logits=logits)\n",
        "\n"
      ],
      "execution_count": null,
      "outputs": []
    },
    {
      "cell_type": "code",
      "metadata": {
        "id": "7AaH7_7kRiLf"
      },
      "source": [
        "model = CIDVAE(20, 1, 0.5, tf.keras.optimizers.Adam(1e-4, beta_1=0.5), tf.keras.optimizers.Adam(1e-4, beta_1=0.5), tf.keras.optimizers.Adam(1e-4, beta_1=0.5))"
      ],
      "execution_count": null,
      "outputs": []
    },
    {
      "cell_type": "code",
      "metadata": {
        "id": "lEBMk7faXFdA"
      },
      "source": [
        "example_data = tf.expand_dims(next(iter(train_ds))[0], -1)\n",
        "model.train(example_data)"
      ],
      "execution_count": null,
      "outputs": []
    },
    {
      "cell_type": "code",
      "metadata": {
        "id": "0R0h3fT2aaMK",
        "cellView": "form"
      },
      "source": [
        "#@title Train the Model\n",
        "\n",
        "TRAIN_BUF=6400\n",
        "TEST_BUF=800\n",
        "N_TRAIN_BATCHES =int(TRAIN_BUF/batchSize)\n",
        "N_TEST_BATCHES = int(TEST_BUF/batchSize)\n",
        "n_epochs = 1\n",
        "\n",
        "for epoch in range(n_epochs):\n",
        "    # train\n",
        "    for batch, train_x in tqdm(\n",
        "        zip(range(N_TRAIN_BATCHES), train_ds), total=N_TRAIN_BATCHES\n",
        "    ):\n",
        "        model.train(tf.expand_dims(train_x[0], -1))\n",
        "    # test on holdout\n",
        "    loss = []\n",
        "    for batch, test_x in tqdm(\n",
        "        zip(range(N_TEST_BATCHES), test_ds), total=N_TEST_BATCHES\n",
        "    ):\n",
        "        loss.append(model.compute_loss(train_x))\n",
        "    losses.loc[len(losses)] = np.mean(loss, axis=0)\n",
        "    # plot results\n",
        "    display.clear_output()\n",
        "    print(\n",
        "        \"Epoch: {}\".format(epoch)\n",
        "    )\n",
        "    plot_reconstruction(model, example_data)\n",
        "    plot_losses(losses)"
      ],
      "execution_count": null,
      "outputs": []
    },
    {
      "cell_type": "code",
      "metadata": {
        "colab": {
          "base_uri": "https://localhost:8080/",
          "height": 52
        },
        "id": "QtaWBAOIs9ns",
        "outputId": "f08452da-dc4d-42b4-f649-408b29a960bb"
      },
      "source": [
        "wav = model.decoder(     np.expand_dims(np.expand_dims((np.random.rand(20) * 2) - 1, -1), 0)    )\n",
        "display.display(display.Audio(wav, rate=16000))"
      ],
      "execution_count": null,
      "outputs": [
        {
          "output_type": "display_data",
          "data": {
            "text/html": [
              "\n",
              "                <audio controls=\"controls\" >\n",
              "                    <source src=\"data:audio/wav;base64,UklGRiR9AABXQVZFZm10IBAAAAABAAEAgD4AAAB9AAACABAAZGF0YQB9AAAAAKMLdgYAAAAAAAAAAAAAAACfAwAAqQjACfQB2gMAAFoCIwYAAAAARglkCgoDFQEAAAAAAADEBQAAAAArCZwCAAAAAHwBAAD+AwAAVAgAAH8DAAAAAAAAAADwAGkB7AP/BgAA2wGCBAAAAAAAAAAABA/TACsHAACtAYMAuwMAAAYAAADZAQAAAAAAAIIHPQgAAJ0OzAgAAAAAqgfFAJUFAAAAABkCOQgAANsCAAAAANEAZwHPAMoDAAAlAAAAfgAAACIKhQTUCFwFQwIAAAAAmQcAANUBAAAAAAAA5wAAAAAAagQAAAAAAAAAAN4AAAArAAAAtgFCCAAAOAWmBwAApAURAwAArQMAAAAAYgUAAAAAOgwAAIkEmQOQAhABAACJDQAA8AIAAAAAAAAAAAAAEQcAAAAAAACvBAAAAAAAAAAA/woAAAAAAAAAADoGwgAAAGEWAAAjCQAARwUAAAAAAAA1AAAAcQEAAAAAVAEHAwAAAABLCW4AAAAOAwAAAAAAAAAAAAAAADAFCgMAAAAAAABRDgAAAAAAAAAAMwAAAAAA/wsAAAAAtgjRAgAAAACSAgAAAAAfAr8CAAA8AN0CHgN0BqANGQQAAAAAAAAAAFECYQsAAAAABAsAALMCAAD1BgAAgAcAANMAAAAAAFkOAAC0DHEAAAAAAPMGAABdBZ8IAAAbBLwAbAEAAOcGAAAAAAEFAAAAAAAAAAAAAAAAAAAAAAAAAAAAAAAA5wE5A3cCJAAAACoFAAAgANkHMwIAAHoHqQEAAKoGAACoDAAAwQMAAAAAcwPBAPgGAAAAANMIAAAfCAAA9QAAAAAAhAEAAAAAKQIAAL0RAAAAAFwDAAAjBd8BAACPAwAAARCWA4gSpQ2IBAAAAAAAAAAAAAAAAAAAAABUAyIAfAQ3AQAA9AHGA+EFAAAAAAAAAAAAAKMCKhFpALoDXQS2BnEAAADAAhIDAACaCwMGggUAAAAATgMAAB4EAABCBX4AAAAAAGkGiAB/AQAAGQQAAL8GAABmC88GWgZ8BgAAAACKBQAAzwciBXUFJAZjAAAA/QGTAvoJ8gMAAAAAZQcAALkFEQQAALkLQQUAAAUAuwgAAAAAXAIAAAAAUgUAAAAAAADOAwAAAADWAgAAWQgAAAAAMAUAAGMGPQMAANgHHAYAAMYAAAAAAAAAAABVBUcCSBIiAgAAUAq9Ek8B1QAAAAAAAAAAAAAAZQEAAAAAfga2AI0AUwHDDNUECQhODWgJxwCQB94CgQbdDA0M+AUAAAAAogOkAyMEAAC8AgAAUwcAAAkDAAAAAAAAAADTBAAA9gQAAAwDAADKBAUAxgPnAAAAAAC4AwwBAACYAAAAFQRSBQAAAAACAwAAzgAAAFALAAAAACEIAAAAAAsGAAAAANcDAAAAAAgLvAZSCVIFXwcAAGcCAAAAANcLAAAAAJEAYQYAAAAAAAAAAAAAQAJuAJkA5QuSCQAAAABeBQID+wEAAAAABg0AAAAAdQUZCNkDAABpDAAAgAIAADoEAAAPAKUAAAAJAsgFAAAAAAAA5wUAAAAAAAAAAAAAAAAAAAAAKAqQBAAAAAAAAAAAcgQAAAAA5wN1BeEGzQoAACsDAAAAAAAAAACgCAAAAAAAAAAAAAAAAAAAAAAAAM4HFQA+AwAAPgHHAQAAAABGCwAAAAAqC0YBEgMAAAAAAAAAAAAAAAB8AzADAABBBqoH3gMAAAAAIAMAAKMCAAAAALwGAADsAwAAAADBBAAAAAAAAAAAIgB+AAUE1QMAAAAAAAASCAAAAAAAAP4HaAkAAAQDxQUAAAAAAAAAAL4HAAAAACYHaQGpAQAAiwB5B6MAYAcAAAAAAAAAAAAAqAT/CwAAFwXAAHAM1QcAAAAAqQQAAAAArgEAAAAA8wD+CYcA4gd2AL4DAABXBwAAQgEAAAAAAACRAAAATgGYBQAAAACRDg0AKQQAAK8HAAAAAH8GmQoAANUFAAAAAAAAAAAAAHAEXQYAAAAAaQMAAAAAoAppCC8GlgcAAGEDAAAAAAAAcwKXAAAAzgADBgAAAAAAAEcJAAAAAAAAAADSAdAGAAAAAF8HAADHBAAArQIAAB8HAAABBv4CnAAAAAAAxwnGByYBWQMAAEAFIAVuAH8EAACADgUDjADIAgAAWQoAAAAAAACZBP8EAABVAdMDpgUAAAMDAABtAQAAAACDB6kAFQIAAAAAmwWIBdAHuAAAALQBygcAAAAAAAAAAAAAfwAYBRYGAAAAAAAAEAFeBwAAOQYAAAAAmgOHBogA7woAAAAASgXOAAwGEwGaBQAAwAkAAAAAXgaZCgAAMQDrAgAAIQcAAAAADAoAAHYHAACuAwAAAAAAAAAAOgkAAEYFZQFaBgAAAADCBgAAAAAAAAAAAAAtBVAAAAAAAAAAAAAAAAAAmAYAAAAAPwUAAAAA2wiCAgAAAAA2CgAAAAD7CyoMyAwAAAsF4wGXAw8FAAAAAKYSRQaMAAAAywoAAAAAAAAAADEDAAAOBAAA0gHgAwAAEgEAAKQQAACdAQAAyQAAAAAAAAB7AAAAAAAAABQJawJUA1YHAAAAAAAAQgAAAAAAKgEAAAAAyAYAAO4BywLtCLsDAAAAAHYHAABPCAAAAAAAACMCAABwAF0FAAAAAAAAAAAAAAAAAAB+AtkDAAAAAAAA8AIAAEkJIQttAgAAAAAAAAAAAAAvCAAAnQEAAAAAAAAAAAAAAADuBQAA4g2aBAAAAABvCAAAyAoAADsHCwUSAn0AhgwnDgAAAAAAAKELAADHADAMAAAAAJYA3QGqAAAAAAD/BAAAAAD+B4kHRwAAAAAAPgB7BQAA2gbdAG0FAAAAAB4BQAUAAAAANAlACwAASwQYCFUEAAAAAJEAkgTTBP8JAACjFgAA0g8AAEgJYwH6BVgEAACRApYTRQLjCzoEAAAAAAAAAAC2AAAAywHPAgAA6wQAACkHAAAAAAAAIwkAAAAAAAAAAAAAUgIAAAAAwQg5BQAAAAAAAAAAYwAAANgIQgsKAAAAAADfBPkFAAAAAAAAAAAAAAAAAAAAAAAAOQgAAAAAAACBAAAAOwWJAaIFAACQDgAAAAAAA/EB+AQAAAAAQgNzAgAAAACVBQAASAf1CgAAbgT+AykASga7EyoNAAD8BQAABgMHAQAAAABICMsAAAAAAK0ARwMAAAAAvgWOBgAAAACgAFoGAAAAAAAAgQOtBwAAFwkAAB0GAABDADMBAAAAAK0DDATdCAAAAADTB4wAAAAoBQAAAADLAbQEAAAAAAAAzwgAAAAAowEAAAAAAABHAQAAYANlCoYDRAjfCAAAAAAAAAAAzAInBzYAlQkAAAAAAAC8AgAAkAQAAAAAAACpAH0IAABHBQAAYQdZAngEAAAAAH0FngwAAAAAgwKlCAAA4APnAZ4DAAAAALQAigv0AAAAAACUCQYJfQkAAMcFHRVzBwAAawUAAE8KAAAAAAAAAAA3AqgKAABUAQAAAAByAQAAAAAsBFUESwEAAAAA+gQsA7oFaQHxAbUBAAAAAAAAQQQAAHIEAADIBwAAtgBhAbQIPgO6B3EIAAAAAFUCAACeA6QJigMAANcNbA1uEYYAAAAAAM4GAAAAAAAAXQQfCugA+AfhCQAAAAAdAdUFAAAAAGQLfgsAAIMJAACsB7cBAAAAAAAA7QDvCgAAdQIAAAAAaAwAAAAAAACDAvcFmwEAAAAA2w16AQAAAACUAQAAAABSBgAAAAAdEwAAAABVBwAAfAATBHQBWgxMAgAAAABcBsAAzAkAAPYAtgIPCAAAAAAAAAAA9wMFAxQAPAJbECACAADWCZ8FpwcAACgFAADkAgAApgvtAAAAAAAAAEUESQYAAPIBcAIAAE8BAADAAAAAAAAAAAAAAAA8CQAAAAAwBEoAAAAAALQGkQkqAQAAAACeB0kAAAAAACEDAgJOA8kDPAFoAgAAAAAAAK4EGQgsCgAAAAAAAGoIAAAAAAAAAAAAAAAAJQANBQAAAAAAAAAAAAAAAAgEAAC+BAAAAAAAAAAAAAAXC9wNhAQAAAAAAAAAAEcEAAAAAJ8HtwAAAOoDAADNChUEZwWPCAAApA0AAAAAAAAAAIYFAAAAAEIGAAAjAQAAxAIAACIBEwJcATwNAAAeBMgCOgIAAAAAvAlFCEYGlAQAAAAAMAWWAoEIogcKALoFAABiAmkDAAAAAAAAygIAAGQEAABABgAA3wwAAOoAAAAAAGYLLAEAAAAAAACVAIUQWwfiAgAAAABwAXwBAABOA+MFAAAsAAAABQgAAMsBAAAAAAAAAAAAAAAAkAaRCFsAAAAAAAAAVwgAAAAAlgr4Ao8BAAAAAAAAAAC2BgAAvQF2BugLwwL4BwAAAAA1A4QHAAAIBkYSZALiBh8DAAAAAC8EgALjBrIDAABxCBsAAABZCYoDAAAAAAoFagkAAMoFAAAAAB0FAABtAVIE4AFQAAAARAQAAL8AAAAAAAAAKgEGBQAAQwQSCQAAAAAAAAAAmgQAAAAAAAAAAKEEfAEAAAAALQoAAA8IOQMhBgAAAAAAAPoPdAEAAAAAAACXA80BAAAAAOsFSAQAAAAAAAAAAN4AuQQAAAAAAAAoB34CAAAAAAAACAoAAE4OEwMAAAAAAAACAAAABggfBEcLAAAAAC0I5AAAAIUCMQkAAAAAAADjAwAA3AQAAAAAKQ+CCBUF3AF7AwAAAAB9A1oEAABdAAAAAABzBD8DAAAAAPwDkgPvAaACLwYAAAAAAAAAAKENAAAAAIABewqoBVwDGwUAAAAAAACiCQAAngMAAAAAABQAAAAAAAAAAAAAAAA5AgAAAAAAAHgHuQEAAA4AuAYAADQCGgtnAhgJogEAAAAAAAAAACoBPAjMDAAAAAChCQAAAAAAAEADAABzAaACAAD6BUQFHQUAAAAAAACoBy0GAAAAAGAIhQagAwAAAAAAAAAAlwYQBIUCAAApAJwCBwAAAJUAAAAAAJsNBQgAAAAAxgQAAAAAXAsAAAAAsQCAAwAAWQeRAQAAlwE+BAAAAADJB2gFAAAAAAAAAAAAAMkSAAAAAAAAAAAsBAAAAAAAAAAABQkAACQCYgHhAdcIAAAAAJkDAAAAAAAAewR2AwAAAADMAAAAAABhC5gCAAAAAAAAAAAAAJ8FZQPrAgAAtwQkBj8HAABYBgAAAAD6AYQCAAAAAKIDAAAAAEgCcgQAABgPegP1AQAAAAAIB3IGBAjcBWgFAADgAFkAAAClBwAA5wIAAAAAvQKfCgAAZAAfBQAAAAAUBRIJawQGBD4IvQaIAccHQwUAAFQHAQAAAAAAJgIAAAAAWAEAAAAA3gZvBxYBigFqAAAAAAAAAIQFYQHeCQAA1gsYAwAAAADNAb4EAAB2AwAAAAAAAAUE/Q4AAAAAAAAAAHIJWQMAAAAA2QYAAP8AAAAAACsCAAAAAAAAAADXCtoDuQkAAAAAUwLvEAAAAAAAAAAAAAAGDTcAcgIAAHgHDwgAACgDjwjOANcJcxMAAFIIlQf9AvYAtQElBAAAFgyaBQwAJwG3CEoH5wQAABoJUwSFAuEFAAAAAHEDAAAAAF0LaxK9AQAAAAApDIsCcAkAAAAAAAAbBFIGAAAAAO4BugAAAAAAdQsAAAAAXATsAgAAqQAAAPEDMgAAAAAAAAAAAAAAAAAAAKgEWQEIAgAAAAAAAC0AMQMAAAAAWwkfBAAAAAAAAAAAAAAAAGQH0REAAAAAAQUAALMB7AHrCfULMgMAAAwBzwEAAC8AAAD1BPoCAAAcCgAAZQYAAAAAAAAAAPMIYwWcBAAAcwcdBOQESQoAAAAArQXIAwAAswdjAAQAAAAAADYCAADgAesDAAAAAAAAWgIAAAAAVgIfAQAAgwcAANIIAACaCgAAEgO0COoL7QYAAAAATAAAAAAAAADwBAAAAAAAAAAA0gQDAx0GAABLA2QAAAAAAJwCAAAAAAAAAAC9BdEBAACdBfgLAABICgAAAABRAOIBAgTBBgAANwIsAwAAAAC8DtkDDAoAAAAAOQe/BuYAAAAAAAAAaQUAAFwHAAAAAOkAAAAAAAAAAAAAAAAAHQKZDUoCAAAAACYFwwgAAGkIAAABAAAAXgkAAAAAAAAAAIgGFgMAAAAAAAAAAAAA0wYAAAAAAAAAAOoE2AsAAI0EAADSBwAAAAAAAAAAAABRE7cAAAAAAAAACQSdAlsKdQLMAQAA/gMAAAUEAAAAAAAA1wMAAMEDAAAAAAAAAAAAAJ8ARwkAAAAAAgELBgAA3wAAAAAAAAAAAAAAAADKAwAAAAAAAGoGAAAkBIwBiAT/Bb4FkwAVCQAArQP3BAAAaQaNBAAAZAfSAQAAAABOAvwLgQCyCAAAAAAAAN0BAADYAwAAAAAAAI4KdwMAAFMALwEAAAAAvQEAAAAAAAAAAAAAvAAAAAAAAAA4AgAAAACWBQAABgoAAAAAAAAAAAAAAAAAAAAAAAAAAAAAAAD3AzYBoQeaBz4BAAAAAIICbwYPCAAAfgCkAAAAAAAAAAAAgwEAAAAAAAA9AwAAvwAAAJkHAACDCGYBShMAAAwDAAD0AgAAAACLAwAAAAAAAL8NkAO6CT0HYwCIBAcHngVOCgAALwkAAMQLEQAAAKMJAAADDRQFhQIAAAAAAAANAAAA/wAAADkHxQpNAy8IAACHDrkGGgAAALwJbwLnAAAAAAAAAL4A2Ql6AgAAAAAAAAAARQIVBSsCdQC6BwAAbwCRAw4HAAAAAAAAAAAAAAAALwL+AAcVAAAAALoBjwZHAgAA2gnrBC4BZgIAAAAAiAOXCV0MAADvAwAA2wAAAM4EAAAAAN8GAAAAAAAAAAAAAMEFAADmBRwFAAAAAIMD/AcAAAAAAAAAAOcAmwEHAgAAAADSAXIHAAB5EQAA/wSNBcUESwFjA+YHFAkAAAAAbAMAAAAAVQcAAAAAjgnwAQAAAAA+BLIDjAJbB28AAACpCFkHAAAAAMcGfgPhAAAAAABOCcgCAAAAAAAAMwAAAAAAAAAAAAwDIAsAAAAAAAAXB4sAfwAAAFsFAABgAgELEAjLAQAAKggAAAAAZwMAAAAAngPFBwAAAAAAAAAAugTFAQAAwgAAAAAAMQEAAAAA3wkpB2cEAAAAAAAAAAAAAAAADAAAAM0DAACfBgAAAADSA5cBAADQC/oG6QUAAEYFfgQAAJ4FZQIAABcBkQNGAAAAAADRA5YHugWnEQwFAABVAwAAAAAAAAAAFgbKAAAA1QNbAe4CiwYAAAAAAAAAAHwBuQQAAFkAAAAAAO0B2AAAAAAAFgOHAAEO0wQAAAAAAAAAAAAAAAAAAAAAAgkQCAAAAADIAlkB+QA3ANsC4gYAAAwAIghuCf8GjAOhBwAA7QcAAEgBGwAAAJEHAACLCIcDAAAAADcBAAAAAMcAAAAAAPsIAAAAAAAA4QAAAAAAAAAAAAAAuAEAAAAAAADoAgAAAAAAAPgKVgb8AQAAAAAAAGoAAADaCgAARgMAAAAAFgoAAMsG3gUAAA0N5gL2AgAAAAAAAAAAOAsHAgAAqgQAAAAAAABAB5QEqQK5DQAA0AUAAAAAAAAAABACAAAAAPABUwMAAAAAAAAAAOAAWgkVAB0LAACPAy8CiAIAALoGMQUAAAAAAAAAAAAAWwdtAQAAQQMAAAAA5wAAAAAA6ALPBqEMAAAAAC8FAAAAAAAATggAAJoFAAAAAAAAAAAAAKYAAAAAAAAAUQpFAdEBWwO+AxkCAAAAAAAA5gcAAHgGOAZPAF0DjAJlBQAAAAAAAAAAOQJeAYMIAAAAAAAAHgEAAAAAAAAAACcA8wcAAAAAJwKLDAAACQSjAMIE2gP8CmMBAAAAAP0BAACVAQAACQIAAAAA3wY8BQAAAAAAAAAAGQLwAy8CAAAAAOwCXwr4AQwIkAQeC3wBAAAFAwAAxBEAAAAAAAAAAAAAAAAJCgAAqgsAAIsIAAAAAHUAAAAAAAAAuQQ/AtAMAAAAAAAAAAAAAAAAWwMAAAAAAgOnAAAArQAAACMCAADkAAAAPgkAAO8FAAAAAGMBNggAAIYEmQc7FT8I7wOeBzwLUQ0AAAAAagOMB84GGAcAAPYDdwIAAFID3QgAAAcD4AK1AgAAAAABA78B7AIAAAAAAAAAAAAAngIAAJcEAAA2AdUDCw4AAEQEAAAuDwAAhwQAAGwDAAA2AgAAAAABBHEAAAAAAJIBAADvAWsFAAAAAAAAAAAAAAAAewClCgAAAADIAQAAAAAAAAAAmAEdAbEFsggAAIkBAACBAAAAAAAAAP4DAAAAAAAAAAAAAIoEAAAAAAAAAAAAAAAAAAAAAAAAAAARA2kB4AMQAOQBeAbbBekOAAAAAFMFAADEAX8FOwAAAFkBAAAAAAAADAPJBusDAAAAAGwAXQHLAD4EAAAAAAAA7QIYAWECAAAOBQAAmgxZBQAAAADIA1oFvQBuAQAAAAAAALkEAAC0AAAA8AQAACgBAAAAAOcIAAA1BwAAAAAAAP8DAAAAAJUD7wEAANwFAAAAAAAA8gUAAE4KAAA8BewBAAABBlMRUQOrAgAAAACSA+MCAAAAABkBAADpCwAAzQQABgAAagF/BdQGkwkAACgJMgMAAMgJhwEAAKcD7AU0B5QOAAA6AwAAfgPOCgAA4wYAAKUFVAe0Ax4EAAAAAAAAdgFcAwAAgAMAAAAAygG8BgAAAAAAAIACAAAAAAIAAAD1AgAAAAAxBQAAAABPA70EAAAhBQAAvAA3B+wDAADjBC0HAAB7CgAALgEQAwAA9gbKAOUGAAD5BAAAiQAvARcAAABgBwAAOQYAAAAAAAAAAAAAiwUAAAAAAAAAAAAAAABnCQAA8QoAAEEGhgagBwAAAAAAAOcCAAA7AwAAcQJ+AgAAoQIAAAAAFw7LEpwOogLFBAAAewiTAAAAvARCAAAAzQAnAegB+QAAANUEAAAAAAAAdwcAAKACAADNAj0CTQJQCwAAAAARBAAAAAAPApcBXAgeALQGAAAAAAAA8AKsANMMNQt5AAAAPwIAAPEGAAAAAAAAnwckBQAA+wIoAgAAAADDCtcF8gSnBY4CUApWCQAAAAD4AAAAAAAAAB8JAAAAAMQFewMAAMkEfgEAAAAAJgwAAMkLAADyAQAAAAB9BAAAOggFBxYHAAAeAQAA3AYoCwAAdQIAAPoHAAAGAlAHXwcAAAAAdwEAAJYMAAAAAKsK+A2gBQAAAADzCRYDAAAAAIYHUgL5BSMQAAArBgAAAADVBQAAQwNJDBkAAADTAQAAYAYAAAAAAAAAALQAIAUAAA0EAAApAyALAAAAAAAAAAAAAAAAAAD0BAAAPgEAADkBngZJAh8HDgAAAPgCAAAAAAAA7wEAAAAAAAAAAIcQtgKXAgAAKQN6BwAAAAAAAAAA1wIAAAAAAAAAAJIFlwKpCQAAAAAAACMGOAAAAAAAMgUaBQAAAAAVAQAAhQUAAFwFAAAlDwAACQzAAVcJAAAAAAAATAkAAAAAAAA6BwAAugiOAGMEAADrCQAAAACYBQAAAAAAAAAA6wAAAJICAAAAAHUGAAAAANYCAABTAlALAAAAAIcHAAAAAAAAswOeBrwAZgbQAgAAcQEAAAAAkwmWBQAAAADrADACAAAAAAAAAAAhAQAAAAAAAAAAqQMAAAAAAADiA18GAADiBQAAKQUAAHoDxwKiERgJNQUAAPIJAAAAAAAAiANlDAAAAAAAAB0CQQndBwAAAAAAAAAAAAD1CUwC1gUAAA8IAAAAAAAAAADTC5QFJQgdB/AFAACJBQAAAAA9BgAAAADiAI0AAAAAAAAA+wMAAAAAdgqjBAAAAADMAwAAeAYAAJsGYQEAANYKHQkAABoQmg97AQAAzgB7AQAAAACGAK8DCQSiAgAAgwMAAAUAAAAAAAAAjw32BgAAKQQkDLMBfQYAABkBAAAAAD4LAAAAAAAAAABDBcoEAwDhAAAATwEAAAAA1AAAAAAAHQQAAAAAAAASBXcFAAADAbMAAAAAAC4EAAAAALEKAAAAAFQEAABWAQAAAAAAAA4LWgDaAAAAKgQiAQAAFgUAALQGAACaBgAAVQgAAAAACASRAgAAAABBBAAAAABFB/8AKgn1BokGAAAAACoIAACtAAAAAABRBWsJAAAAAAAA9wTnBAAAowoAAMcCAABGBQAAAAAAAIgDAwcAAAAAAAAAAAAAPQoQBP4MAAAAAAAAnQIAABkAAAASBwAAAACYBDMLAAAoBlAFfQFtA1AFAAAAAAAAIgEAAAAAaQQAALEAAABfAtsNAAAAANMOAAC2A7AMAAClBrUA3QMAAAAAAAAAAAcIQwoAAIUGAAAQA3EEAABOC9UADwSvAgAAAAAAAAAAAAAAAAAAFQX7AAAAAAAAAPcDAADgBAAAGgZABwAAAAAAAAAAAAAAACoGAAAABgAAEAAAAE4G8gAAACYCAAAAALgH9AWvBQIA+QMAAAAAAAAAADMAbQYAAAAA/AAAAAAAKQe2AXkMsQeIA24ACwEAAAAAAAAAAOgGGAQAAA8GngnfBWkBAADuBgAAAABZBgAAAAAQCnANOAIAAAAAyggAAGwD1wIAAAAAAAAAAKoALgkwAIgEVwIAAJIJAACKAQAAAADiADEIDAAAAA0BAACmAwAAAACEDpIJAADhCAAAOweQBgAAngIAANMAAACUBwAATgJvCh4CAABmBwAATAwAAAAAAACfAAAAAAAAAEURAAAAAAAAYwgAAAAAAAAAAAAAAABfAQAA6gEAAAAAAAAAAIsGwQMAAAAAAAAAAAAAAAAUAAAAJQEAAKgI0A19BX4S2gwAAKQTrgAAAJMAXwNyBssCjAH7AAkLAACQAAEFtQyLAy4ApQQAAAAALgM6AI4AAABTAu8DRALuCgAAAAAAAAAAkQgUCAAA1AIZBoYDAAAAAIIA8wAAAAAAqwMAAAAAAAALCAAAAADlCVYHAAC9CQAAAADTAqsDAACBBQAAAABgAj0CAADaC68KAACzByYBtAQAACICKQIAAAAANwIAAFkFYAUAAAAA1wUAAAAAAAAAAAAAAACyAgAA5gMAAEYBAABHCAAAAADKAAAAAADuBAAAAABpCAAArQIAAFgJAAAAAAAAAAAWAQAAogEUCgkDAACFBXYLRQCWBAAAAAAAAKMHAAAMCMUEAAAAAAAAYAQAAIAJMgBvAgAAOQsAAAICAAAoCwAAAAA1AlIAFwboAAAAAAAAAAAAwwQ4CKAC+wcAAO8AAAAAAIsGgAAFAW8DAAAAANwAAAAAAAAAKgMAAAAAnA4AAAAABQgAAA0DGgu9CQAAAAAAAAAAAAAAAAAAAAAAAAAAAAAlAwAAAAAAAAAAAAAAAAAA0AcAAMIAAAAAAAAAMgHcBgAAAAAAALcBAAAAAOMCAABTAwAA3gTzAAAAhAgAAFwDAAAAAAAAAAA3AAAAAAAAABUEAACICLMBcAvJDSAGAACRCQAAuAYAAAAAFgBOCAAAAAA5AQAAzAcAAOcFigGaCgAAAAAzBuUIAADtB14AAAAgBQAAAAAAAF0JAAAAAAAAAACAAGIL+QRSEAAAAAAAAK0BmgUAAAAAAAAvDAAADATdA8gDAAACAAAA/wEAAAAAAADrB30HFQQAAAMBAAAAAAAAAACdBAAAAACyCgAAJQl0DEoJvwoAAOgDAACgALcAAAAAAHcLAADaAQAAAAAlCAAAqQirAj0B5AGcEbcBAAAOAd4AAAAwBAAAGAUAAC0CAAAAAAAAFgbuBQAAAAAMD9cDAAB9CNgAuQYAAAAAAAAKARkIAAAgAQAAGA49COUE9gEAAAAAPQIAAHkAAAClBKgD0gcAAPoDFgUAAAAAAAAAAMsCAAACDAAAAAAAAAAAAAAAAK4BAACrAy4BAAB5AqwBegk7AlgJpQIAAJ4BIgXiBVgCAAAAAHYEMwESAssAAAAAAAAATAkAAAAAAAAAACoAtgIAAPgEegAAAHIKZwQAAIkADwwAAAAAAAAAAAAAAAAAAAAAqgefBAAAAACwCAAAHAIAACcCAAAAAB8CAAAAAAAASgQAADgHtQQAAAAAfQf3AUgFkwfYCQkDAABPBw0JqAGBA4wFAABFBCQFAAB2ApUHAAAAAAAAAAAAAAAAAAAAAHAPAAAAAAAAUAdhBC0EAACvBcwC6wUAADAEowUAAAYGAAC/AwAAWgOwAlwCAAAMBy4DFAs0AQAAAAAAAAAAAAAAAIACRgAAAAAAtA4sCwAAswEvCAAAqASXAqAFAAD6BgAAAAAHBY4GJwIAAAAA6wPBAgAAeQQAAAAA5wMSBG8GGAgAAAAAAAAAAOQAAAAAAAAAkwX4BrcAAAAAAAAA1QgAAAAAVgPCAgAAqAcAAAAATQUAAAAA4wIAAIoNAAAAAAAAyAHEBZQGIQu3EAAAHQMAALsFIwPzDgAAXRBhAMQDoAL7AwAAwALQBwAAwAYAAAAAYAkAAAAAAABRAAAAAAAAABkKLwAAAAAAAAAAAAAApAJsAgAAAAAvAUMJAADlBwAAAAAAAAAAAAAAAOgGAAAAAEMFDAQAAJoHAAAAAAAAAAAAAAAAAAAAAG4GAADXCQAAPwYcCTkEGgPcAAAA2AVlAwAAAAAAANoBAAAAAFYDjgyWCFYHAADeBLUCAAAAAPsBFgQ8BwAAAAAAAH4AAAAnBawDAAAAAIQC6AIAAEMCAAAAAFkGxgTLBXkBAAAAAEIEpQNNAF0FAAAAAAAAAAAAAAAAfwEAAAAAwAIAABoCAAAoAQAA/wJRBjIDVwH9A/wBAACjA6ICeREoBG0HcQsAAC4ALgM9AFcDAABhC+kKAAAeAQAAAAAAAI8DewK4BAAArQoAAD4NAAAAAAAA8wA/AgAAWgoAAAAATQORArIAWwWLAAAAJQEAAAAAkgIAACQBAAAAAEgArgUpAwAAAAAAAAAAAABLB7AI1ACIAAAAAAB5AwAAogACBZwKOALDBc8DcANXAdQAAAAAAOQKlQFfBAAAAAC1AwAAywoAAAAAAAAXDYAHAAAAAAAAAwYAAAAAGQQAAAAAAABLBIQFeQQAAAAAAAAAAD8CAAAAABAJyAAAANwAaQMAAJQGFgK+B2sDAAAAAAAAQAoAAAAAdQDUBkUB0wIfD5cCAAAAAAAAmgfsAAAADAUAAIQBAADoBe4CBgE4BAAAAACNBgAAdgP+AQAAAAAAAAAAAAAAAAAAAAB2AwAAAwIAAKMEqQhKBLoKYAtCAAAAAADvBp8JAAAAAAAAFwQAAAAAyAM9AyAFAAB0AgAA3wcAAAAASwCTBA8B4AbcAVcFAAAAAHEGnQsAAJoIAAAAAAAAJwoAAAAAAADsBrAM9woAAPABrwfUAAAAKAEWBfwBvwcxBGwD5Qd5AjYHAAAAACACAAAAAN0JAAABB88IkwAAAN4LDgVYAgAA1gXAAw8JAACpBs8IAAA1BAkMAAAAAAAA8wKeCcMDAAAAAK0CAADfC/gF2Ql+AAAAxwV0BMcHAABUBAAAAAAAAAAAAACvBtUDAAAAAHcFAQIAAAoSAAAAAAAAuQ3GBlkE8QsAAN0CAAAAAKMAtgkAAGMHWwVdAwAAAAAAAAAALgs3BeoEAAAAAPYJAAAAAHMCjgSlAJ8AeA9hAwAAAAAAAPQEAAAHBWwBAADnAf0BAADzAAAAaAAAAGsKAACjBYUAeAwAAD0CAAAXAgAAAAAAAKUBAAAWBKEAmAXXBAAAcgT5BwAAAAAAAAwCAAAAAMEDqggAAAAAAA89BwAAAAAAAK8GAAAAAAAAAADWCO0CAAAAAAoBRQAAAAAAAABmAwAAAAC3BegFAAD4CrcAAAAAAIQCAADKAgAAAAAAAAAAAAAAAHcDAACTBgAAAAAAALQBAABYAQAA8gUAAAAAAADmAwAAAACYAY4JqAEAAAAAAABSAnYDAAAAALoISAaZAekDXgCyAQAATgQAAAAAdwDZAgAAAAB6AAAAaQYAAAAAAAD9AbkFIAQAAAAA2g0AABINyQiIBAAAAAAAAN0DAADrBIkB7woAAAAAAABzA38DAAAAAMEBAAAAAAAAwgQAALwMIgEAAAAAAAAAAAAAYQAcCwAAAACgA4QIAAB7AiEHAADeAQAAAAAAAAAAAACmCQAAMQgMCgAAIwQDCTgHAAAAAAAA0QbTAXgGAADrAwAAfwcAAMYBAADBAcYFAAAAABcQAAAHBgAAXQWjCwAAAAAmAgAAAAAAAP8FcAEAAFoCRwKaANsDAABfAAAAXAEAAK4DAAAAAPQEAAAAAC8AAABQBQAAAACCBGEB5AEAAE4EwAcAAAAAAADbBbUEwAcAAAAAAAAAAAAAZQYAAAAAAACJBgAAAABUAH8HOQkAAHQB/Qe5AQAAAACLBAAA+gIoAnYCAABNBvcM6QMAAIwAeQPGBgAA7AUAAJIQAAAAAGQFAAAAABUIAACuAQ4BAADIBQAA/gBrBsEOAACOAAAA9QMAAAAABgQAAAAAAAAAAD4AAADuBQAAAAAAADQBAAAZAQAAAAAAAAAAAAAmBUwDDwcAAGIYAAAAAAAAAADDAQAArREAAAAAAAAAAAAAzwVrAgAAAAAAADYDAAAAAAAACAZqAl8MOgQAAAAA7QYAAAAAAAAAAAQBAAAAAAAAAAAAAAAA2AQAAAAAAAAAAAAAAAAAAGQCAAAAACkBfgSIALcFAAAAAEIGAAAAAEQBKwQAAAcFbAlcAwAAAACZA54DAAAAAJsU9gNkBQAAAAAAANgIAAAAAOkKAAC/Ao8JAAAAAAII3Q8AALIAAAAAAAAAAAAAAOYIDA4AAH0FSATkABYCBwIAADUMAAAAAMkCAADTBBMHVQQfCAAAUAcjBQAAfgYAAAAAAABXBAAAAAAAAAAAAAC4BcoKAAAAAAAAAAAAAHoChQQxCQAAAAAAADcUAAAAAAAA5gcAAAAAMwMAAAAApgGUBAAA0AAAAHoEAAALBPkA+wAAAAAAkACjBAAA5QUAADYJAAA0AAAAAADwBXYFAABmCDYHAAAAAJwDjwMAAGgBAAAAAAAAAAAAAAAAlQEAAAAAqAwAAAAAAAALBooGKQUAAG0JAAAAAOUBAAChEkAI3AYAAAAAAAAAAL0C2QtYCQAAtAcAAHAFFgOdAAAAAAD0ArQPjQQAAAAAAAAAAHUEAAB3BAAAAADKAAAAAAAAAAAAAAAAAPgGAADMCQQAGgA0A0sLAAAGAVoIAAAAAAAAOgFSBgAAAABRBoQEAABtBgAA6wZCB2QKrgIAAGMGAAAAAAAAAABWADwAbAUAAGMCPgWYDQAAAABcDAAAUAEvCVsF7AEAAAAADwf6CAAAAACaAbsBAACdDUQA8gAAAAAA+QkuB04DAAAVBe4AAADhAQAAAAAAAAAALQdsAgAAZRIAAAAAlQFLAAIJxgUAABUMuAKCAQAA7QRYAAwFMQTXBwAArAgEAykBAAAAAAAAAAAuBgAAqQQAB7ADAAAAADkIAAAAAAAAzxEDD9EAAABCDAAAAAAAAAAAAAAAANgAAAB1AvEAAAAAAAAASgCfAAAANApAAwoLAACpBQAAAAAAAAAAUwYxCDMBAAAAAAAAAAAAANkK7AVFAp8CwwAAAAAAAAD+DiUFqQIAAAAAAABhA7cCAAZ7AwAAAAAAAOoHAAAAAAAAIgAAAAAAAAAAAJUFAABqBvYKAAAfB18JAAAAAJ0AHgBeAQAAFwcAAL0HEQYAAJ4DAADDBAAA5gMAAAAAAABsBr0C+wAAAAAAnQEAAPcDAACiBwAAOgUiEc8HVwOoDgAAqwlcDAAAsgIAAMoDAABUBvUAAAAKCAAAAACyAAAAjgMAAGQBAAApCNkFPgIAAwAAjwQAAAAABAHqAAAAAABPB98EJgAAAKkGIwQAAA4KKgY1AjgIAABOD+QLNAQAAI8DAAAtBmoIbgQAAAAAAAAAAEgDAAAAAAAAAADvA1QA0AAAAAAAoQQnAQAAtAAAAO4JAAAAANIHAABmAQ0CAAB0AsAHAAAAAAAAAAAAAAAAAAAAAAAAAAAAAJYHAABrBQAAEQhHBdMACwAAAHQEAAD1A48FAAAAAE4FAAD6AmwMPAGQAgAAAAAAAAAAAACRBegBAAAAAJUKwwQsBAAAkwGbB8MFAAAAAJAGAAAAAGMDEQB0CtQEjwvDAPkDMgsAAAAACRUAABAKIwQAAAsHpQAAAAAAMQFgBAAASQYAAAAA+QH4Bb8ElgEAAKcFAAC1AgAAAAAAAAAAKwGcAgAAAAAzAe0BHAMAAMEHHgQkBgAAfQIAANIFVwN+BAoFAAAAAMYLuwIAAAAAYgDlDXIAAACXC3QAAADnCbsFAAD+Ac4AAAAAAPEEFgEAAMMBAAAAAH8DRgRpBwAACQIAAHwEAAAAAF4B/QEAAAAAAAAAACcGWAIAABsDAAD0CQAALQcAAK0FAAAAACQBAAB3B4UEfwJqARkKYQRsBgAAAAAAAAAAowUAAAAAAADsAwAAAACqBAAAhwVuBwAAAAAAAAAAAAAAAHsMAACXAAAAAACyA7UASgq8DgAAAAAnCyYF9gdACgAAXQHGCAAAAACZAlgJAAAAAD4CAABkAQAAAAD9ArwAAACvBgAANg6OAfIEZgEAAOIDAABlCWgNlwZSCwAAOwAAAAAAAAAAAAoIAAC7BAAAAAAEAAAAAADPAwAA0wEQBAAKAAAAAAAALRBfE3cNtQUAAH0FAAA2BgAAeQJjCwAAAACABIoGpAcAAAIKWAJyA9UDAACVDC4EAADqCAAAAAAAALoDAACtAXsJVwadA3YCSQQAAIwELgpSDSoAAAAAABYCAACuA+wHAABrEQAAAAAAAAAAaQmWAAAAWAwuAgAAAAAAANMEAAQAAAAABgAAAAAAAACLABIEAAAYBR0AAAAAAAAAAAAAAAAAAAAAAAAAAADPAuIBAABlAAAAzwAAAAAAcAAAAAAAAAB0BAAAAACnAgAAAABUAgAAAAAyBgAAAAASCQAAAACWAQAAAAAAAJUDAABcCAAAeggAAAAAPAoQA30B2hMAADgF/ggAAAAAAACeAQAAAAAAAJYCrAYAAAAA5ABVAwAAAAAYAlMBAAAAAPkCSAplApcAAAAAAAAAAAAkAQAAAAAAAAAAAAAAALMAAABzCQAAwQofAgAAAAA+CAAAAADLB04HAAAAAAAAAADlBAAAAAAAAAAAAAAAADkDAAArCpAEAAAAAAAAAAAOAAAAewMAAAAAAACPCDUDDwImAwAAKQUYEgAAAAAAAAAAGwEAAAAAOgU8AZQAtwQAAAAA3QcAAA0FAAAwBoAD3QrUCgAAgAAAAFgAAACgAkkD3AEAACkBsAdnFooQAAAJBgMLAAu1AwAAUQMAAC4GAAAAAAAAQQMAAAAA3wYAAAAAAAD7B6UTAAABAwAADQMAAI4CAADPCV0EAAD4CQAAoAD4ClMBjQgAANwBAADAAgAAAAAAAH0DAACFBsIIAAAAADcBAAAAAKcEoQ4UAAAAAAAJAwAAAAAAAAAAAACWCEgEAAAAAAAAWQYAAAAAWwcAAMUEAAAAAAAAAACjDgAAAABjAqYNAAAAAAAATwIAAJwDUwEAAAAADARWDaINAAAAACMDAABxAwAAAAAAAAAA7AgAAMUALwIAAIkAAAAAABQA2gGmApsEbwwAAOMFBAgAAAAAAAAdAOoBAACmAQAAAAAAAAAA7ABMAwAA9gAAAAAAjANrAgAAQAXMAgAAcAgAADUCAAAAAAAAJAcAAL8CiABfBAAAAAAAAPQAAAAAAGsBWgQAADMHIAq+BAAAhQLAAAAA6QYAALMDDQcAAAAA/AlyCAkOpwB4AAAAAAAAAAAAAABSAc0NAAAAAAAAAAAAAJ8HagVkACIFMQcjAdsEagIAAAAA1AHrAgAAYAXOBY4IAAAAADwDrwMAAAgIvQtiAmILiQSuAh4IAAAAAFUJnAQAAAAAAAAAAAAA5gQAAAAAAABBDwUBNwN5AQAAAAAVCvEB3QU9A5sLAAAAAG4KTQuBA0UFAAAAADUDNAMAABUKwwLYBAAAaggAAMsDAACEBHACAAA2A3EFAADeAVEAAAAAAAAAAAAAABYFRwcAAGIJAAAAAGQAAAAAAAAAQgQAADwJAABmAAAAAAAtAwAAAAAAAAAAAADHBAAAkAAAAAAACgjUA68AAACuDAAA0gBMAwAA0QYJAgAAAADfA6cCAAAAAFoCAAAAABUKAAD5BwMCAACuAMYECxEAAAAAAAAAAAAAawAAAAAAngIAAAAA2wUAAAAAAAAAAAAKAAAAAAAAAABbFY8FAAAABwAAAABVBAAAQAzYBOsCwgEAAFQFtwoAAK0GfAAAAOAETAoAAOMBAAAbA5MKIgAMCwAA2QOTADoEAAAAANgCqQEAANID0wAAAD0CAAAAACkAAABHCWsAAAAAAM0HqwYAAAAAAAAAAAAAAADyBmsB0gZ6CQAAAAAAAAAAXgUAAEcDAAAAAAAAAABAAwAAAAAAAAAAlwQAAJID5AgmBAAAAAAAAAAAWQUAAAAAAAAAAAEEAAAAACoE1QIAAAAATwTJBq0AAAC+AKUIAAAAAAAAWgE3At4MAAAAAAAAPwMAABkKAADEB58B1gkxBzcOAAAiAWMGAADCAIwHAACCC0cGYwSaCKoJsxBEA74DAAAzBQAAAABhBQAAmgQAAOYFAAAAANkCAABmCwAAwwAAAAAAAABrAQAAAABiBgAAAAC+ArYCAAAAAAAAAAAAAAAAAAAAAOcGAACuBAAAHAAAAEYHuQTIA38PpQQAAAAAAACgAgAAAAAAAAAAAACrA2IHAAAAACgDggMAADcCAAAQDQAADQaKAAAAAAAAAAEJMwIAAAAAzgYAAAAAAAB9AgAAAACwAxcIawcAAAAAAACdBAAAiADeAAAAAAAAAKoFwAIAAAAAAAAGAMsD2wj3AN8FAADuAEoDeQAAAGUKAAAqAZsEBgEAADUEAAAAAAAARQEAAAAASgsAAAAAuwahBPMGAAAAAGAEVwgTA0YAtAJYBnIGpwMAAAAA7wabBAYGAAAdBuUDHAMAAA8IAABdBAAAiQAAAFgLTwf7AAAA6AC4BgAAABGVBQAAAAAAAAAAAACOBTYAAAAAADIBowfbABgFtAKBCwAAAADKCOIB/gJvAgAAAAAAAAAAAAAAALAHZw7KCL8CAABaCgAAAACLDQAAAAAAAAAAbwNiAA0CAAAAAEYJSwIAAB4JEAmTA6YQ8gQAAJkCOQAAAAAAAAAAADsCAAA3AQAAxAYAAP8FAAAaCQAAAAAAAC0FQgMAAAAA+gBeAAAAwwYAAFsD0wQAAKsGAAChEeIFAADmBAAAAAAAAAAAcgMAAIcFAAAAAMUCJgFYBQAAAAAAAHcLAAAhAs4MAAAAAHgFLgMjCycHCAdpDAAAAAAAAAAAAAAMBQAATgYAAAAAcAgAAKsI8AAAAAIHAAAAAAAAAAAAAAAAVwktBAAATQUAAHIAAAAAAAAAIAVTEgAAtgCLCwAAAAAAAAAA8QEAAAAAAABsAqsGAADTCwAAAAA2CgAAAAAAAAAAAAAAAPgEGwIAAH4CAAAAAAAAXAMAAOAJBAX8AlgIXQAAAAAAXwQAAAAABgLWBvoFWwPZAgAA3wQqBSkCAAAYBAAAAAAAAAAAtgOzDAAANQFbAgAA4wMAAAAAAAAAACkMkgMAAGQDSg0AABQCfwaxAoMAAABKBgAAWQ0AAAAAfQcAAAAAAACpBVMB8gYAABcExwzLAQAARwQAAAAAAAAAAAAAAAB1AYUDAAAuCwAAZgJvAAAAAAAAAMMIlAQAAHMGCxLoCwYGAAAAAC4SgAgAAAABDgYAAAAAKACJAgAAcws2CSMGOwgAAEwLLgkAAAAARwE5A8AAAAAAAAAAlAcAAIgIAABdBiwANgOCAAAAEAsAAAAAtQIAAAAAvQIAAJwDAADZAAAAUgT4CgAAAAA0BKUCngFTBgAAqQUAAJ8FAABzAwAASwIAAAAAVwYAAAAA3AZVAwAAogM2BwAAAAAAAO0BAAB1AQAA7wEAAHQDLAAAAAAAAABNAgAAtwCpAJUGEAUAAC4EvQAAABEEPAOsAAAAXAIAAAEDAAD/AwAAmgbyBQAA+gEAAAAAlQAAAEQF+AnYDQAAfgkAAAAAAAAAAN8FAAAAAOYDAAAAAAAAAAAAAAAACgEjAQAAAAAAAAAAAABiBPsGAAAAAAAAlwSOBL8JAABACjsBAAAAAAAAFggAAHwF9AUAAGsFAAAAAAAAAAAAACUAAAAAALMAEwMAAP8CAADkAXQNCQYAAEQGAAAAAAAALgQAAGADAAD8EAAAsgDnAaIF0ALeAAAASgGgBwAALwRKASUA2RDrAwAAAAAAABgBAAAAAJwE3gYAAAAAAAAAAAAA2gYAAAAAngUAAAAAswIAABQBAAAAAAAACgEAAAAALgjdDAYJYwQAAM0MAACJBwAABQFLAPUEAAAAAHwBAAAAAE4BEAEAALUAAAAAAAAAlQIAAAAAAAAHAgAAAAAAAIQD/gYAAKwIoAcAAD0EAAAAAAAAug2ZDwAAAAAAAAAAAAAAANYE9AcAAAAAAABiAQAAAAAAAJcAAACuAAAAAABuEogHAADtAwAAAwhkB9cKAABnAAAAAAAAAAAAAAAAAAAATwUAAAAAxwFiACkIAAB4BwAAAAAAAAAAewQAAAAAAAAPDr0CuQIAAAAAAAAAAAAAAAAAAFgEYQQAAAAAAAAAAAAAAAAAAAUDAACACgAAyQEAAAAACwMAAAAAPAUAAAAAAAAqBAAAAAAAAAAAAABKAYoAAAAAABwCAAAAAAAAAADbCUEAiQFiCAMKrAJnBU8MAADjBQAAmgAKCwAAoQj8AwAA6A58AQAAOwNQBm8AAAAAAAAAFwQAAAAA6QNWAs8CGgUAAI0BfwolBwAAAAAAAAAADAIAAAAAOgIkBF4HAAAAAGIBoAReAwAAAAAAAAAAlgAAABMGAACABiUA/wfTCQAAAABcAQAAkwAAAAAAPwIqBYwQUQvsCZIEAAALAd4ABggAAAAAAACwBAAAAAAAAAAAKQQAAJ0AAAAAAE0KAAANAAAAAACyCAAAHAbEAQAAAAAAAFAIAABnBAAAuAkAAD8EAAAAAMYPKwkAAAAAAAA8BcgEAAAAAN0BAAAAAMcABwAAAAAAAAAAAMYHAABGAgAAwQEAAAAAAACeBVgIAAAAAAAATwAAAAAAlwXFASgDBgDbCQAAAABzAgAAAAAAAAAAggXFAIQHAAB9BAAAAADwAQAAAAAAAAAAOAk4AQAAoAIAAMsGAAAAAAAAAAAAAAAAAAAiAAAALwjZBqoBAABqCQAA1ABoBjcIAABXBQAAKwIAAIIHoQoAAAAAQQIAAAAAAAD+CJgPAADkAOwGAAAAAJ4EAAAAAAoJYwXLBZcCnwP6BgAA9wYAAAAAAABaBgAA6A17DgAAAADfBgYGAAAAAK4CAAAAAMUCAAAAAEYMAAAAAAAAAAAAAAkCowF4AQAAAAAAAAAAAAA8CFYEAAAAAHoAAAAAAAAA7wN4BU8NAAAAAC0AzwoAAAAAiAYAAAAAAAAAAAAAkQMAAAAAQAMAAAAAAAAAAAUCAAAAAAIBAAAAAG4JmAIAAHIBAAAWBywBAAAAAPsD9AEAAOcEAAAAAAAAAAAAAJwEAAAAAFEIAABDABEBAACMBSYHXgkAAG4KAAACAQAAAAAAAAAAAAAtAAAAdQQAABQHMAcAAGEC1gkAAAAAAAADBwAAAAAAAAAARQMAAMYBAAAAAAAAmgQAAHEBAADwArkFbgMAAAAA0QEAAAAAGgcAAAQHAACtAgAA9gJKAgAA9AVmAwAAAAD+AqUFAAAAAAAAAACLAwAAAAAAAAAAlwphAwAAAAC6BZMFygfBBOECAAAAAFEFugEAAGUBAAAhCQAAOAceBpQLAABaBZMOAAAAAAAAGwYAALMCOAJ9AwAAGgg9BAAApwRDBgAAAAAAAMADAAAAAHgBAAAsAwAAbQBfDA0D0gJ5BAAA1AEAADsBOwUAAAAALgn4AgAAAADfAwAAfAWjCDwEWABoDfwEAABhAwQDAACbAgAA6gg2A34KlAojBwAAAAAAAB8CAAAAAMUCAAAAAH0NAAChAtsJ4QAAAAAAgwkAAAAAOQOiAkEPAAAAAD8MAAAAAAAAAADKAy4GAAAdBQAAAAAAACQEAAB9BAAAaQgAAAAAAAAiAwAAKANWAQAASAAAAJ4JAABtBDMBAADLAdMPAAAAAMYJAAAAAAAA0we/BhMKdgucCTICAAAAAPAGAACaBQAAfwAbBVMEwRIAAF4NAAAAAAAAvQIAAAAAzgQAAEsGAAAAAAAA8goAAAAAzAMAAAAAwAU2BZAFTg8AAB4HNQUAAAAAiAG+Bb0CfAz/CgAAAABtAAAA/wG7AjIVAAAAAFMEAAAXBgAAAAAAAJMGAAAhCTYEAAAAANULggMAAAAAxAMAAEoAWQIAAAAAXAH1AwAAAAAAADECAAAAAD8CXwMAAAAAHA07BgAAAAAAAFkJ5AMAAAAApgEAAAAAmADMAgAAAABrAQAAAAAAALIGBRAAAAAAAAAAAAAAAABRAYwAfQDYB3MEAADaCiUDsgO0AAQD9wXUBAAABgHABJoGAAAAAHcDBgbZAAAANAEAAAAAAAA4BQAAAAChAgEDAAAAAE0EugfZCAAA3wg5BEMFAABOEAAAAAAAAAAAAAAAAAgACwcAAGgFkwFyBwAAAAAAAJcKAAAAAAAAgAkAAAAAAADYBBILAAAAAAAAmwIAAAAAUgAHALcJAADLB74OAADeAxsGAAAAAAAAAADeBQAAGAhdAeAEAAAAAAMEAAAjAAAADgQAAJ0CAAD7BwAAkgh3AAsHAAAAAEEFAACnBUkHZQIAAAAArgEAADIXAAAAAAAAAAAAAOwHAACvCl4BAAATAPoGqwEAAAAAAADSBNsCjhYAAAAAKQwAAAAAAABBCD8C4AQAAAAAwALWByYBBAMAAAAAcwS9BLYDAAAAAK4JAAAAAAAAAAAAALwFcAEAAHIGzQabBHUAFAAAAEQCAAAAAFAARgcAAAAAAABpDm0AAAAAAHIHlAh/CgAAAAAAAAAADwBTCgAAJgpECgAAxQSGB6wB8AYAAAAA8wCgDQAAAAAAAMQAsQVDAB8IAADfCAAAAACqAnMH4AEAAPwC6QAAAN4HAAAAAO0IJQIAAEQHJwPOBm4HuwEAAAAAAAB2BxwAYALpBwAAAAAAAIUMAACzAQAAAAAAAAAAVAWiBwAAqgYAAAAATQgeEoQF8QBkBH4H1AIAACoFqgAAABUKAAAAAAAAAADACAAAfgMAADMGAABXBQAAAAAAAA4MAAAAAPQARQgAAAAAAAB/C4sJAAB1AgAAAAAAAAMEAAAXBQAA/wFPBHAARAT+CQMDhBIAAAAAsgElADoGtwUAAAAAXwh+Ak0DAAAAAAAAAAAAAGgHJwFWBwAABgkAAAAAAAAJBaIHAAAAAAAAyg8AAAAAAAAAAMMAAADsAQAAJQYAAAAApwQAAAAA9gV8AAAAAAAAAAAAHQRbAAAAAAA3AAAAAACTAysAAAAAAP4AQgT7AREEAAAAAGIHWQIAAAcDIQSGCS4HDwBLAAAAzwgAAAAAGAtNCgAAAABiApcBoQWTBQAAkAstA4kEAAAAAAAAMQHWAygApgifAxAAAAAAAAAAAAAWBCEI6QIAAIEB6QUAAAAAAADLAgAA+AcAAMYBwg62ArECfQUjAAAAAAAAAAAAwQoAAAAA/gXzAAAAAADqBAAAHwJYAOsE5QRwBXMFAAAAAAAAiQLKARUHJAGXAEIDvQIAALIEAAAAAAAAAABmAfABAABnAgAAjwEAAAAAAAARBQAAAAAAAGwCiAUAAAAAAAAAAIAEcAgAAAAAvAaVDtEIAAAxBYgKAAB6BIEKxAoAAAAAogMAAAAAAAAAABMFAAC9AAAAAAAzAwAAzwlyBwAAHAg7EwAAkgXQAGoEGgnaAgAAAADiAU4HAAAAAAAAcQcAAJwFVgMAAAAABgEAAEoFpgAAAAAAqwQAAAAAAAAAAAAATQQAAOsCAAAAAEoCXAYAAL8FSgEAAAAADgKIAwAAAACWAQAAAAAAAFIAAAAAAJYFAAATBgAAAAAAAAAAAAAAAAAA3QMAACAHAACoAAAA7wFqBgAAAAAQBAQCAAAAAIYAgAH3AQAAAAAAAAAA4gQAAIoFAAABD+MCDQIAAM8JAAAAAAAAfw0HBQAAAAAiAgAABgMAAMQIAAD0AgAAAAD4AyANAAAAAG0AAAC6B1sJuwsAAKIBAAA5AwAAAAAAAC8CfAdZBgAAAABLCAAArQMAAAAAAAAuBgAAywIAAAAASQoAAFUNEgQ6Ac4JAAAAAIEAggcAAAAAAAAAAAAAAAAAAAEFgAcWAAAAwwMAAAAAAAAAAGEBAAAAABEARgb+CPUOAABNCwAALwI+AjsO0gAbCAAAyhAAAIcKAAAAABYAAABDDQAAgwmKCQAA/BAkCcMG+wIAAGIDAADFBgAAAAAAAGMEoQYAABsKdAQoBQAAtwQAAKwAAADuD1EBSAxjAAAAVQYAAAAAAADoBgAAhwOMA7gGIwEDAa8AAADVAEUIAABTBAAAVQQAAAAAAACIAQAARgSRAbMBMgkAAHsFuAkAANAIhwQtCwAAUgIzB8kDdwD0BA0CAAAAAAAAAAAAAAAAAADICgAAAAAAAEQCsAV8Cp0AfAUAAIwEAADJAQAAAADoB7wE2wtBBbAAAAAAAGUGAABuBBkEvAUAAAAAOgQAALcBFQIAAAAA/AdVDUYGAAAAAAAAAAAAAIgBAADSA7EHAACwEQAAfAYAAAAAhQCbAxoFAACBCdIDKAqtByQAAADECEsEAAAAAAAA6gIAAKgDAAAAAJcGQAC8AgAAYgMAAAAAAAAAAIADAAAAAAAAAAAAAJAEAAAaAp0CdwMAAH8JXAgVAAAAcgB/B2cIAAAAAAAAAAAAABwBAAAAAE8GpgYAAAAAygZ/AQAA8wUAAAAAAAAIDQAAygaYAQAAAAAAAFQDhQgAAAAASAXOAgAA0AYAAAAA8QAAAAkLYggAAKENAAAlB08IkANJBQAAugEDDjIALwUAAFwCAAAAAAAAggIAACwEMAYAAJIBsgcAALoKgwL9AyYA5gsDBsMGWgkAAAAAAAAAAJgHAAAAALcNbQMAAAAAAAAgCE8AzAAAAF4GAAAAAAAAAAAAAAAAwgPfAwAAAAAAAIcJAAAAAAAAAAAAAMkDAACmAUUAAAD0AQMK/gMQAuALDwQAALADAABiA5sArgKOCTwBAA0AAAAAzQwAAAAAAABvBAAA7gEAAAAA9wDHBiUBLwkAACELAACCAQAAAAAAAAAAAAAAALUF4QiBAd4HAADrAwAAAAAFDAAABA4AAAAAUAPhDAAAVgYAADgDAACDAH0EAAAAAAAAQAMAAAAAAAAAAKcHMwB7BAAAAAAAAPsHAAAAAE4G+ggACWgEAADlAEkEGgQAAAAAAABmAgAA6QMAAAAAAADFCcMJAAB3AoEIowgAAAAAAAAAACwAFwIAAAAAAAAAAAAAAAB1AQ8NhwgAAAAAAAAAAAAAdQERAisDAAAAALoFQwEAAAAAAAAAAAAAoQAwAAAAAAAAALoAAAAAAAEAAAAAAAIDSQjtAAAAKwcAAAAAAAAAAAAAAAAAAAAAGQOSC5kIRgMBAeEIAABqBHUBAABmAmYFIgYAAMoC8wNPAQAAchEAAAAAAADPA1EIAAByDQAA8QQAAAAAOQiHAAAAAAAAAAAAQwPTBgAAvAC4BAAALALWCVgMAABMAKwD7QTxArADAAAyAgAAAAAAACYNAAAAAJ4AAAAAALIBAAAAAAAAAADaACkIywruANALAAAyB0gHHAilAAAALAUAAAAAAAApDcQEOAEAADICAAAAAAcEEwEAAAAAAAAAAAAAAAAAADsHsgsAAAAATQNBAQAAmQUdBQAAIwnbBAAAXgI0B4cAAAAAAAAAAAAAANcGAAAAAJ8GAAA7AQAAAADABJkHAAAAAAAAAAAAAJMAAAAAAAAAAAAAAAAAAABqCQAAAAAAADsFAABXBQAA+QUAAAAAAAAAAAAAZAUAAAAAAAAAAPEAAADdAgAAAADpGI8BPwIAAAAAAAAaAzsKAAAAAAAAAAAAAAAABgJIAsABAABXAqkCmgIAAA8B0QQAAF0CuAQAAAAA/QeKAa8GbQUAABUGAAAAAFEDAAAtASEArQZmAOgEAADWCbED9gBSAQAACACEAgAAAAAAADMM6QYAADoDHwoAAJEGAADZAAAAJwUAAAAAAAAAAAAAAADPAfMEvQAAAAAAQwPSAgAAkANJAwAAAxAoAAAApgMAAE0JAABgDQAAAACbASUCAAB3ALML4AJYDQAAMAMAAHQO+ggAAAAAPQCcAAAAAAAAAJ8CBALsBAYHvADSAagI4wT6A2MFAACyDbgGAAAZDOUAUwC7BQAAAAC+AlED4gG2Aa4EjwUAAAAAMwAAANwCXAwAAJUFAAAAAJMBAAAAAAAAVgYAAAAAAAAAAKACAADRBYsK+ghiAwAAXQQkBvUAAABUCAAAAQstB6EBdQGPAAAAcgMAAIMDAADvAwAAAAAAAJgBAQOdBAAAAAC+BfcBjg1ZBQAAnwSGBvoRAAAAAAAAlgEqCAAAfQcAAAAAAAAAAAAAAAAAAAAApQQPAH4NdgcAAAAAAAAIAwAAAAC1AAAAagu1CgAA1wBbBQAAmACJCE4BAADGBAAAAAAAAAAApgf7CQICYgQAAAAAAAAAAPoEOAtTClgFAAAAAAAATAwAAFgAvwV3CAkDDgAAABwFAADnAKMAAAAbCTkNAAAAAAAAGAEAAAAAAAAAAAAAdwREBQAAAAAAAFkA/AgXCgAAAABDDAAAAABEBQAAogoAAEwAAAAAAAAATAKpBoEBQwEAAKEFhwGiC1YF7wEAAAAATQCJACoBAABeArgC5AQAAAAGmwLPBAAAfwEvBo4JaAhjAQAA5wFGAfkB2QMAAAAAAAAzBAAAQAYAAAAAAAAAAAAAkQoAAAAAEgbfAwAAAADSAMICCAUCAAQCAACkCSgCfAoAAFEGAAAAAIQDAAAAAAAAAADlALQFAAAAAIsNWAdnBAAAuQoAAAAAaQQAABsBmwMAAP0AsAEAAAAADg32D1kCJQC1BQAAAAAAABUIAAEAAAAAAADhBf8EfAoAALoHAAAAAAAAAAAAADUByQAAAJ0IAAAAAAAAlACVBHUGhAWQBEwBAADSBgAAzw0IAk0DAAAAAAAAWwBFAPsAAAAAAAAAAAAAAAAAAAAAAE8FAADrCg8BHAcAAAsDtATkAAAAAAAAAAAA9QAAAAAAAACNAy0DBgjlAfwFAAAAAAAAvAMAAIoBxgYAAAAAawcfDnELxAgAAEMPAAAAADcDAAAAAAAAAAAAAAAA6QfOBAAAAAB6AR0BSBBsBo0BfAKMANkEAAAABWICAAAmCcIIAAAVAgAAtgMSCroGAADvAucCEgI4ALsFfAeeAC0GAACGAwAAugMAAI4IUAGwBQAADwCBAxkDJQAAAKsAAAAAAK4DUAKQAwAAAAAAAAAAMAHHBgAAAAB6CQAAAAAAAPcBMQNRDKwA6gCzBwAAgADUAQAAkgMJAAAAYQsAADMFAAAAAAAAAAAAAAAAAAC4CEMAAAAAAAAAAAAcArYOAACTAAAAWgIAANYDAADLAwAA8QUAAMwA8AIDAKIDAAC/CAAAAACFCpoAAAB7BQAAxwoAAAAAAAAAAPQE+wgAAAAAAAADCIwFAAAAAAAARgEAAAAAAAAAAEIF8gBfA60EGgCVCdgCAAAAAAAAZQMAAAAAAACuAgAAAABuBAAAAAAAAAwEIQEAAAAAAABlBHAHAAAIAEQMAAAZDDsBaQIAAHUAAAAAAC8IAAAAAAAAcQYAAAMBAAAAAAAAAAAqAAAAAAD7BgAAAAAmAcMCfQFSAwAAAAAAAAAAAAD3BG8EAAADA8sAvQUAAAAAAAAAAAAAVQEAAGUNAAAAAAAAAADDARsEAADfAUkEAACiBSwBAACcAwAAAABgCd8KMAsAAFcGAAAAAAAAAAAAAHQIAAAAACMFAADSB5EHswJCAPYMAAAnAgAAAADFBGAEAABdB4kG0QN6BlkAeAPVBQAAAAAAANYBIgMAAAAARgEAAAAAhAZxBe0A7QwAAG8KAAAAAAAAzwA/BAAAmgSLAN8HAAAAAAAAOgsVBuQRKANfBgAAAACgDAAA1wMAAAAAAAAAAKoDdgIAAGgIAAAAAAAAEQSnAngEcQwAAAAAigSQBg4IAACjAAAAlAEAADYEbwAAAFwGBAAeBOUIAAAZAQQCsgAAAAAAAAAAAAAAAAAAAAAAAAAAAAAAzwcAAAAAAADmDJkFIQVfAgAAggUAAAAAAAB1AAAAAAAAAIgIAAAoAgAAWgkAAAAAAAC9AJ8DAABhBKMC/AcAAAAAugAAAF8GAAD6BqAAAAAAAHABPAAAAOAHAAAAAJ0GrwcAAOYEAACqBQAACghZAAAAgAAAAHMDAAAAAE0CXgMKBgAAAAAAAAAAygUAAAAAAAAAAAAAAABSAwAAaAbIDQAA2gQAAAAAAAAAAAAAAAAaAQAAggQAAAEEAAAAALUIAAAAAAgGHgQAAAAAAABGCwAA9AYAANwGAAAAAAAAAACOBMcHAAAAAAAABAETB3gCAACuAAAAHwkAAAAAAAAAAJYAAAAAAIMAJAGFBAAAMwIAAOgEJwgAAGMDYwQAADsBxQN4BAAAAABVAwAAAABOAZMFtAkAANUJAAAAAFwIFAcAAHsIAAAAAAAAAABcBwAAAAAAAPEARwkAAAAA4whjERgNAAADBeQEAAAAAOAJvQEAAAAAzAAAAH4OAACkCAAA4wEYBPEBAAByBsIKgwAAAAAAAAArAyAMQQIAAEMFAAAAAAAAhAEAAH8BWQEAAAAA0gDGAwAA1gW1DAAAAAAAAAAARQMAAPcAAAAAAB0FAAChDpkHZAO/A/gIAAAAAAAAAAAAAOsNAAD8BwAAAAAKCwAAAACBBgAAAAA0AwAAAAAAAIMCAAAAAFYCAAAAAAAAAgcAAAAAxQkAAB4IpwtkBH0COAEAAAAA6AoAAAAAAAAAACYEAABjCAAAAAAAAOYCAAAAAAAAqQIAAAAAyQGuBAAAuwUAAJkDAAAAAK0AAADhBwAAAAAAAAAApwDVBQAAAACFCTsOdQYXAVUGAAAAAAAAAAAMAgAA6QEAAM0IAAAAAAAAagQAAAgDlgK9CJMBAAD9A7gAbAIAAAAA6gJ7BM4HdQRKBAAA3QG+Ao4EAAAqAgAAbwMAAAAAAABUAwAAcwy6DwAAJwAAAAAAXQYAAAAAwQAAAHsHtQR1BHsGDQEAAAAAxAsAAAAAEQWgAQAAkwgyB80FAACiA6UADgizAe8B4wLOAHEAlgBoB9kAgAcAAAAAAAB7A5cGcAYAAAYEAAAAAOcFAAC6CwAAAAAAAAAA0QIAANMCEQEAACUJ6QFPBQAAAAAAAAAAXwCUCfcFBAF8BzcKAAAAAOIUAAAAAAAAAAA3AJkCLwpsAhEPogIAABABAACCCzIBAAAAAA8CAAAAADAAUgN8BXINwAAAAAAAbgORDSYKhQeRAOwJrATNDgAAAAAAAAAAAACyDAAAAADmAIQCAAAAAFMBAAAAAAAAAAAAAAAAAAAAAHMAhQEAAAAA/A8AALYAzgTDCgAAXQKAAAAAhgLmAgAAAAAAAAAAAAC2DqgG2QEAABAIPAMNBAAADQkAAAAAAAAAAB8LAAD4CQAAAADjCwAAAAAAADkAAAAVA7kK5QJ+AHEAAAAAAAAAAAD/CQAAAAAAADMBfw4AAB4GVARYEUoCAADRBgAAAAAAAAAAMgkAAAAAbwYAAAAAAAAuBVoFYwsAAAAAAADdDCQL8QEAAAAAAAC6AgAANgNeBRYKDAgAAAAANQQAAAAAUgAWBQAA2QkAAH0KnAQAAAAAjwALAHwAhgAAAPgJKwNjCrwOhQkAAMgCMQNDAZgA1wJKAwAAHgMAAEwO4AfEA4UHAACzAwcL6wBFBgAAvAPABAAAAAAAADABAAAAAFIMCAViC9oDAAAAAKgDAACCCGAEAAA7CfYHAAAAAAAAEAVoBGkCygQAAAAAOgcAAAAAAAA8AQAA2QhkAQAALQGgA2AAAAAAAKwDAAAZAAoCLgUAAAAAtQO7AwAAKwAAAAAAAACyAgAA0wCaAwAAdwAAAAAAAAARBgAADQTKAkcBXgNRAQAAAAAyBLEEAAC+AgAAGgCECx0IsALbC+gBAAAND2YFAABpDAAAAAAAAAAAAAAAAN0JAAAAAHcIAACEAwAAMQUBCgAA+gEAAP8EpAYAAOQHAAAAANsEAADsAgAAAABHBy4CAAA4BBsIAAAAAAAAAAA5AgAAMAEAAAAAPwEAAAAAeAIAAAAAAAAAAAAAAAAAAAAAAAAAAKsKbBAAAAAAAAAAAAAAAAAAAAAAAAD9AQAAuQPnBQAAAAD/BocEBQ0AAJUAAACHCWYEHgMAAF0HOgcAAAAAcQcmAYYDbQMAAPEEAAAAAKEDAAAAAAAADwYAAAAATQCdBQAAAABBAUUIywPzAwAAZACWBPkLygrsACENAACrDrwB4QaiAAAAAAAAAAAAAAD0AP8PAAAAAAAA9AJ4A+ICHwoAAOwCAAAgDMEMAAA+Bo4EAABFBAAAoAXkA5UFAAAAAAAAAAAaBwAA0gMAAMcDdwfRAAAAAABMCgAA3gYAAKgCAAAAAAAAhQUAAAAAAAAAAAAArAsAABAF/wnPBQAAAAAAAAAAAACvBAEBmwAAAAAAAAAAAFEHQQQAAFgEAADvChgBAACPAwAAJgYAAAAA4gAAAAAAAABiAwAAAAAAAAAAAAAAANUIAABXBgAABgEAAAAAAAAAAAQIAAAUAAAA4wEAAAAAAABXAwAAAADzAQAAawFcCKgFlAn/BgAAAAAAAGwHAAAAAHMGAAAAAKEEAAC7A2EAswMAAAAAAAAAAAAAAAAAAAAAAACLEGcJAAAAAHUNnwtSDbMDDQIAAAAAAAAAALAFEwIAAF8EoQEAAAAAAAAAAAAAZQYAAAAAAAAKD3YFAAAAAAAAsgAAAAAAAAAAANMDmgcAAAAAewVPBSMKLgEmB8QIAAAAAFYAAAAgBQAAdgdjB48BTgEAAKQC2gQAAJgKAACDAQAA2AgAAAAAAAAAAGUD6wUAAMQL0wUAAGwBaAAAAAAAAAAAAAAAEQYrAGUAAAAbEq4BAAAAACQKsgcAABUF5AsAAAAACgVAAQAAVAl4AwAAaQEAANcBAAApAnoNgQMAAKYCAADOA74BAAAgC8YAAAAAAAAAAABLCwAA8AgAAAAA7A0AAGQGAAAAAAAAHQkAAPcGRAQAAPkBXAsAAAAAAAD2BQAAAAAAAI8GAADxAAsDAADTCuEKzQVXAsoDcgcAAAAA1wwAAF0CAADlAUMHSgEAAAAACgYAAO8CHQQrDC0AAAAAAAAALwEAAAAA3AIOBAAAsAFmAgAAfBMAAJ4DAADAAJkBAAAAAAAAAAAAAAAAJgAwDZ4ImghVBQAAAAAAAAAAkgGtAAAA1gQAAAAAAABiAgAAPQUAAAAAIAcAAAsBAABmCAAAAAA8APwAagEAAAAAAAAAAOgLSgTtDAAAQwjcCQAAAADtAxoMAAAAAAAAAAAAAAAAJQTvAXEEAAAAANEBaQKdBgAAAACCDAIPAABsBn0RAABWAAAAAAAAAAAAAAAAAAAAAAAAAAAAHwcAAGEKAAAAAAAAYgUfBAAApQdrA6YEAAAAAEcE0gCPAOkCSAE/D/cBTgUAAAAAAAAAAAAAOAAAAIICAABMCO8BAAAAAAAAAAAAALkKAAAAAEwKAAAAAA4BAAAAALMNAAAFAgAAAAAVBgAAAAAAAAAAXwEAAPAEAAAAANMLjAQAAAAAAAAAAAAAcwhaBhoKAAAAAGIDAAAAAAAAAABVAQAAAADDAAAArQEAABMDAAAAAAAAcwAAADwBAAAAAGAAiAQAAE0AAAAAAAAAjQcAAAAAyABHCQAAAAAAAHMFAAAAAAAAAADwBSgDXQUPAgAAAACKCOoHlgTZAAAAAAAAADwMFwAAAAAAZAwAAMkG8gRMCAwIuQoxAgAAAAD4AgAANwcAAK4IfQUAALsDAAD4CkcCAACNC0gIAwcAAGYBCAPMAQAALAAAAAsPAAAAAAAAAACDCPwEAAAbBEwDAACMAgAALAKqDh0D7QwAAGIG3AMAAAAAAAAAAAAAAAAAABYKAACCCAAAOQIJApoH9gCSBYwALAEAAAAAGAQAAKACAADLAykBwAQAAAAAKgQAAAAAAAD6CgAAAAAAAK4GAADVAMkSWgwAAPQFAAA6B4ABAAAAAAAAAAAAAJwDEwSgBwAAXQNNATABbwcAAGkFAADDBbQMAAAAAAAAAAAvAQAAAADIArgAAwBDAmcHew/sDFoGJQejAAoFAACeAQAAeAcAAE4HAAAAAPADAAAAAJkFAAAABtEBvQJEA5MFygAAAIwL8gJDCwAAAACIAQAAAAAzAzwNAAAAAAAACggAANEAxQQAAAAATAeaAAAA6AAAAOMBAAAAALoKAAAAANoFAAAAAAAATgLzCaAAtAYAAFEBhAIAAGEDAAAAAAAAzQMGAVMFAAAAAAAAAACoBAAAuBIXA/oF+wZSAQAAAABvCDIMogMeAmYGjgMAAHoCAAAAAOUJRgAAAOIDoAEAAOUDqgkAAAAAgQwtAAAAAAAAAAAACQxZBwAAJQMAAOYBAgUAAAAAaw0kAwAAYAsAAAkHAAAAAFoFAABNAP0EAAAAAOoCAACiAAAAAADrDgAAAAAAAAAAUwUAAAAAAABgAwAAAAC8APEBwQAAAAAAGwEAAG0CCwYAAFMEAAAAAJ4BAAAAAAAAxAQAAAAAHw08CC0BogTnAQAAiQMNCQEIAABEAfQC+gBSAAAAkAjOAoAEvAE4AQkHzQEAAAAAAABUBAAAAACcAQAApwaMBeIDegQAAAAAAACsGGAHAADPAHMDAAD5AKsIAACmACIFAAAAAAAATAQjA84CAAAsCwAAAAD4AwAAAACCAwAAAAAPB+cBAAB+DAAAHwH0CAAAAAC7CwAAAAAAAAAApAWgBcMFewEAAKUBAAAAAAoAXQAAAAAAAADCAgAA0gC+CZYFAAAAAAAANQ7zDAAAAAAAAAAAAAD5AwAAAAAAAIUFkwsAAAAAAAByAJQBVgAlCjwAAAAAAAAAAAB/AAAAAAD2AQoHSQAAAIkHAAC5BaIDtAAAAAAAAAAAAAAAiAUAAEIDQgGkBAAAAAAAAAAAfAkAAAAAAAAAAAAAAAAAAAAAAAC1ApUC0gIAANcEAACSA+MFAABZBAAA/gAAAPwDAAAAAAAAAADiAQAATgFSCgAAAAAAAAAAAAAfBwAARAQAADUCgwlJAOgGrQVYBccIbg4aAnUD+gUAAEEByAUAAGcDiQAAAAAAAAAAAPQCIgIAAIIAAAAAAAAAAAAAAEUHAABJBAAAAAAAAAAAAAAAAAAAGwxhAQAAiQajDgAAAABtA9UAbwZOAwAAAAAAAAAAAABpCc8FAAAAAAAAuARKAAcFOQHGAgAAcAREDukAjgo1BjgINgPqAAAAAAAAAAAAZAQAAAAAqwtyAmQHawkAAAAAKgR9BwAAAAAAAAAAAACBClEJlQUAAAAAAACgDLcF3wQAADkGAABaCokNAAA0CE8CAAAAAAAAtwE0BgAAbAAQBwAAAAAAAAAAZggAAPUAAABHBAAAAAAAAAABAAAAAAAAsAEAAFYIDAUAAFUFAAAAANcDuwUAAAAAWAgAAAAAEgAAAC0AAADiAgAAowDhEFkCyQgAAAAAAABOAwAAsAQAANkEAAAAADEJAACUAwAAAAAAAAAAAADJBOwFNQCSAWUDFgSDDkcA/wYCAgAA8BNSAgAAIhAAAEUBAABTBwAAAAAAAAAA7gb5CvcAowsAAC0HAAAAANICAAAAAI4G0wAAACoGKwMAAMgCAACGDgAA4QIAAEEBAACfAAAAAAAAAD4CAABTAAAAAAAAAAAA1QZlA6ED/gEAAAAAAAAlC/8B7ggAAAAACwEhA/QEAACFAQAAXwsqCkUGDQ0AAAAAAAAAAAkFAAAAAAAAVQEAAJMIfANlCK0IAAAAAAAAdw4IBJ0EAAACBOQHAAAAAG0CAADJBEEDfQFoAgAAAAAhANwCxwkAAJILAAAAAAAApgOpAQAAsAEmAwAAAAAcA54EbwgAAAAAAAAAAAAAlA4OCO4HwgO3AQAANwYAAAAAAAAAAPkAoQwAAAAAAAAAAAAAAACwBpEBAAAAAEQA1gSXAqEAAAAACngDAAAAAMQAKAUAAA4HAAD0A+gLAAA2AwAAAABZAd0DrQCUBQAAAAAAAOcIAAAAAAAAAAAAABQDAADEAf4JbgE9DQAAAABLBwAAAAB7DQAAAAAAAOUC9QAAAGQFAAAAAFEGZwEAAAAAcgivAgAAdgG3AQAAAABuAAAAuQZAAQAAAAAAAA4R+wFfBAAAPQMAAHIGAAAAAAAAAAByCgAAxwcAAAAAAAD6BFgDiAUAAKMIAACTCXILAADlD5ABNQiyBAAAAAAAADsGAAAAABgCAwbzAQAAAAAAAJYLBQMtAnECAAAAAAAAAAAAAA4J1AcAADMCFwAAAAAAeAEAAAAANQIAAPgA3QYAACUIcgQAAAAASglmAgAArAsnAOwEAAA4BQAAAAAaAbQJZAIAAAAAkQPaAgAAAAAAAGwAIwN2BQkG6QEAAEQAsAQAAL8DAAARBOEBhwZZAo4DEwUAAI8Hwwp0AgAA1AEAAAAAYwwAAC0I4RBGAhsAewIAAH8I9QYAAGUBAAAAAAAAYAMAAAAA+gUAAAAAAAAAAAAAAACuBDwINAYAAAAAAAAAAAAAAAAAAEUMAAAAAAAAjAQAAAAAgwSIASkHzAEAAG4EKgkSCQAAAAAAAFMHAADzBQAAAAAAANkD1gQAAAAAAAC0Ao8DZwgAAAAA3AUAAAAALgcAAMAAAAAAAAAAYwEAAAAAcgEAAOQBmAgAAAAAAADeBpkBjwoAACYCjAAhAY8B7wAAAAAAAAAAAAAALgMAAEgBxgEAANEHAAAAAAAAAAAAAEEBAAAAAAAAAADwAwAAEA0AAAAAGgEAAAAAAAAnCWQCQwhhAyoH6goIB10DAAAAAAAAAAAJAhwLAAADBwAAAAAAAAAAAADOAAAAAADiBAAA5AFEBlwKAABuAikI6QkAAAAAVAwAAAAAcQIAANICAAAAAAAAfgQcAY8NsQANBnkKKgA3BAAAAACBBB8CAADtBrMD7gYAAAQGCAQBAXIHAAAPAhIBJQEAAAAAdAUAANUGAgWsCdgBPw8AANUBxQAAADAGLQcAAAAAEgAOAgAAAAD7CXsHAAAAAHMDAAAAAAAAAAAvDAAAAAAAAAAAuwUAAJEDAAAAAAAAAAAAAPEDFgQAABoNAACuCQAAAAAAAAAAAAAAAEICAAAAAAAAIQoAAAAAAAAAAAgFAACVBAAAPwpcCBkHAAD3AwAAAAAAAN0ByQO1BssDAAAAAAAAGggAAAAAKAYAAAAAAAAAANQLAAA/CQAANAIAAAAAAAAAAOgEAAAAAIoGIAnnAAAAtggnAwAAAAC4BFwD8AQVBAAAAAA6BAAAmAEAAAAAAACtCgAAsAgpBEkBkAbcAQAAAAAAAB0EZwIAAAAAFgkAAFkAAABzAAAAAADOAzgOAACzBAAAAAAAAGEHfwEMB8QEAAAMAAAAkQXGD1gAWAMAAAAAXQAAALgOAAAAAMgFywwAAE8GAACqBAAAAAAFAQAAAAAjBPYCAAAAAAAAAAAAAAAAxwm8CgcBVAJhB7wGXAfmA6ME6w8AAOMFAADZA1UBAAAAAAAAcAKGAgAAIwEAAJsBAAAAAPEExgMAAAAAkQQAAAAAAABeCIMBAAASCCUDAADNBLsAAAAAAAAAAADsBBMAAAAAAAgGSQIAAFkIfwQ3BBYKeAIAAAAAAAAAAAAAAAAAAAAALAQAAAAApA0AAJMBsQAAAAAAvAPTCAAAAAB/BAAA5AwAANMBnAAAABkHAACnAdcAAAAAAAAAAAAAAAAAAAA5AL4E3gEMAgAAAADiAQAAAAAAAAAAAAAAAJIFjwVYCRECRgi8AgAAUAUAACAAKAIAAAAAAACgALgEsAfHCuEFlgkAAIQAAACbArwAAAAAAAAAAAAAAMQHeQUAAAAABgVqDAAAAAAAAAAAAAAAAHoEugKMAO8DvAYAAAAAAACvAAcJAAAABNoG2AM/EAAAOwsAAMwFAAAAAAAAFxIAAJ4JAAAAAAAAVQQAAAAAAAAAAAAAAAANBAAAAAAAADwAAAB4CgAAdASOBvwAZAkAANgGAADfBbwF8QIAAAAANQDaDXAEAAAAAAYBDQjpDAEDAAAAAAAA8gYAAAAAAAAAAJ0DAAAAAAAAAAAnB2cCAABkAAAAAAAAAJEGAAAAAHIHAAAHA4EDsBAAAL0B9wTuBAAAngAqBP0DAAAAAEQIAgZ+BAAAAABzAIcDAAAAAD0CAABRAncKIwkAAAAAJwDHAgAAAAAvAgAAgAEAAAAAAAAAAAAAAAAAAAAAAAAAAAAAQAJGAAAAAAAAAAAASAQAALgDAABMALYAAABiDDsCAAAAAAAAGAJ8AgAAAAAAAAAAhQK6AQAASwAAAAAAzgMAAAAAUwJrAtMBoAwAAAAAAAAAAKUG2QbTBIIBAACxA5UFAAD+DwAAAAAAAAAA2gYAAAAAAAD8Ax4KAAC8AAAAAAAAAK4AAAAAAK0LAAAAAFAFMwEAAAAAXwZDDwAAAAAzDwAAAAAzDQAAGAEAAAAA7g7eAwAAhQgAAOQLAAAAAAAAkwAAALQHbgojAwAAcgQAAAAAAAAAAAAA1ADHAcIEyQIAANEEAAAAAJsAAAAoCnQIvgQxBMcIRwsAALwAfQEAAAAA5gEAAAAAAAAtBUQBAAB4DAAAAAg9ACQEAAAAAJYBqwgAAAAAeAQAAPIA8QQAAKYXwQTEBgAAnwsXAQAArQoAAAAAQATsAAAAAAAAAAAAAABFAQAAzQcAAP8NAAAAAP4AAAAAAAAAAAANBAAAAAAdAmcGcwMAAAAAAADmC5gLiwEAAAAAOgAAAAAAqADWBRQDAADIAqEMNAEAAAAAAAB7A5UA3gYAACUHAAAAABMKRgAAAAAAAAAAAAAAGwmKAQAAKwYAAI8FawRlAAAAIQB9ACELIgaUAgAAAAAAAAAAAAAAAAAABwQAAPEDkAUAAGQDAAAAAH4DAACBCAAAAAC7AAAAAAAAAAAAwQcAAAAAAAAAAAAAAAAAAKMGAAAAAAAAAAAAAAAAAAAAAAAAAAC5AQAAAAAGBAAAGAIAAAAAAAAAAAAAJAQAAAAAnQgAAAAA2gGPAgAAAAAAAAAAAAAAAAAA8ACFBAAAAAAAAAAApwFAGhYQCA0AAGwDAABPESEIAAAAAAAA6As/ApQBNAAAAAYGAAAAAAAAAAAAAAAAGAS6DAAAAAAAALIBFAHoADwBAADjCukC3gAAAAAAsQQAAAAAAAAAAFIBAACABRYC9QCsEgAAAAAAAJQGvwGIAaoFqQETCAAAAAA2BokGAAAAAAAAvAWrAQAAAAAAAG8DAADsA8kCAAAAAJwCDQYAAAAAAAAAAAAAjwjyAwAAAAAAAAAAWgMAAAAAxQMAAAAAAAAAACYLUQHuAwAAAAAAAAAA2AUAAOwAAAAAAAAAAAADAAAAAAAAAHYMzAaEBGwHXgZFBK8AAACfAAAAgAm+CvkA5AEAAHsA7gQAAAAAAABMAwAAAAC7AwAAAABYAy4NAAAAAAoCNAEAAAAA+gcAAAAAQwcAAJYLAAAAAAAAAAAAAPAAqAQWAwAAHgMIB0cG0weXCAAAAAB8BGYJAAAAACEAgwnOAgAAkQoAAAAAAAB7B48CAADwAwAAqhIAAAgAAAAfAgAANwPDCPUBAAAAAAEBAACMBzsEAAAAAAAAswcAAEQBAACsDAAAAAAAAFkGAAAAAAAAAAAAAPEGAAAKAwAAAAAaDQAA7gKmAwAAAAABCAAAAACkBb8MOQDfBGgFfAEAAAAA9wGtAg8LAABcAQAAIg0AAG4ARgkAAMAAAAAIARIAAAAAAAAAAABvAAAA+gaVAPcBAADjBdEHAABsCHkH4ARiCAAA1QS0AX4DAADYAGEFeQW7AAAAAAANAUMHAABGAQAAngIAAA8DAABnAQAAcQRuAgAAsgEAAAAAogM7GUECAAAAANAG7QMAAP4HKggAAE8FAAAdAVgDAAClAMgAAAAAANYAqAMAACACBQkAACoEfhBDAl4BPwkAAFgCAAAAAAAArggAANsCtAZDAJ4FAgR+DUsD1gUAAAAAAACpCGgEAAA3BmsBhAXeAjoBAAAAAC8GdgXiAdwJAAAAAAAAAAAvAMoA+QIAAAAAVwYWA8YNAAAAAFEKAADsAAAALwEAAMsFAAB0AAAAAAAwCAAAAAAAAJgLwQBZCgAAiQZmC4gFAACaBcUGqwE8AAAAAAAAAAAAAAAABYUCswQzAgAAAAAAAAAADAUAAAAAAAAAANQJAADXAT8DAAAOCZwDywUAAAAAAACvAKYApwMAAAAAAACXBG8AAACqA7wIAABbBHkKAAAAAN4AAAAAAEMIUgAcBAAAmQMAAFAB7wZPAgAAagGmATcHjwGCA1IKAAAAAAAAMAUFAIgEQQCiDCkAmQIAADYFlAQAAJ0JfAUAADMCYggAABcHqwcAAAAAFwgAALsBJwIAAAAAZA8mAgAAtQwYBwAAAACyBl4DAACwBwAAZAQVCQAAPQdsBSUAAAAAAAAAAAAAAAAAAAAmAQAAAAAAAAAAAAAAAEoEAADqByUGAAAbACwHAAB4BwAAAABgB4MEAADIAwAAnQPJBzABAACSBwAA+gQAAEsAAACJAAAA+QcAAAAACAEAAC0JBwIAAOkHAAAAAAAAmQ4AADAOMAYAAAAAAACGBgAAQAAAAAAAAAAAAAAAaAMVBwAAAAAAAAAAMwfxAAAAVQEnDAAAAACUDAAAAAB5B1gCAADsAAAAAAAAAAAAbgUAAHMEAAAKAzMFfgBZEgAAAACMAQAAAAAAAAAAUwkAAAAAKQUAAAAAAAAAANcEWwUAAI4FAAAAAKoLkAIAAMwCPww0Ao8LygAAAAAAAAAAAAAAAABWAVQEAAD+BxYAAAB/BAAAugEAAAAAVAMAAAAAAAAAACsAAAAAAJQEwgcEBC0DAAAAAJEIAAAAAAAAAADnA0sGIQUAAJYDAAAAAGEAAAAAAC0EAABGBQAAbQQAAIkA5gDEAwAAAAAAAPYHrQkzBY4FAABBB38JJgkiBa0OrwAAAAoFmgkAAD8FrgAAADEEAAAAAAAASAIAAJ0AAAAAAAAAJwT/AIsBAAArCFMDUAkAAAAAcA4cAwAAvgamCgAAAAAAAAAA0gCGAr4DAAAAANQDAAAqAf4CAAB4AAcAAAA2AgAAgAHiALsGAAAAAAAAMxBHCQAAAABMAv0H5QYAAK0HnQ4AAAYCAAAAAIQDAABvAwAANwJoCswF1wkAAD4DEgrHBQAABAcAAI0DkAJLCQAAAAC7BX0HAAAAAAEDAAAAAAAAzACCAicGhgIAAPsKaAQAAAAAAAAAAAAA/QQAAAAAAAAAAJADAAAAAAAAAAA9Bf4KAAAAAAAARAMAAKgCAACzDJwCAADuCAAAAACuCAAAAAAAADECAAAAAJQG/gYZCQAACQQAAAAAAAAAAEsBAACKABcG2ggQAgAAAAAAAE0CAAA+BO4FAAAAAAAAaAMAAMEIAAD9BeAGiQDKA/UGAAAAAAAAMQQAAJcOAAAAAEkJAAArAAAAggbSAgAAPgIAAAAAjAN9BQAAAAAtAQAAVwcAAAoHzA4rAQAAAAC0Cx8BXQIwDQAARwOQAQAANQYAAIkNAADiBwAAAAAAAAAAAAAAAEkCAAAAAHAGcA4AAAAAAABWCKwHOAPJBPQKEgUAADMDAAACBwAAAAC2BQAALQsAAAAADAIAAHgKOQEAAAAAAAAAAD4UAAD7AAAAcQEuAwsG8gGDAcICZgbpClkDpwIAAAsEdQLZBHsKAADsBgAABwUAAE0AJA9bBi0GAAAAAOMHAAAAAPgGAADUAwAAlAMiC1IF1gYAACUBAAAAAM8J+gQhCAAAMQX1AQAAZQcAAAAA+wUvBEgB/AwAAAAAAAAtBQAAAADNABUIAAAAACkDAAC6AXMIFgRVBskAjwMAAHcHAAAAAE8HKAAAAL8CAAAAAAAA5AoAAAAAOAIAAGIHtQB4CQAAGAsAAAAAAACVCQAAAACBBgAAuwq6DQAAfAIWA4UI1wAAADsLAADMBBAAcQYeAgAAAAAAAAAAIgNbACwCQgQAAAAAAAAAAAAAFQZsC34JAAAkBAAAygAAAAAA7ggAALsGAAAXAF8QAAAAAAAAjgFHDAAAAAAAAEYIAAAAAAAAYAEAAAAAAAAAAAAAAAAAAAAAAAAdAgAA0wMAAAAAAAAAABkDAAAAAAAAPgIzAl8XAAApBgMHZwC/AGkCAAAAANMGAAAAAAAAAAAAAAAAWQQMBAAArQAAAAAAGwIAAAAAAAATAcsEAADvBdUGAABUAgAAugBRAbcA6QZOAAsAAADSA4MLAABoAiwIAABOAs8IMwcAAAAAAADfCwAALQRuCfgHHAlAAQAAAAAAAAAAGgaVCE8IkAIAAAAAAAAAAAAAAAAbBBwJAADMAAAA8wIAAGcGzQqxCE0DvQEAAAAA2gIAAH8DMwQAAAAATQzLBwAA+AMAAL8I7wC8DAAAuwsAAIMCAACmEAAAJAAAAAAAYgFqEAAAAADTBQAA6gELDAcMzQAAAAAAoQUAAEgCAAAAAAAA4ArNBwAAXQd3Cc0FAAAAAAAAywUAAAAAwwu/AQAAAAAAAAAAAAAAAAAAWwH1ArkC3gQAAAAAPg99AZYKyAeyAAAAAAB1B88AAABcAgAAcAQrA+4HAAAAAAAACggAAGcDxgIAAHAFAAAAAAAAaQwAAF0JAABvCQAAAAAAAL8DAAD1BA8KAAAAAE8DvwexAAAALQIgA+sEiwEHBAAAOAAFAgAAAAAAAE4E5QQAALMBAAAAAHcLAABSBgAAAADnAwECAAAzAbMI/wcAAAAACwEAAEECAAAADlAEAAAAAAAAUgN8AAAAAAAAAAAAAAAAANIG3wb2AgAAAAAcAhQCigeAEgAAhQMAAEkBAAArCQAAAAAAAE4KAAAAADgE/wLDAPgK1QUAAAMMAAD8AT4E/gYtCrMDAAAAAAAAuBSUAwAAvwoAAAoKzQMzAQcIAAAAAMsCAAAYEG8HAAAKBgAAAAAAAH8R4gUAAAAAogE2AgAAAADJBcUCkAIAABQDAACVAv8DAAAzCwAAAACkBwAAswMAAEEFJwWuCAAAAAAAAHkSAABjCgAAjgNTCgAAAAAAAAAAAAAAAAAAAACMCgAAAAAjAQAAagbzDQAApQLBDqoJYwU3AAAAzwMAALIDSgjOCAAAAAAAAAAA1gMAAAAAugQAAAAAKgWhCgAAIAejBGcHAAAuBHsKVQjECpQDAADsBgAAIgIAACUF2wNoBgAAPwMsBwAA2wNLAwAAnQgAAAAA/Q++GAAAAACHBwAAAADNCJsPAAAXDAAAfgwAAHIAkAKpCwAAAAC3CwAAAAChC+AKRwMrB5sI7gcAANIMdwoyCPgE7AYAAIcBtgIAAL0AAADnBzAEqwEAAAAARQQqCVwCAABGCXcN5AbOCXADAAAAAAAAAACxCAUKnA/fCQAAAAAAAIEDlwTYCQAAAAAAAKMDAAAdEDgC5wU6DwAAAAAjEIEOAACRCAAAAAQpDAAAEAcAAAAAXA3AB44MPg3ZESkEbAEAAAAAbxUBE6EEQgrsFAAAAAAAAIELAAAAAAAAAADmACsQQg0iBQAAhQmbCQAAvwpADHMHmRUiCQAAMQ+yEdsKhxQAAGoJAAC8C1UTgg0AACcRzweSEY4LBRYdEwAAAADHAQEEGRZYHT4NrAGAEL4PGwCHAFEQbh0oDnICDghtA74LygbSBzoPyxU2AOEQ3QNvBWgFAACSGXcXfgo6BMoaAAAFEgAAFw06DGsZtxorADIayRw2GAAh7BIAANEYHQ0AAA4ZdhcAAC0jGxiqDQAAAABECgAAqh8mHGAZKgQAAC4UfBVDFgAAcxRhHQMPRBR6CH8AjBW0AIsYchLsFAAAvBjrHN4UAAAAAHwiwgG4AP0FAADsIJ8KaiN2AcgaAADlENEaAAAuFyEaywCDGmULNwYoG+IfhwcAJssanxwCIAAARhdqJIseAABFHhohtgMWFwAA5xoAAPANAAB2HSQjaCeNCgAAKx9PAAAAAACgIqYr0yFhKzMeBxV5LYcbAADHDwAiAADhJrEJWwDOJAAARSA1JwAAWSi1Bq8nniUAAIop6zEAAGYoNzKsAkUCZCsqIAAAQzroMNsrnwYAANEy5zVKMtI6RgGmMKg07DgVOo0mPDQZO8457yABHqVMrjX0OHJL0UpFQxxHGU38UPZPjCCHVR44NT47S8RokwvEMrtnjVobRoBAPEtxTcgjq0yBKHkYdDyqW/sqWSyaLf8wFEovcf9/qk/IKTFam05JTBp3/xinJdpcY2EbaQAAYWIvUQRjv2q9aA==\" type=\"audio/wav\" />\n",
              "                    Your browser does not support the audio element.\n",
              "                </audio>\n",
              "              "
            ],
            "text/plain": [
              "<IPython.lib.display.Audio object>"
            ]
          },
          "metadata": {}
        }
      ]
    }
  ]
}