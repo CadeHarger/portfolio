{
  "nbformat": 4,
  "nbformat_minor": 0,
  "metadata": {
    "colab": {
      "provenance": [],
      "authorship_tag": "ABX9TyOIEbXMltAzywf6lRMB6DZ4",
      "include_colab_link": true
    },
    "kernelspec": {
      "name": "python3",
      "display_name": "Python 3"
    },
    "language_info": {
      "name": "python"
    },
    "accelerator": "GPU"
  },
  "cells": [
    {
      "cell_type": "markdown",
      "metadata": {
        "id": "view-in-github",
        "colab_type": "text"
      },
      "source": [
        "<a href=\"https://colab.research.google.com/github/CadeHarger/portfolio/blob/main/Personal_Projects/Stock_Market_AI.ipynb\" target=\"_parent\"><img src=\"https://colab.research.google.com/assets/colab-badge.svg\" alt=\"Open In Colab\"/></a>"
      ]
    },
    {
      "cell_type": "code",
      "metadata": {
        "cellView": "form",
        "id": "HnUiGC0Tu851"
      },
      "source": [
        "#@title Run on TensorFlow 2.x\n",
        "%tensorflow_version 2.x\n",
        "from __future__ import absolute_import, division, print_function, unicode_literals"
      ],
      "execution_count": null,
      "outputs": []
    },
    {
      "cell_type": "code",
      "metadata": {
        "id": "pa7mtGdxvMEE",
        "cellView": "form"
      },
      "source": [
        "#@title Import Relevant Modules\n",
        "import numpy as np\n",
        "import pandas as pd\n",
        "import tensorflow as tf\n",
        "from tensorflow.keras import layers\n",
        "from matplotlib import pyplot as plt\n",
        "import time\n",
        "import math\n",
        "import random\n",
        "\n",
        "# The following lines adjust the granularity of reporting.\n",
        "pd.options.display.max_rows = 10\n",
        "pd.options.display.float_format = \"{:.1f}\".format\n",
        "\n",
        "# The following line improves formatting when ouputting NumPy arrays.\n",
        "np.set_printoptions(linewidth = 200)"
      ],
      "execution_count": null,
      "outputs": []
    },
    {
      "cell_type": "code",
      "metadata": {
        "colab": {
          "base_uri": "https://localhost:8080/"
        },
        "id": "0lO9bLhXvtUI",
        "cellView": "form",
        "outputId": "3e143e7b-a5ff-4f97-8d22-86d8ecf16d3b"
      },
      "source": [
        "#@title Load the Dataset\n",
        "file = open(\"AllStocks.csv\")\n",
        "\n",
        "def loadDataSet(dataSize):\n",
        "\n",
        "  testPercent = 0.10\n",
        "\n",
        "  # Create Array of all stock prices, average their daily highs and lows\n",
        "  length = 0\n",
        "  for line in file:\n",
        "    length += 1\n",
        "  dataset = np.zeros((length))\n",
        "  file.seek(0)\n",
        "  x = 0\n",
        "  for line in file:\n",
        "    comLoc = line.find(\",\")\n",
        "    try:\n",
        "      dataset[x] = (float(line[0:comLoc]) + float(line[comLoc + 1:])) / 2\n",
        "    except:\n",
        "      pass\n",
        "      #print(line, x)\n",
        "      #print(line[0:comLoc], line[comLoc + 1:])\n",
        "    x += 1\n",
        "\n",
        "  withLabels = math.ceil(len(dataset) / dataSize)\n",
        "  featureSet = np.zeros((withLabels, dataSize - 1, 1), dtype=np.float32)\n",
        "  labelSet = np.zeros((withLabels, 1), dtype=np.float32)\n",
        "\n",
        "  # Format the dataset into examples\n",
        "  for x in range(withLabels - 1):\n",
        "    for y in range(dataSize - 1):\n",
        "      featureSet[x][y][0] = dataset[x * (dataSize) + y]\n",
        "    labelSet[x][0] = dataset[x * dataSize + dataSize]\n",
        "  # Convert dataset to its Z-Scores\n",
        "  for x in range(len(featureSet) - 1):\n",
        "    mean = sum(featureSet[x].flatten()) / len(featureSet[x])\n",
        "    standard = np.std(featureSet[x].flatten())\n",
        "    for y in range(dataSize - 1):\n",
        "      featureSet[x][y][0] = (featureSet[x][y][0] - mean) / standard\n",
        "    labelSet[x][0] = (labelSet[x][0] - mean) / standard\n",
        "\n",
        "  testSize = int(testPercent * len(featureSet))\n",
        "\n",
        "  # Form the test sets\n",
        "  testFeatureSet = featureSet[-1 * testSize:]\n",
        "  testLabelSet = labelSet[-1 * testSize:]\n",
        "  featureSet = featureSet[:-1 * testSize]\n",
        "  labelSet = labelSet[:-1 * testSize]\n",
        "\n",
        "  # Shuffle the data\n",
        "\n",
        "  shuffler = np.random.permutation(len(featureSet))\n",
        "  featureSet = featureSet[shuffler]\n",
        "  labelSet = labelSet[shuffler]\n",
        "\n",
        "  shuffler = np.random.permutation(len(testFeatureSet))\n",
        "  testFeatureSet = testFeatureSet[shuffler]\n",
        "  testLabelSet = testLabelSet[shuffler]\n",
        "\n",
        "  print(\"Done\")\n",
        "\n",
        "dataSize = 10\n",
        "\n",
        "testPercent = 0.10\n",
        "\n",
        "# Create Array of all stock prices, average their daily highs and lows\n",
        "length = 0\n",
        "for line in file:\n",
        "  length += 1\n",
        "dataset = np.zeros((length))\n",
        "file.seek(0)\n",
        "x = 0\n",
        "for line in file:\n",
        "  comLoc = line.find(\",\")\n",
        "  try:\n",
        "    dataset[x] = (float(line[0:comLoc]) + float(line[comLoc + 1:])) / 2\n",
        "  except:\n",
        "    pass\n",
        "    #print(line, x)\n",
        "    #print(line[0:comLoc], line[comLoc + 1:])\n",
        "  x += 1\n",
        "\n",
        "withLabels = math.ceil(len(dataset) / dataSize)\n",
        "featureSet = np.zeros((withLabels, dataSize - 1, 1), dtype=np.float32)\n",
        "labelSet = np.zeros((withLabels, 1), dtype=np.float32)\n",
        "\n",
        "# Format the dataset into examples\n",
        "for x in range(withLabels - 1):\n",
        "  for y in range(dataSize - 1):\n",
        "    featureSet[x][y][0] = dataset[x * (dataSize) + y]\n",
        "  labelSet[x][0] = dataset[x * dataSize + dataSize]\n",
        "# Convert dataset to its Z-Scores\n",
        "for x in range(len(featureSet) - 1):\n",
        "  mean = sum(featureSet[x].flatten()) / len(featureSet[x])\n",
        "  standard = np.std(featureSet[x].flatten())\n",
        "  for y in range(dataSize - 1):\n",
        "    featureSet[x][y][0] = (featureSet[x][y][0] - mean) / standard\n",
        "  labelSet[x][0] = (labelSet[x][0] - mean) / standard\n",
        "\n",
        "testSize = int(testPercent * len(featureSet))\n",
        "\n",
        "# Form the test sets\n",
        "testFeatureSet = featureSet[-1 * testSize:]\n",
        "testLabelSet = labelSet[-1 * testSize:]\n",
        "featureSet = featureSet[:-1 * testSize]\n",
        "labelSet = labelSet[:-1 * testSize]\n",
        "\n",
        "# Shuffle the data\n",
        "\n",
        "shuffler = np.random.permutation(len(featureSet))\n",
        "featureSet = featureSet[shuffler]\n",
        "labelSet = labelSet[shuffler]\n",
        "\n",
        "shuffler = np.random.permutation(len(testFeatureSet))\n",
        "testFeatureSet = testFeatureSet[shuffler]\n",
        "testLabelSet = testLabelSet[shuffler]\n",
        "\n",
        "print(\"Done\")"
      ],
      "execution_count": null,
      "outputs": [
        {
          "output_type": "stream",
          "text": [
            "Done\n"
          ],
          "name": "stdout"
        }
      ]
    },
    {
      "cell_type": "code",
      "metadata": {
        "colab": {
          "base_uri": "https://localhost:8080/"
        },
        "id": "aTe0zcfgBIMT",
        "cellView": "form",
        "outputId": "ece0f996-4743-4564-884d-726afabaff9d"
      },
      "source": [
        "#@title Define the plotting function\n",
        "'''\n",
        "def plot_curve(epochs, hist, list_of_metrics):\n",
        "  \"\"\"Plot a curve of one or more classification metrics vs. epoch.\"\"\"\n",
        "  # list_of_metrics should be one of the names shown in:\n",
        "  # https://www.tensorflow.org/tutorials/structured_data/imbalanced_data#define_the_model_and_metrics\n",
        "\n",
        "  plt.figure()\n",
        "  plt.xlabel(\"Epoch\")\n",
        "  plt.ylabel(\"Value\")\n",
        "\n",
        "  for m in list_of_metrics:\n",
        "    x = hist[m]\n",
        "    plt.plot(epochs[1:], x[1:], label=m)\n",
        "\n",
        "  plt.legend()\n",
        "\n",
        "print(\"Loaded the plot_curve function.\")\n",
        "'''\n",
        "\n",
        "def plot_curve(epochs, mse):\n",
        "  \"\"\"Plot a curve of loss vs. epoch.\"\"\"\n",
        "\n",
        "  plt.figure()\n",
        "  plt.xlabel(\"Epoch\")\n",
        "  plt.ylabel(\"Mean Squared Error\")\n",
        "\n",
        "  plt.plot(epochs, mse, label=\"Loss\")\n",
        "  plt.legend()\n",
        "  plt.ylim([mse.min()*0.95, mse.max() * 1.03])\n",
        "  plt.show()\n",
        "\n",
        "print(\"Defined the plot_the_loss_curve function.\")\n"
      ],
      "execution_count": null,
      "outputs": [
        {
          "output_type": "stream",
          "text": [
            "Defined the plot_the_loss_curve function.\n"
          ],
          "name": "stdout"
        }
      ]
    },
    {
      "cell_type": "code",
      "metadata": {
        "id": "L6c1c1VfBWZl",
        "cellView": "form"
      },
      "source": [
        "#@title Model Creation\n",
        "def createModel(lr):\n",
        "\n",
        "  model = tf.keras.models.Sequential()\n",
        "\n",
        "  model.add(tf.keras.layers.Input(shape=(dataSize - 1, 1)))\n",
        "  '''\n",
        "\n",
        "  model.add(tf.keras.layers.Conv1D(filters=16, kernel_size=4, strides=1, activation='relu', input_shape=(dataSize - 1,1)))\n",
        "\n",
        "  model.add(tf.keras.layers.Conv1D(filters=8, kernel_size=2, strides=1, activation='relu'))\n",
        "\n",
        "  model.add(tf.keras.layers.Dropout(rate=0.2))\n",
        "\n",
        "  model.add(tf.keras.layers.MaxPooling1D(pool_size=2))\n",
        "\n",
        "  model.add(tf.keras.layers.Flatten())\n",
        "\n",
        "  model.add(tf.keras.layers.Dense(units=24, activation='relu', name='Hidden1'))\n",
        "  '''\n",
        "  model.add(tf.keras.layers.Flatten())\n",
        "\n",
        "  model.add(tf.keras.layers.Dense(units=100, activation='relu', name='Hidden1'))\n",
        "\n",
        "  #model.add(tf.keras.layers.Dense(units=16, activation='relu', name='Hidden2'))\n",
        "\n",
        "  model.add(tf.keras.layers.Dense(units=1, name='Output'))\n",
        "\n",
        "  model.compile(optimizer=tf.keras.optimizers.Adam(lr=lr),\n",
        "                loss=\"mean_squared_error\",\n",
        "                metrics=[tf.keras.metrics.MeanSquaredError()])\n",
        "\n",
        "\n",
        "  return model"
      ],
      "execution_count": null,
      "outputs": []
    },
    {
      "cell_type": "code",
      "metadata": {
        "id": "D7QNSWKMBkPh",
        "cellView": "form"
      },
      "source": [
        "#@title Model Training\n",
        "def trainModel(model, features, label, epochs,\n",
        "                batchSize=None, validationSplit=0.1):\n",
        "\n",
        "  # Split the dataset into features and label.\n",
        "  #features = {name:np.array(value) for name, value in dataset.items()}\n",
        "  #label = np.array(features.pop(label_name))\n",
        "  history = model.fit(x=features, y=label, batch_size=batchSize,\n",
        "                      epochs=epochs, shuffle=True, validation_split=validationSplit)\n",
        "\n",
        "  epochs = history.epoch\n",
        "  hist = pd.DataFrame(history.history)\n",
        "  mse = hist[\"mean_squared_error\"]\n",
        "\n",
        "  return epochs, mse"
      ],
      "execution_count": null,
      "outputs": []
    },
    {
      "cell_type": "code",
      "metadata": {
        "id": "po79z7ZqBl2q",
        "colab": {
          "base_uri": "https://localhost:8080/",
          "height": 928
        },
        "cellView": "form",
        "outputId": "7af208ef-81d5-4b04-e7fb-55d210d2b6a8"
      },
      "source": [
        "#@title The AI\n",
        "\n",
        "lr = 0.001\n",
        "epochs = 10\n",
        "batchSize = 400\n",
        "validationSplit = 0.1\n",
        "\n",
        "model = createModel(lr)\n",
        "model.summary()\n",
        "\n",
        "epochs, hist = trainModel(model, featureSet, labelSet, epochs, batchSize, validationSplit)\n",
        "metrics = ['accuracy', 'val_accuracy']\n",
        "plot_curve(epochs, hist)\n",
        "\n",
        "print(\"Evaluate Model on Test Set:\")\n",
        "model.evaluate(x = testFeatureSet, y = testLabelSet, batch_size=batchSize)"
      ],
      "execution_count": null,
      "outputs": [
        {
          "output_type": "stream",
          "text": [
            "Model: \"sequential\"\n",
            "_________________________________________________________________\n",
            "Layer (type)                 Output Shape              Param #   \n",
            "=================================================================\n",
            "flatten (Flatten)            (None, 9)                 0         \n",
            "_________________________________________________________________\n",
            "Hidden1 (Dense)              (None, 100)               1000      \n",
            "_________________________________________________________________\n",
            "Output (Dense)               (None, 1)                 101       \n",
            "=================================================================\n",
            "Total params: 1,101\n",
            "Trainable params: 1,101\n",
            "Non-trainable params: 0\n",
            "_________________________________________________________________\n",
            "Epoch 1/10\n",
            "126/126 [==============================] - 4s 5ms/step - loss: 6.8158 - mean_squared_error: 6.8158 - val_loss: 4.2935 - val_mean_squared_error: 4.2935\n",
            "Epoch 2/10\n",
            "126/126 [==============================] - 0s 3ms/step - loss: 6.8565 - mean_squared_error: 6.8565 - val_loss: 4.2493 - val_mean_squared_error: 4.2493\n",
            "Epoch 3/10\n",
            "126/126 [==============================] - 0s 2ms/step - loss: 6.6068 - mean_squared_error: 6.6068 - val_loss: 4.2514 - val_mean_squared_error: 4.2514\n",
            "Epoch 4/10\n",
            "126/126 [==============================] - 0s 3ms/step - loss: 5.3512 - mean_squared_error: 5.3512 - val_loss: 4.2518 - val_mean_squared_error: 4.2518\n",
            "Epoch 5/10\n",
            "126/126 [==============================] - 0s 2ms/step - loss: 6.3243 - mean_squared_error: 6.3243 - val_loss: 4.2496 - val_mean_squared_error: 4.2496\n",
            "Epoch 6/10\n",
            "126/126 [==============================] - 0s 2ms/step - loss: 6.1411 - mean_squared_error: 6.1411 - val_loss: 4.2549 - val_mean_squared_error: 4.2549\n",
            "Epoch 7/10\n",
            "126/126 [==============================] - 0s 3ms/step - loss: 6.3114 - mean_squared_error: 6.3114 - val_loss: 4.2446 - val_mean_squared_error: 4.2446\n",
            "Epoch 8/10\n",
            "126/126 [==============================] - 0s 2ms/step - loss: 5.9431 - mean_squared_error: 5.9431 - val_loss: 4.2486 - val_mean_squared_error: 4.2486\n",
            "Epoch 9/10\n",
            "126/126 [==============================] - 0s 2ms/step - loss: 6.7207 - mean_squared_error: 6.7207 - val_loss: 4.2568 - val_mean_squared_error: 4.2568\n",
            "Epoch 10/10\n",
            "126/126 [==============================] - 0s 2ms/step - loss: 6.6073 - mean_squared_error: 6.6073 - val_loss: 4.2482 - val_mean_squared_error: 4.2482\n"
          ],
          "name": "stdout"
        },
        {
          "output_type": "display_data",
          "data": {
            "image/png": "[encoded data removed]",
            "text/plain": [
              "<Figure size 432x288 with 1 Axes>"
            ]
          },
          "metadata": {
            "tags": [],
            "needs_background": "light"
          }
        },
        {
          "output_type": "stream",
          "text": [
            "Evaluate Model on Test Set:\n",
            "16/16 [==============================] - 0s 2ms/step - loss: 4.4136 - mean_squared_error: 4.4136\n"
          ],
          "name": "stdout"
        },
        {
          "output_type": "execute_result",
          "data": {
            "text/plain": [
              "[4.4136223793029785, 4.4136223793029785]"
            ]
          },
          "metadata": {
            "tags": []
          },
          "execution_count": 7
        }
      ]
    },
    {
      "cell_type": "code",
      "metadata": {
        "colab": {
          "base_uri": "https://localhost:8080/",
          "height": 786
        },
        "id": "C4_zQGbToEsj",
        "cellView": "form",
        "outputId": "79df2555-fffb-4c3d-bc96-9c14c4a3dab4"
      },
      "source": [
        "#@title Optimize Data Size\n",
        "histogram = []\n",
        "index = 0\n",
        "lr = 0.001\n",
        "epochs = 8\n",
        "batchSize = 300\n",
        "validationSplit = 0.1\n",
        "while True:\n",
        "  print(\"x: \", x)\n",
        "  stats = []\n",
        "  min = 9999\n",
        "  for x in range(4, 30):\n",
        "    loadDataSet(x)\n",
        "    model = createModel(lr)\n",
        "    trainModel(model, featureSet, labelSet, epochs, batchSize, validationSplit)\n",
        "    stats.append(model.evaluate(x = testFeatureSet, y = testLabelSet, batch_size=batchSize))\n",
        "    print(stats[x - 4])\n",
        "    if stats[x - 4][1] < min:\n",
        "      min = stats[x - 4][1]\n",
        "      index = x\n",
        "  histogram.append(index)\n",
        "\n",
        "print(\"Minimum MSE: \", min)\n",
        "print(\"Data Size: \", index)\n",
        "print()\n",
        "print(stats)\n"
      ],
      "execution_count": null,
      "outputs": [
        {
          "output_type": "stream",
          "text": [
            "x:  61902\n",
            "Done\n",
            "Epoch 1/8\n",
            "168/168 [==============================] - 1s 3ms/step - loss: 6.2702 - mean_squared_error: 6.2702 - val_loss: 5.0990 - val_mean_squared_error: 5.0990\n",
            "Epoch 2/8\n",
            "168/168 [==============================] - 0s 2ms/step - loss: 5.8297 - mean_squared_error: 5.8297 - val_loss: 5.1113 - val_mean_squared_error: 5.1113\n",
            "Epoch 3/8\n",
            "168/168 [==============================] - 0s 2ms/step - loss: 6.2288 - mean_squared_error: 6.2288 - val_loss: 5.1206 - val_mean_squared_error: 5.1206\n",
            "Epoch 4/8\n",
            "168/168 [==============================] - 0s 2ms/step - loss: 6.3991 - mean_squared_error: 6.3991 - val_loss: 5.1087 - val_mean_squared_error: 5.1087\n",
            "Epoch 5/8\n",
            "168/168 [==============================] - 0s 2ms/step - loss: 4.9573 - mean_squared_error: 4.9573 - val_loss: 5.1037 - val_mean_squared_error: 5.1037\n",
            "Epoch 6/8\n",
            "168/168 [==============================] - 0s 2ms/step - loss: 6.1450 - mean_squared_error: 6.1450 - val_loss: 5.1141 - val_mean_squared_error: 5.1141\n",
            "Epoch 7/8\n",
            " 31/168 [====>.........................] - ETA: 0s - loss: 12.7487 - mean_squared_error: 12.7487"
          ],
          "name": "stdout"
        },
        {
          "output_type": "error",
          "ename": "KeyboardInterrupt",
          "evalue": "ignored",
          "traceback": [
            "\u001b[0;31m---------------------------------------------------------------------------\u001b[0m",
            "\u001b[0;31mKeyboardInterrupt\u001b[0m                         Traceback (most recent call last)",
            "\u001b[0;32m<ipython-input-9-acd76047ca60>\u001b[0m in \u001b[0;36m<module>\u001b[0;34m()\u001b[0m\n\u001b[1;32m     13\u001b[0m     \u001b[0mloadDataSet\u001b[0m\u001b[0;34m(\u001b[0m\u001b[0mx\u001b[0m\u001b[0;34m)\u001b[0m\u001b[0;34m\u001b[0m\u001b[0;34m\u001b[0m\u001b[0m\n\u001b[1;32m     14\u001b[0m     \u001b[0mmodel\u001b[0m \u001b[0;34m=\u001b[0m \u001b[0mcreateModel\u001b[0m\u001b[0;34m(\u001b[0m\u001b[0mlr\u001b[0m\u001b[0;34m)\u001b[0m\u001b[0;34m\u001b[0m\u001b[0;34m\u001b[0m\u001b[0m\n\u001b[0;32m---> 15\u001b[0;31m     \u001b[0mtrainModel\u001b[0m\u001b[0;34m(\u001b[0m\u001b[0mmodel\u001b[0m\u001b[0;34m,\u001b[0m \u001b[0mfeatureSet\u001b[0m\u001b[0;34m,\u001b[0m \u001b[0mlabelSet\u001b[0m\u001b[0;34m,\u001b[0m \u001b[0mepochs\u001b[0m\u001b[0;34m,\u001b[0m \u001b[0mbatchSize\u001b[0m\u001b[0;34m,\u001b[0m \u001b[0mvalidationSplit\u001b[0m\u001b[0;34m)\u001b[0m\u001b[0;34m\u001b[0m\u001b[0;34m\u001b[0m\u001b[0m\n\u001b[0m\u001b[1;32m     16\u001b[0m     \u001b[0mstats\u001b[0m\u001b[0;34m.\u001b[0m\u001b[0mappend\u001b[0m\u001b[0;34m(\u001b[0m\u001b[0mmodel\u001b[0m\u001b[0;34m.\u001b[0m\u001b[0mevaluate\u001b[0m\u001b[0;34m(\u001b[0m\u001b[0mx\u001b[0m \u001b[0;34m=\u001b[0m \u001b[0mtestFeatureSet\u001b[0m\u001b[0;34m,\u001b[0m \u001b[0my\u001b[0m \u001b[0;34m=\u001b[0m \u001b[0mtestLabelSet\u001b[0m\u001b[0;34m,\u001b[0m \u001b[0mbatch_size\u001b[0m\u001b[0;34m=\u001b[0m\u001b[0mbatchSize\u001b[0m\u001b[0;34m)\u001b[0m\u001b[0;34m)\u001b[0m\u001b[0;34m\u001b[0m\u001b[0;34m\u001b[0m\u001b[0m\n\u001b[1;32m     17\u001b[0m     \u001b[0mprint\u001b[0m\u001b[0;34m(\u001b[0m\u001b[0mstats\u001b[0m\u001b[0;34m[\u001b[0m\u001b[0mx\u001b[0m \u001b[0;34m-\u001b[0m \u001b[0;36m4\u001b[0m\u001b[0;34m]\u001b[0m\u001b[0;34m)\u001b[0m\u001b[0;34m\u001b[0m\u001b[0;34m\u001b[0m\u001b[0m\n",
            "\u001b[0;32m<ipython-input-6-d109c6217459>\u001b[0m in \u001b[0;36mtrainModel\u001b[0;34m(model, features, label, epochs, batchSize, validationSplit)\u001b[0m\n\u001b[1;32m      7\u001b[0m   \u001b[0;31m#label = np.array(features.pop(label_name))\u001b[0m\u001b[0;34m\u001b[0m\u001b[0;34m\u001b[0m\u001b[0;34m\u001b[0m\u001b[0m\n\u001b[1;32m      8\u001b[0m   history = model.fit(x=features, y=label, batch_size=batchSize,\n\u001b[0;32m----> 9\u001b[0;31m                       epochs=epochs, shuffle=True, validation_split=validationSplit) \n\u001b[0m\u001b[1;32m     10\u001b[0m \u001b[0;34m\u001b[0m\u001b[0m\n\u001b[1;32m     11\u001b[0m   \u001b[0mepochs\u001b[0m \u001b[0;34m=\u001b[0m \u001b[0mhistory\u001b[0m\u001b[0;34m.\u001b[0m\u001b[0mepoch\u001b[0m\u001b[0;34m\u001b[0m\u001b[0;34m\u001b[0m\u001b[0m\n",
            "\u001b[0;32m/usr/local/lib/python3.7/dist-packages/tensorflow/python/keras/engine/training.py\u001b[0m in \u001b[0;36mfit\u001b[0;34m(self, x, y, batch_size, epochs, verbose, callbacks, validation_split, validation_data, shuffle, class_weight, sample_weight, initial_epoch, steps_per_epoch, validation_steps, validation_batch_size, validation_freq, max_queue_size, workers, use_multiprocessing)\u001b[0m\n\u001b[1;32m   1098\u001b[0m                 _r=1):\n\u001b[1;32m   1099\u001b[0m               \u001b[0mcallbacks\u001b[0m\u001b[0;34m.\u001b[0m\u001b[0mon_train_batch_begin\u001b[0m\u001b[0;34m(\u001b[0m\u001b[0mstep\u001b[0m\u001b[0;34m)\u001b[0m\u001b[0;34m\u001b[0m\u001b[0;34m\u001b[0m\u001b[0m\n\u001b[0;32m-> 1100\u001b[0;31m               \u001b[0mtmp_logs\u001b[0m \u001b[0;34m=\u001b[0m \u001b[0mself\u001b[0m\u001b[0;34m.\u001b[0m\u001b[0mtrain_function\u001b[0m\u001b[0;34m(\u001b[0m\u001b[0miterator\u001b[0m\u001b[0;34m)\u001b[0m\u001b[0;34m\u001b[0m\u001b[0;34m\u001b[0m\u001b[0m\n\u001b[0m\u001b[1;32m   1101\u001b[0m               \u001b[0;32mif\u001b[0m \u001b[0mdata_handler\u001b[0m\u001b[0;34m.\u001b[0m\u001b[0mshould_sync\u001b[0m\u001b[0;34m:\u001b[0m\u001b[0;34m\u001b[0m\u001b[0;34m\u001b[0m\u001b[0m\n\u001b[1;32m   1102\u001b[0m                 \u001b[0mcontext\u001b[0m\u001b[0;34m.\u001b[0m\u001b[0masync_wait\u001b[0m\u001b[0;34m(\u001b[0m\u001b[0;34m)\u001b[0m\u001b[0;34m\u001b[0m\u001b[0;34m\u001b[0m\u001b[0m\n",
            "\u001b[0;32m/usr/local/lib/python3.7/dist-packages/tensorflow/python/eager/def_function.py\u001b[0m in \u001b[0;36m__call__\u001b[0;34m(self, *args, **kwds)\u001b[0m\n\u001b[1;32m    826\u001b[0m     \u001b[0mtracing_count\u001b[0m \u001b[0;34m=\u001b[0m \u001b[0mself\u001b[0m\u001b[0;34m.\u001b[0m\u001b[0mexperimental_get_tracing_count\u001b[0m\u001b[0;34m(\u001b[0m\u001b[0;34m)\u001b[0m\u001b[0;34m\u001b[0m\u001b[0;34m\u001b[0m\u001b[0m\n\u001b[1;32m    827\u001b[0m     \u001b[0;32mwith\u001b[0m \u001b[0mtrace\u001b[0m\u001b[0;34m.\u001b[0m\u001b[0mTrace\u001b[0m\u001b[0;34m(\u001b[0m\u001b[0mself\u001b[0m\u001b[0;34m.\u001b[0m\u001b[0m_name\u001b[0m\u001b[0;34m)\u001b[0m \u001b[0;32mas\u001b[0m \u001b[0mtm\u001b[0m\u001b[0;34m:\u001b[0m\u001b[0;34m\u001b[0m\u001b[0;34m\u001b[0m\u001b[0m\n\u001b[0;32m--> 828\u001b[0;31m       \u001b[0mresult\u001b[0m \u001b[0;34m=\u001b[0m \u001b[0mself\u001b[0m\u001b[0;34m.\u001b[0m\u001b[0m_call\u001b[0m\u001b[0;34m(\u001b[0m\u001b[0;34m*\u001b[0m\u001b[0margs\u001b[0m\u001b[0;34m,\u001b[0m \u001b[0;34m**\u001b[0m\u001b[0mkwds\u001b[0m\u001b[0;34m)\u001b[0m\u001b[0;34m\u001b[0m\u001b[0;34m\u001b[0m\u001b[0m\n\u001b[0m\u001b[1;32m    829\u001b[0m       \u001b[0mcompiler\u001b[0m \u001b[0;34m=\u001b[0m \u001b[0;34m\"xla\"\u001b[0m \u001b[0;32mif\u001b[0m \u001b[0mself\u001b[0m\u001b[0;34m.\u001b[0m\u001b[0m_experimental_compile\u001b[0m \u001b[0;32melse\u001b[0m \u001b[0;34m\"nonXla\"\u001b[0m\u001b[0;34m\u001b[0m\u001b[0;34m\u001b[0m\u001b[0m\n\u001b[1;32m    830\u001b[0m       \u001b[0mnew_tracing_count\u001b[0m \u001b[0;34m=\u001b[0m \u001b[0mself\u001b[0m\u001b[0;34m.\u001b[0m\u001b[0mexperimental_get_tracing_count\u001b[0m\u001b[0;34m(\u001b[0m\u001b[0;34m)\u001b[0m\u001b[0;34m\u001b[0m\u001b[0;34m\u001b[0m\u001b[0m\n",
            "\u001b[0;32m/usr/local/lib/python3.7/dist-packages/tensorflow/python/eager/def_function.py\u001b[0m in \u001b[0;36m_call\u001b[0;34m(self, *args, **kwds)\u001b[0m\n\u001b[1;32m    853\u001b[0m       \u001b[0;31m# In this case we have created variables on the first call, so we run the\u001b[0m\u001b[0;34m\u001b[0m\u001b[0;34m\u001b[0m\u001b[0;34m\u001b[0m\u001b[0m\n\u001b[1;32m    854\u001b[0m       \u001b[0;31m# defunned version which is guaranteed to never create variables.\u001b[0m\u001b[0;34m\u001b[0m\u001b[0;34m\u001b[0m\u001b[0;34m\u001b[0m\u001b[0m\n\u001b[0;32m--> 855\u001b[0;31m       \u001b[0;32mreturn\u001b[0m \u001b[0mself\u001b[0m\u001b[0;34m.\u001b[0m\u001b[0m_stateless_fn\u001b[0m\u001b[0;34m(\u001b[0m\u001b[0;34m*\u001b[0m\u001b[0margs\u001b[0m\u001b[0;34m,\u001b[0m \u001b[0;34m**\u001b[0m\u001b[0mkwds\u001b[0m\u001b[0;34m)\u001b[0m  \u001b[0;31m# pylint: disable=not-callable\u001b[0m\u001b[0;34m\u001b[0m\u001b[0;34m\u001b[0m\u001b[0m\n\u001b[0m\u001b[1;32m    856\u001b[0m     \u001b[0;32melif\u001b[0m \u001b[0mself\u001b[0m\u001b[0;34m.\u001b[0m\u001b[0m_stateful_fn\u001b[0m \u001b[0;32mis\u001b[0m \u001b[0;32mnot\u001b[0m \u001b[0;32mNone\u001b[0m\u001b[0;34m:\u001b[0m\u001b[0;34m\u001b[0m\u001b[0;34m\u001b[0m\u001b[0m\n\u001b[1;32m    857\u001b[0m       \u001b[0;31m# Release the lock early so that multiple threads can perform the call\u001b[0m\u001b[0;34m\u001b[0m\u001b[0;34m\u001b[0m\u001b[0;34m\u001b[0m\u001b[0m\n",
            "\u001b[0;32m/usr/local/lib/python3.7/dist-packages/tensorflow/python/eager/function.py\u001b[0m in \u001b[0;36m__call__\u001b[0;34m(self, *args, **kwargs)\u001b[0m\n\u001b[1;32m   2941\u001b[0m        filtered_flat_args) = self._maybe_define_function(args, kwargs)\n\u001b[1;32m   2942\u001b[0m     return graph_function._call_flat(\n\u001b[0;32m-> 2943\u001b[0;31m         filtered_flat_args, captured_inputs=graph_function.captured_inputs)  # pylint: disable=protected-access\n\u001b[0m\u001b[1;32m   2944\u001b[0m \u001b[0;34m\u001b[0m\u001b[0m\n\u001b[1;32m   2945\u001b[0m   \u001b[0;34m@\u001b[0m\u001b[0mproperty\u001b[0m\u001b[0;34m\u001b[0m\u001b[0;34m\u001b[0m\u001b[0m\n",
            "\u001b[0;32m/usr/local/lib/python3.7/dist-packages/tensorflow/python/eager/function.py\u001b[0m in \u001b[0;36m_call_flat\u001b[0;34m(self, args, captured_inputs, cancellation_manager)\u001b[0m\n\u001b[1;32m   1917\u001b[0m       \u001b[0;31m# No tape is watching; skip to running the function.\u001b[0m\u001b[0;34m\u001b[0m\u001b[0;34m\u001b[0m\u001b[0;34m\u001b[0m\u001b[0m\n\u001b[1;32m   1918\u001b[0m       return self._build_call_outputs(self._inference_function.call(\n\u001b[0;32m-> 1919\u001b[0;31m           ctx, args, cancellation_manager=cancellation_manager))\n\u001b[0m\u001b[1;32m   1920\u001b[0m     forward_backward = self._select_forward_and_backward_functions(\n\u001b[1;32m   1921\u001b[0m         \u001b[0margs\u001b[0m\u001b[0;34m,\u001b[0m\u001b[0;34m\u001b[0m\u001b[0;34m\u001b[0m\u001b[0m\n",
            "\u001b[0;32m/usr/local/lib/python3.7/dist-packages/tensorflow/python/eager/function.py\u001b[0m in \u001b[0;36mcall\u001b[0;34m(self, ctx, args, cancellation_manager)\u001b[0m\n\u001b[1;32m    558\u001b[0m               \u001b[0minputs\u001b[0m\u001b[0;34m=\u001b[0m\u001b[0margs\u001b[0m\u001b[0;34m,\u001b[0m\u001b[0;34m\u001b[0m\u001b[0;34m\u001b[0m\u001b[0m\n\u001b[1;32m    559\u001b[0m               \u001b[0mattrs\u001b[0m\u001b[0;34m=\u001b[0m\u001b[0mattrs\u001b[0m\u001b[0;34m,\u001b[0m\u001b[0;34m\u001b[0m\u001b[0;34m\u001b[0m\u001b[0m\n\u001b[0;32m--> 560\u001b[0;31m               ctx=ctx)\n\u001b[0m\u001b[1;32m    561\u001b[0m         \u001b[0;32melse\u001b[0m\u001b[0;34m:\u001b[0m\u001b[0;34m\u001b[0m\u001b[0;34m\u001b[0m\u001b[0m\n\u001b[1;32m    562\u001b[0m           outputs = execute.execute_with_cancellation(\n",
            "\u001b[0;32m/usr/local/lib/python3.7/dist-packages/tensorflow/python/eager/execute.py\u001b[0m in \u001b[0;36mquick_execute\u001b[0;34m(op_name, num_outputs, inputs, attrs, ctx, name)\u001b[0m\n\u001b[1;32m     58\u001b[0m     \u001b[0mctx\u001b[0m\u001b[0;34m.\u001b[0m\u001b[0mensure_initialized\u001b[0m\u001b[0;34m(\u001b[0m\u001b[0;34m)\u001b[0m\u001b[0;34m\u001b[0m\u001b[0;34m\u001b[0m\u001b[0m\n\u001b[1;32m     59\u001b[0m     tensors = pywrap_tfe.TFE_Py_Execute(ctx._handle, device_name, op_name,\n\u001b[0;32m---> 60\u001b[0;31m                                         inputs, attrs, num_outputs)\n\u001b[0m\u001b[1;32m     61\u001b[0m   \u001b[0;32mexcept\u001b[0m \u001b[0mcore\u001b[0m\u001b[0;34m.\u001b[0m\u001b[0m_NotOkStatusException\u001b[0m \u001b[0;32mas\u001b[0m \u001b[0me\u001b[0m\u001b[0;34m:\u001b[0m\u001b[0;34m\u001b[0m\u001b[0;34m\u001b[0m\u001b[0m\n\u001b[1;32m     62\u001b[0m     \u001b[0;32mif\u001b[0m \u001b[0mname\u001b[0m \u001b[0;32mis\u001b[0m \u001b[0;32mnot\u001b[0m \u001b[0;32mNone\u001b[0m\u001b[0;34m:\u001b[0m\u001b[0;34m\u001b[0m\u001b[0;34m\u001b[0m\u001b[0m\n",
            "\u001b[0;31mKeyboardInterrupt\u001b[0m: "
          ]
        }
      ]
    },
    {
      "cell_type": "code",
      "metadata": {
        "colab": {
          "base_uri": "https://localhost:8080/",
          "height": 232
        },
        "cellView": "form",
        "id": "QoqRAnnPqrKf",
        "outputId": "5816f2c0-69a9-46dc-f922-eae107e7bc59"
      },
      "source": [
        "#@title Show Optimized Histogram\n",
        "print(histogram)\n",
        "\n",
        "for x in range(4, 30):\n",
        "  print(x, \": \", end=\"\")\n",
        "  count = 0\n",
        "  for y in histogram:\n",
        "    if y == x:\n",
        "      count += 1\n",
        "  print(count)\n"
      ],
      "execution_count": null,
      "outputs": [
        {
          "output_type": "error",
          "ename": "NameError",
          "evalue": "ignored",
          "traceback": [
            "\u001b[0;31m---------------------------------------------------------------------------\u001b[0m",
            "\u001b[0;31mNameError\u001b[0m                                 Traceback (most recent call last)",
            "\u001b[0;32m<ipython-input-9-843d10fa7a15>\u001b[0m in \u001b[0;36m<module>\u001b[0;34m()\u001b[0m\n\u001b[1;32m      1\u001b[0m \u001b[0;31m#@title Show Optimized Histogram\u001b[0m\u001b[0;34m\u001b[0m\u001b[0;34m\u001b[0m\u001b[0;34m\u001b[0m\u001b[0m\n\u001b[0;32m----> 2\u001b[0;31m \u001b[0mprint\u001b[0m\u001b[0;34m(\u001b[0m\u001b[0mhistogram\u001b[0m\u001b[0;34m)\u001b[0m\u001b[0;34m\u001b[0m\u001b[0;34m\u001b[0m\u001b[0m\n\u001b[0m\u001b[1;32m      3\u001b[0m \u001b[0;34m\u001b[0m\u001b[0m\n\u001b[1;32m      4\u001b[0m \u001b[0;32mfor\u001b[0m \u001b[0mx\u001b[0m \u001b[0;32min\u001b[0m \u001b[0mrange\u001b[0m\u001b[0;34m(\u001b[0m\u001b[0;36m4\u001b[0m\u001b[0;34m,\u001b[0m \u001b[0;36m30\u001b[0m\u001b[0;34m)\u001b[0m\u001b[0;34m:\u001b[0m\u001b[0;34m\u001b[0m\u001b[0;34m\u001b[0m\u001b[0m\n\u001b[1;32m      5\u001b[0m   \u001b[0mprint\u001b[0m\u001b[0;34m(\u001b[0m\u001b[0mx\u001b[0m\u001b[0;34m,\u001b[0m \u001b[0;34m\": \"\u001b[0m\u001b[0;34m,\u001b[0m \u001b[0mend\u001b[0m\u001b[0;34m=\u001b[0m\u001b[0;34m\"\"\u001b[0m\u001b[0;34m)\u001b[0m\u001b[0;34m\u001b[0m\u001b[0;34m\u001b[0m\u001b[0m\n",
            "\u001b[0;31mNameError\u001b[0m: name 'histogram' is not defined"
          ]
        }
      ]
    },
    {
      "cell_type": "code",
      "metadata": {
        "colab": {
          "base_uri": "https://localhost:8080/"
        },
        "cellView": "form",
        "id": "v0m1P9ZXNw48",
        "outputId": "f9c67b9f-0d1e-4924-d02c-e795aea0e046"
      },
      "source": [
        "#@title Get random S&P 500 tickers\n",
        "tickers = ['MMM','ABT','ABBV','ACN','ATVI','AYI','ADBE','AMD','AAP','AES','AET',\n",
        "\t\t'AMG','AFL','A','APD','AKAM','ALK','ALB','ARE','ALXN','ALGN','ALLE',\n",
        "\t\t'AGN','ADS','LNT','ALL','GOOGL','GOOG','MO','AMZN','AEE','AAL','AEP',\n",
        "\t\t'AXP','AIG','AMT','AWK','AMP','ABC','AME','AMGN','APH','APC','ADI','ANDV',\n",
        "\t\t'ANSS','ANTM','AON','AOS','APA','AIV','AAPL','AMAT','APTV','ADM','ARNC',\n",
        "\t\t'AJG','AIZ','T','ADSK','ADP','AZO','AVB','AVY','BHGE','BLL','BAC','BK',\n",
        "\t\t'BAX','BBT','BDX','BRK.B','BBY','BIIB','BLK','HRB','BA','BWA','BXP','BSX',\n",
        "\t\t'BHF','BMY','AVGO','BF.B','CHRW','CA','COG','CDNS','CPB','COF','CAH','CBOE',\n",
        "\t\t'KMX','CCL','CAT','CBG','CBS','CELG','CNC','CNP','CTL','CERN','CF','SCHW',\n",
        "\t\t'CHTR','CHK','CVX','CMG','CB','CHD','CI','XEC','CINF','CTAS','CSCO','C','CFG',\n",
        "\t\t'CTXS','CLX','CME','CMS','KO','CTSH','CL','CMCSA','CMA','CAG','CXO','COP',\n",
        "\t\t'ED','STZ','COO','GLW','COST','COTY','CCI','CSRA','CSX','CMI','CVS','DHI',\n",
        "\t\t'DHR','DRI','DVA','DE','DAL','XRAY','DVN','DLR','DFS','DISCA','DISCK','DISH',\n",
        "\t\t'DG','DLTR','D','DOV','DWDP','DPS','DTE','DRE','DUK','DXC','ETFC','EMN','ETN',\n",
        "\t\t'EBAY','ECL','EIX','EW','EA','EMR','ETR','EVHC','EOG','EQT','EFX','EQIX','EQR',\n",
        "\t\t'ESS','EL','ES','RE','EXC','EXPE','EXPD','ESRX','EXR','XOM','FFIV','FB','FAST',\n",
        "\t\t'FRT','FDX','FIS','FITB','FE','FISV','FLIR','FLS','FLR','FMC','FL','F','FTV',\n",
        "\t\t'FBHS','BEN','FCX','GPS','GRMN','IT','GD','GE','GGP','GIS','GM','GPC','GILD',\n",
        "\t\t'GPN','GS','GT','GWW','HAL','HBI','HOG','HRS','HIG','HAS','HCA','HCP','HP','HSIC',\n",
        "\t\t'HSY','HES','HPE','HLT','HOLX','HD','HON','HRL','HST','HPQ','HUM','HBAN','HII',\n",
        "\t\t'IDXX','INFO','ITW','ILMN','IR','INTC','ICE','IBM','INCY','IP','IPG','IFF','INTU',\n",
        "\t\t'ISRG','IVZ','IQV','IRM','JEC','JBHT','SJM','JNJ','JCI','JPM','JNPR','KSU','K','KEY',\n",
        "\t\t'KMB','KIM','KMI','KLAC','KSS','KHC','KR','LB','LLL','LH','LRCX','LEG','LEN','LUK',\n",
        "\t\t'LLY','LNC','LKQ','LMT','L','LOW','LYB','MTB','MAC','M','MRO','MPC','MAR','MMC','MLM',\n",
        "\t\t'MAS','MA','MAT','MKC','MCD','MCK','MDT','MRK','MET','MTD','MGM','KORS','MCHP','MU',\n",
        "\t\t'MSFT','MAA','MHK','TAP','MDLZ','MON','MNST','MCO','MS','MOS','MSI','MYL','NDAQ',\n",
        "\t\t'NOV','NAVI','NTAP','NFLX','NWL','NFX','NEM','NWSA','NWS','NEE','NLSN','NKE','NI',\n",
        "\t\t'NBL','JWN','NSC','NTRS','NOC','NCLH','NRG','NUE','NVDA','ORLY','OXY','OMC','OKE',\n",
        "\t\t'ORCL','PCAR','PKG','PH','PDCO','PAYX','PYPL','PNR','PBCT','PEP','PKI','PRGO','PFE',\n",
        "\t\t'PCG','PM','PSX','PNW','PXD','PNC','RL','PPG','PPL','PX','PCLN','PFG','PG','PGR',\n",
        "\t\t'PLD','PRU','PEG','PSA','PHM','PVH','QRVO','PWR','QCOM','DGX','RRC','RJF','RTN','O',\n",
        "\t\t'RHT','REG','REGN','RF','RSG','RMD','RHI','ROK','COL','ROP','ROST','RCL','CRM','SBAC',\n",
        "\t\t'SCG','SLB','SNI','STX','SEE','SRE','SHW','SIG','SPG','SWKS','SLG','SNA','SO','LUV',\n",
        "\t\t'SPGI','SWK','SBUX','STT','SRCL','SYK','STI','SYMC','SYF','SNPS','SYY','TROW','TPR',\n",
        "\t\t'TGT','TEL','FTI','TXN','TXT','TMO','TIF','TWX','TJX','TMK','TSS','TSCO','TDG','TRV',\n",
        "\t\t'TRIP','FOXA','FOX','TSN','UDR','ULTA','USB','UAA','UA','UNP','UAL','UNH','UPS','URI',\n",
        "\t\t'UTX','UHS','UNM','VFC','VLO','VAR','VTR','VRSN','VRSK','VZ','VRTX','VIAB','V','VNO',\n",
        "\t\t'VMC','WMT','WBA','DIS','WM','WAT','WEC','WFC','HCN','WDC','WU','WRK','WY','WHR','WMB',\n",
        "\t\t'WLTW','WYN','WYNN','XEL','XRX','XLNX','XL','XYL','YUM','ZBH','ZION','ZTS']\n",
        "print(random.sample(tickers, 5))"
      ],
      "execution_count": null,
      "outputs": [
        {
          "output_type": "stream",
          "text": [
            "['HPQ', 'MCO', 'IP', 'KSS', 'FITB']\n"
          ],
          "name": "stdout"
        }
      ]
    },
    {
      "cell_type": "markdown",
      "metadata": {
        "id": "WipX3k8YPSge"
      },
      "source": [
        "38.38\t37.17 38.34\t37.42 38.03\t37.19 38.85\t37.92\t38.43\t37.86 38.71\t38.15 38.23\t37.38\t38.60\t38.12\t38.91\t38.40"
      ]
    },
    {
      "cell_type": "code",
      "metadata": {
        "colab": {
          "base_uri": "https://localhost:8080/"
        },
        "id": "L-DpKjJi-59H",
        "cellView": "form",
        "outputId": "d22a72de-dbce-49e3-c944-cd62ee73d08b"
      },
      "source": [
        "#@title Real-World Interaction\n",
        "\n",
        "print(\"Enter Stock Data ( High(space)Low(space)DayX ): \")\n",
        "inputData = input().split()\n",
        "\n",
        "#filter out commas\n",
        "for x in range(len(inputData)):\n",
        "  inputData[x] = inputData[x].replace(\",\", \"\")\n",
        "\n",
        "if len(inputData) % 2 == 1:\n",
        "    print(\"Input data must be even (High/Low daily pairs)\")\n",
        "\n",
        "averaged = []\n",
        "for x in range(0, len(inputData), 2):\n",
        "  averaged.append((float(inputData[x]) + float(inputData[x + 1])) / 2.0)\n",
        "\n",
        "mean = sum(averaged) / len(averaged)\n",
        "standard = np.std(averaged)\n",
        "for x in range(len(averaged)):\n",
        "  averaged[x] = [(averaged[x] - mean) / standard]\n",
        "#1 1 2 2 3 3 4 4 5 5 6 6 7 7 8 8 9 9\n",
        "\n",
        "expected = model.predict(np.array([averaged]))[0][0]\n",
        "print()\n",
        "print(\"Expected average of daily high and low:   $\", (expected * standard) + mean)"
      ],
      "execution_count": null,
      "outputs": [
        {
          "output_type": "stream",
          "text": [
            "Enter Stock Data ( High(space)Low(space)DayX ): \n",
            "38.38\t37.17 38.34\t37.42 38.03\t37.19 38.85\t37.92\t38.43\t37.86 38.71\t38.15 38.23\t37.38\t38.60\t38.12\t38.91\t38.40\t\n",
            "\n",
            "Expected average of daily high and low:   $ 38.71109516894265\n"
          ],
          "name": "stdout"
        }
      ]
    }
  ]
}