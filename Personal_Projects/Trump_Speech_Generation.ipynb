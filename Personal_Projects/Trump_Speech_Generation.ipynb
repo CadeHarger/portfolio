{
  "nbformat": 4,
  "nbformat_minor": 0,
  "metadata": {
    "colab": {
      "provenance": [],
      "authorship_tag": "ABX9TyNzBoBB3iOJfg5G/Byb9brz",
      "include_colab_link": true
    },
    "kernelspec": {
      "display_name": "Python 3",
      "name": "python3"
    },
    "language_info": {
      "name": "python"
    },
    "accelerator": "GPU"
  },
  "cells": [
    {
      "cell_type": "markdown",
      "metadata": {
        "id": "view-in-github",
        "colab_type": "text"
      },
      "source": [
        "<a href=\"https://colab.research.google.com/github/CadeHarger/portfolio/blob/main/Personal_Projects/Trump_Speech_Generation.ipynb\" target=\"_parent\"><img src=\"https://colab.research.google.com/assets/colab-badge.svg\" alt=\"Open In Colab\"/></a>"
      ]
    },
    {
      "cell_type": "code",
      "metadata": {
        "cellView": "form",
        "id": "esqN1Bt5Y9gE"
      },
      "source": [
        "#@title Run on TensorFlow 2.x\n",
        "%tensorflow_version 2.x\n",
        "from __future__ import absolute_import, division, print_function, unicode_literals"
      ],
      "execution_count": null,
      "outputs": []
    },
    {
      "cell_type": "code",
      "metadata": {
        "id": "rxzVTTqyZJRy",
        "cellView": "form"
      },
      "source": [
        "#@title Import Relevant Modules\n",
        "import random\n",
        "import time\n",
        "import math\n",
        "import tensorflow as tf\n",
        "from tensorflow.keras import layers\n",
        "from matplotlib import pyplot as plt\n",
        "import numpy as np\n",
        "import pandas as pd"
      ],
      "execution_count": null,
      "outputs": []
    },
    {
      "cell_type": "code",
      "metadata": {
        "id": "i2x11j0fZRA8",
        "cellView": "form"
      },
      "source": [
        "#@title Extract Speech\n",
        "speeches = []\n",
        "with open(\"temp.txt\", 'r') as oldSpeeches:\n",
        "  speeches = [line for line in oldSpeeches]\n",
        "oldSpeeches.close()\n",
        "for line in speeches:\n",
        "  if (not line == '\\n') and (not line[0] == ' ') and (not line == 'Donald Trump\\n') and (not line[0] == '0') and (not line[0] == '1'):\n",
        "    print(line.replace(\"\\n\", \" \"), end=\"\")"
      ],
      "execution_count": null,
      "outputs": []
    },
    {
      "cell_type": "code",
      "metadata": {
        "id": "c_3OcIVlZSta",
        "cellView": "form"
      },
      "source": [
        "#@title Load the Dataset (Speeches + Tweets)\n",
        "\n",
        "# Read the files\n",
        "speeches = []\n",
        "with open(\"ALLJune2015-November92016.txt\", 'r') as oldSpeeches:\n",
        "  speeches = [line for line in oldSpeeches]\n",
        "oldSpeeches.close()\n",
        "with open(\"ALLJuly2019-Nov2020.txt\", 'r') as newSpeeches:\n",
        "  for line in newSpeeches:\n",
        "    speeches.append(line)\n",
        "newSpeeches.close()\n",
        "with open(\"CollectedSpeech.txt\", 'r') as collected:\n",
        "  for line in collected:\n",
        "    speeches.append(line)\n",
        "collected.close()\n",
        "with open(\"ALLPersonallyCollectedSpeeches.txt\", 'r') as collectedSpeeches:\n",
        "  for line in collectedSpeeches:\n",
        "    speeches.append(line)\n",
        "collectedSpeeches.close()\n",
        "speeches = np.array(speeches)\n",
        "\n",
        "\n",
        "# Load the tweets too (w/ extra selectivity)\n",
        "csv = pd.read_csv(\"ALLTrumpTweetsuntilJan82021.csv\")\n",
        "rawData = csv['text'].to_numpy()\n",
        "del csv\n",
        "\n",
        "rawData = np.array([rawData[x] for x in range(len(rawData)) if not '@' in rawData[x]])\n",
        "\n",
        "# Remove links, other undesirable data\n",
        "for data in range(len(rawData)):\n",
        "  original = rawData[data].split()\n",
        "  rawData[data] = ' '.join([((original[word].replace('.',' . ')).replace('  ',' ')).replace('  ',' ') for word in range(len(original)) if not ('http' in original[word] or 'twitter.co' in original[word] or 'ا' in original[word] or 'ل' in original[word] or '.com/' in original[word] or '#' in original[word])])\n",
        "speeches = np.append(speeches, rawData)\n",
        "del rawData\n",
        "\n",
        "np.random.shuffle(speeches)\n",
        "\n",
        "# Remove undesirable data\n",
        "for data in range(len(speeches)):\n",
        "  original = speeches[data].split()\n",
        "  temp = [original[word] for word in range(len(original)) if not ('inaudible' in original[word] or 'twitter.co' in original[word])]\n",
        "  speeches[data] = np.array(' '.join([word.replace('. . .', '...').replace('... ...', '...') for word in temp]))\n",
        "\n",
        "# Convert text data to word indexes\n",
        "tokenizer = tf.keras.preprocessing.text.Tokenizer(num_words=None,\n",
        "                     filters='“”#$%&()*+-<=>\\\\^_`{|}~\\t\\n\\\"',\n",
        "                     lower = True, split = ' ')\n",
        "tokenizer.fit_on_texts(speeches)\n",
        "dataset = tokenizer.texts_to_sequences(speeches)\n",
        "del speeches\n",
        "wordIndexes = tokenizer.index_word\n",
        "numWords = len(wordIndexes) + 1\n",
        "del tokenizer\n",
        "\n",
        "trainSize =  16 #@param{type: \"integer\"}\n",
        "testSize = 5000 #@param{type: \"integer\"}\n",
        "#noiseCount = 10000 #@param{type: \"integer\"}\n",
        "\n",
        "# Split the dataset into features\n",
        "featureSet = []\n",
        "labelSet = []\n",
        "for speech in dataset:\n",
        "  if len(speech) > trainSize:\n",
        "    pieces = [speech[x:x + trainSize + 1] for x in range(0, len(speech) - (trainSize + 1), trainSize + 1)]\n",
        "    for data in pieces:\n",
        "      featureSet.append(data[:-1])\n",
        "      labelSet.append(data[-1])\n",
        "\n",
        "'''\n",
        "# Add more features by splitting the previous examples in half\n",
        "for speech in dataset[:-1 * testSize / ]:\n",
        "  if len(speech) > trainSize + math.ceil(trainSize / 2):\n",
        "    pieces = [speech[x:x + trainSize + 1] for x in range(math.ceil(trainSize / 2), len(speech) - (trainSize + 1), trainSize + 1)]\n",
        "    for data in pieces:\n",
        "      featureSet.append(data[:-1])\n",
        "      labelSet.append(data[-1])\n",
        "\n",
        "\n",
        "# Add noise to the dataset\n",
        "print(wordIndexes[numWords - 1])\n",
        "for x in range(noiseCount):\n",
        "  featureSet.append([random.randint(1, numWords) for y in range(trainSize)])\n",
        "  labelSet.append(numWords)\n",
        "wordIndexes[numWords] = 'RANDOM_NOISE'\n",
        "numWords += 1\n",
        "print(wordIndexes[numWords - 1])\n",
        "'''\n",
        "\n",
        "featureSet = np.array(featureSet)\n",
        "tempLabelSet = np.array(labelSet)\n",
        "\n",
        "# One-hot encode the labelSet\n",
        "labelSet = np.zeros((len(featureSet), numWords), dtype=np.int8)\n",
        "for exampleIndex, wordIndex in enumerate(tempLabelSet):\n",
        "  labelSet[exampleIndex, wordIndex] = 1\n",
        "del tempLabelSet\n",
        "\n",
        "testFeatureSet = featureSet[-1 * testSize:]\n",
        "testLabelSet = labelSet[-1 * testSize:]\n",
        "featureSet = featureSet[:-1 * testSize]\n",
        "labelSet = labelSet[:-1 * testSize]"
      ],
      "execution_count": null,
      "outputs": []
    },
    {
      "cell_type": "code",
      "metadata": {
        "colab": {
          "base_uri": "https://localhost:8080/"
        },
        "id": "gJdPLCB6Zl9X",
        "outputId": "292275a4-37b1-4815-8033-83392f5fc198"
      },
      "source": [
        "print(featureSet.shape, labelSet.shape, numWords)"
      ],
      "execution_count": null,
      "outputs": [
        {
          "output_type": "stream",
          "name": "stdout",
          "text": [
            "(82195, 16) (82195, 22617) 22617\n"
          ]
        }
      ]
    },
    {
      "cell_type": "code",
      "metadata": {
        "cellView": "form",
        "colab": {
          "base_uri": "https://localhost:8080/"
        },
        "id": "Z13g45dwZiGP",
        "outputId": "84f68dc7-29fe-4a9d-87c1-2b9f81f70a65"
      },
      "source": [
        "#@title Define the plotting function\n",
        "def plot_curve(epochs, hist, list_of_metrics, oldHist=None, oldMetrics=None):\n",
        "  \"\"\"Plot a curve of one or more classification metrics vs. epoch.\"\"\"\n",
        "  # list_of_metrics should be one of the names shown in:\n",
        "  # https://www.tensorflow.org/tutorials/structured_data/imbalanced_data#define_the_model_and_metrics\n",
        "\n",
        "  plt.figure()\n",
        "  plt.xlabel(\"Epoch\")\n",
        "  plt.ylabel(\"Value\")\n",
        "\n",
        "  for m in list_of_metrics:\n",
        "    x = hist[m]\n",
        "    plt.plot(epochs[1:], x[1:], label=m)\n",
        "\n",
        "  if oldHist is not None:\n",
        "    for m in oldMetrics:\n",
        "      x = oldHist[m]\n",
        "      plt.plot(epochs[1:], x[1:], label=m + 'OLD')\n",
        "\n",
        "  plt.legend()\n",
        "\n",
        "print(\"Loaded the plot_curve function.\")"
      ],
      "execution_count": null,
      "outputs": [
        {
          "output_type": "stream",
          "name": "stdout",
          "text": [
            "Loaded the plot_curve function.\n"
          ]
        }
      ]
    },
    {
      "cell_type": "code",
      "metadata": {
        "id": "7ayckk2uZWyb",
        "cellView": "form"
      },
      "source": [
        "#@title Model Training\n",
        "def trainModel(model, features, label, epochs,\n",
        "                batchSize=None, validationSplit=0.1):\n",
        "\n",
        "  # Split the dataset into features and label.\n",
        "  #features = {name:np.array(value) for name, value in dataset.items()}\n",
        "  #label = np.array(features.pop(label_name))\n",
        "  history = model.fit(x=features, y=label, batch_size=batchSize,\n",
        "                      epochs=epochs, shuffle=True, validation_split=validationSplit)\n",
        "\n",
        "  epochs = history.epoch\n",
        "  hist = pd.DataFrame(history.history)\n",
        "\n",
        "  return epochs, hist"
      ],
      "execution_count": null,
      "outputs": []
    },
    {
      "cell_type": "code",
      "metadata": {
        "id": "afMRTmwbZax6",
        "cellView": "form"
      },
      "source": [
        "#@title Model Creation\n",
        "def createModel(lr):\n",
        "  #model = tf.keras.models.Sequential()\n",
        "  input = tf.keras.layers.Input(shape=(trainSize,))\n",
        "  embed = tf.keras.layers.Embedding(input_dim=numWords,\n",
        "                input_length = trainSize,\n",
        "                output_dim=300,\n",
        "                trainable=True)(input)\n",
        "\n",
        "  # Masking layer for pre-trained embeddings\n",
        "  #model.add(tf.keras.layers.Masking(mask_value=0.0))\n",
        "\n",
        "  x = tf.keras.layers.LSTM(200, return_sequences=False,\n",
        "                dropout=0.3, recurrent_dropout = 0.3)(embed)\n",
        "\n",
        "  x = tf.keras.layers.Dense(200, activation='relu')(x)\n",
        "\n",
        "  x = tf.keras.layers.Dropout(0.5)(x)\n",
        "\n",
        "  x = tf.keras.layers.Dense(numWords, activation='softmax')(x)\n",
        "  model = tf.keras.Model(inputs=input, outputs=x)\n",
        "  embedModel = tf.keras.Model(inputs=input, outputs=embed)\n",
        "\n",
        "  model.compile(\n",
        "      optimizer='adam', loss='categorical_crossentropy', metrics=['accuracy'])\n",
        "  return model, embedModel"
      ],
      "execution_count": null,
      "outputs": []
    },
    {
      "cell_type": "code",
      "metadata": {
        "colab": {
          "base_uri": "https://localhost:8080/",
          "height": 1000
        },
        "id": "5jIU61PeZoQt",
        "cellView": "form",
        "outputId": "751db096-ee10-439e-fcd3-a5c8be64ba93"
      },
      "source": [
        "#@title The AI\n",
        "\n",
        "lr = 0.003\n",
        "epochs = 45\n",
        "batchSize = 1024\n",
        "validationSplit = 0.1\n",
        "\n",
        "model, embeddingLayer = createModel(lr)\n",
        "model.summary()\n",
        "\n",
        "epochs, hist = trainModel(model, featureSet, labelSet, epochs, batchSize, validationSplit)\n",
        "metrics = ['accuracy', 'val_accuracy']\n",
        "plot_curve(epochs, hist, metrics)\n",
        "\n",
        "print(\"Evaluate Model on Test Set:\")\n",
        "model.evaluate(x = testFeatureSet, y = testLabelSet, batch_size=batchSize)"
      ],
      "execution_count": null,
      "outputs": [
        {
          "output_type": "stream",
          "name": "stdout",
          "text": [
            "WARNING:tensorflow:Layer lstm_4 will not use cuDNN kernels since it doesn't meet the criteria. It will use a generic GPU kernel as fallback when running on GPU.\n",
            "Model: \"model_4\"\n",
            "_________________________________________________________________\n",
            "Layer (type)                 Output Shape              Param #   \n",
            "=================================================================\n",
            "input_4 (InputLayer)         [(None, 16)]              0         \n",
            "_________________________________________________________________\n",
            "embedding_4 (Embedding)      (None, 16, 300)           6785100   \n",
            "_________________________________________________________________\n",
            "lstm_4 (LSTM)                (None, 200)               400800    \n",
            "_________________________________________________________________\n",
            "dense_6 (Dense)              (None, 200)               40200     \n",
            "_________________________________________________________________\n",
            "dropout_3 (Dropout)          (None, 200)               0         \n",
            "_________________________________________________________________\n",
            "dense_7 (Dense)              (None, 22617)             4546017   \n",
            "=================================================================\n",
            "Total params: 11,772,117\n",
            "Trainable params: 11,772,117\n",
            "Non-trainable params: 0\n",
            "_________________________________________________________________\n",
            "Epoch 1/45\n",
            "73/73 [==============================] - 19s 222ms/step - loss: 7.1783 - accuracy: 0.0580 - val_loss: 6.3976 - val_accuracy: 0.0612\n",
            "Epoch 2/45\n",
            "73/73 [==============================] - 16s 218ms/step - loss: 6.2231 - accuracy: 0.0656 - val_loss: 6.3096 - val_accuracy: 0.0612\n",
            "Epoch 3/45\n",
            "73/73 [==============================] - 16s 218ms/step - loss: 6.1126 - accuracy: 0.0656 - val_loss: 6.3022 - val_accuracy: 0.0612\n",
            "Epoch 4/45\n",
            "73/73 [==============================] - 16s 218ms/step - loss: 6.0396 - accuracy: 0.0710 - val_loss: 6.2452 - val_accuracy: 0.0755\n",
            "Epoch 5/45\n",
            "73/73 [==============================] - 16s 215ms/step - loss: 5.9376 - accuracy: 0.0802 - val_loss: 6.1569 - val_accuracy: 0.0793\n",
            "Epoch 6/45\n",
            "73/73 [==============================] - 16s 217ms/step - loss: 5.8014 - accuracy: 0.0875 - val_loss: 6.0519 - val_accuracy: 0.0852\n",
            "Epoch 7/45\n",
            "73/73 [==============================] - 16s 216ms/step - loss: 5.6736 - accuracy: 0.0962 - val_loss: 5.9884 - val_accuracy: 0.0961\n",
            "Epoch 8/45\n",
            "73/73 [==============================] - 16s 214ms/step - loss: 5.5779 - accuracy: 0.1052 - val_loss: 5.9606 - val_accuracy: 0.1075\n",
            "Epoch 9/45\n",
            "73/73 [==============================] - 16s 216ms/step - loss: 5.4803 - accuracy: 0.1195 - val_loss: 5.9217 - val_accuracy: 0.1225\n",
            "Epoch 10/45\n",
            "73/73 [==============================] - 16s 217ms/step - loss: 5.4030 - accuracy: 0.1302 - val_loss: 5.8878 - val_accuracy: 0.1247\n",
            "Epoch 11/45\n",
            "73/73 [==============================] - 15s 212ms/step - loss: 5.3168 - accuracy: 0.1371 - val_loss: 5.8742 - val_accuracy: 0.1264\n",
            "Epoch 12/45\n",
            "73/73 [==============================] - 16s 215ms/step - loss: 5.2388 - accuracy: 0.1441 - val_loss: 5.8428 - val_accuracy: 0.1271\n",
            "Epoch 13/45\n",
            "73/73 [==============================] - 16s 213ms/step - loss: 5.1694 - accuracy: 0.1494 - val_loss: 5.8279 - val_accuracy: 0.1273\n",
            "Epoch 14/45\n",
            "73/73 [==============================] - 16s 216ms/step - loss: 5.1038 - accuracy: 0.1539 - val_loss: 5.8239 - val_accuracy: 0.1336\n",
            "Epoch 15/45\n",
            "73/73 [==============================] - 15s 212ms/step - loss: 5.0404 - accuracy: 0.1588 - val_loss: 5.8480 - val_accuracy: 0.1342\n",
            "Epoch 16/45\n",
            "73/73 [==============================] - 16s 215ms/step - loss: 4.9849 - accuracy: 0.1618 - val_loss: 5.8399 - val_accuracy: 0.1353\n",
            "Epoch 17/45\n",
            "73/73 [==============================] - 16s 218ms/step - loss: 4.9269 - accuracy: 0.1664 - val_loss: 5.8408 - val_accuracy: 0.1388\n",
            "Epoch 18/45\n",
            "73/73 [==============================] - 15s 213ms/step - loss: 4.8721 - accuracy: 0.1684 - val_loss: 5.8563 - val_accuracy: 0.1404\n",
            "Epoch 19/45\n",
            "73/73 [==============================] - 15s 210ms/step - loss: 4.8194 - accuracy: 0.1715 - val_loss: 5.8881 - val_accuracy: 0.1436\n",
            "Epoch 20/45\n",
            "73/73 [==============================] - 16s 217ms/step - loss: 4.7622 - accuracy: 0.1746 - val_loss: 5.8677 - val_accuracy: 0.1427\n",
            "Epoch 21/45\n",
            "73/73 [==============================] - 16s 214ms/step - loss: 4.7078 - accuracy: 0.1769 - val_loss: 5.9345 - val_accuracy: 0.1439\n",
            "Epoch 22/45\n",
            "73/73 [==============================] - 16s 216ms/step - loss: 4.6566 - accuracy: 0.1805 - val_loss: 5.9587 - val_accuracy: 0.1457\n",
            "Epoch 23/45\n",
            "73/73 [==============================] - 16s 214ms/step - loss: 4.6020 - accuracy: 0.1853 - val_loss: 5.9855 - val_accuracy: 0.1488\n",
            "Epoch 24/45\n",
            "73/73 [==============================] - 16s 214ms/step - loss: 4.5544 - accuracy: 0.1864 - val_loss: 5.9735 - val_accuracy: 0.1485\n",
            "Epoch 25/45\n",
            "73/73 [==============================] - 16s 213ms/step - loss: 4.5031 - accuracy: 0.1899 - val_loss: 6.0203 - val_accuracy: 0.1474\n",
            "Epoch 26/45\n",
            "73/73 [==============================] - 16s 215ms/step - loss: 4.4565 - accuracy: 0.1911 - val_loss: 6.0323 - val_accuracy: 0.1484\n",
            "Epoch 27/45\n",
            "73/73 [==============================] - 15s 212ms/step - loss: 4.4102 - accuracy: 0.1966 - val_loss: 6.1021 - val_accuracy: 0.1491\n",
            "Epoch 28/45\n",
            "73/73 [==============================] - 16s 214ms/step - loss: 4.3594 - accuracy: 0.1996 - val_loss: 6.1147 - val_accuracy: 0.1489\n",
            "Epoch 29/45\n",
            "73/73 [==============================] - 16s 215ms/step - loss: 4.3140 - accuracy: 0.2036 - val_loss: 6.1275 - val_accuracy: 0.1468\n",
            "Epoch 30/45\n",
            "73/73 [==============================] - 16s 216ms/step - loss: 4.2639 - accuracy: 0.2069 - val_loss: 6.2166 - val_accuracy: 0.1487\n",
            "Epoch 31/45\n",
            "73/73 [==============================] - 16s 214ms/step - loss: 4.2245 - accuracy: 0.2095 - val_loss: 6.2427 - val_accuracy: 0.1482\n",
            "Epoch 32/45\n",
            "73/73 [==============================] - 16s 219ms/step - loss: 4.1754 - accuracy: 0.2125 - val_loss: 6.3044 - val_accuracy: 0.1502\n",
            "Epoch 33/45\n",
            "73/73 [==============================] - 16s 217ms/step - loss: 4.1310 - accuracy: 0.2175 - val_loss: 6.3652 - val_accuracy: 0.1489\n",
            "Epoch 34/45\n",
            "73/73 [==============================] - 16s 216ms/step - loss: 4.0911 - accuracy: 0.2186 - val_loss: 6.4261 - val_accuracy: 0.1535\n",
            "Epoch 35/45\n",
            "73/73 [==============================] - 16s 214ms/step - loss: 4.0500 - accuracy: 0.2229 - val_loss: 6.3618 - val_accuracy: 0.1498\n",
            "Epoch 36/45\n",
            "73/73 [==============================] - 16s 213ms/step - loss: 4.0103 - accuracy: 0.2264 - val_loss: 6.4526 - val_accuracy: 0.1544\n",
            "Epoch 37/45\n",
            "73/73 [==============================] - 16s 217ms/step - loss: 3.9634 - accuracy: 0.2303 - val_loss: 6.5547 - val_accuracy: 0.1513\n",
            "Epoch 38/45\n",
            "73/73 [==============================] - 16s 214ms/step - loss: 3.9228 - accuracy: 0.2354 - val_loss: 6.5514 - val_accuracy: 0.1552\n",
            "Epoch 39/45\n",
            "73/73 [==============================] - 16s 214ms/step - loss: 3.8768 - accuracy: 0.2393 - val_loss: 6.6352 - val_accuracy: 0.1510\n",
            "Epoch 40/45\n",
            "73/73 [==============================] - 16s 213ms/step - loss: 3.8408 - accuracy: 0.2416 - val_loss: 6.5974 - val_accuracy: 0.1516\n",
            "Epoch 41/45\n",
            "73/73 [==============================] - 15s 211ms/step - loss: 3.8021 - accuracy: 0.2465 - val_loss: 6.7828 - val_accuracy: 0.1534\n",
            "Epoch 42/45\n",
            "73/73 [==============================] - 16s 213ms/step - loss: 3.7581 - accuracy: 0.2502 - val_loss: 6.7539 - val_accuracy: 0.1496\n",
            "Epoch 43/45\n",
            "73/73 [==============================] - 16s 213ms/step - loss: 3.7185 - accuracy: 0.2578 - val_loss: 6.9275 - val_accuracy: 0.1505\n",
            "Epoch 44/45\n",
            "73/73 [==============================] - 16s 215ms/step - loss: 3.6747 - accuracy: 0.2584 - val_loss: 6.9442 - val_accuracy: 0.1501\n",
            "Epoch 45/45\n",
            "73/73 [==============================] - 15s 210ms/step - loss: 3.6413 - accuracy: 0.2641 - val_loss: 6.9839 - val_accuracy: 0.1476\n",
            "Evaluate Model on Test Set:\n",
            "5/5 [==============================] - 0s 66ms/step - loss: 7.0649 - accuracy: 0.1410\n"
          ]
        },
        {
          "output_type": "execute_result",
          "data": {
            "text/plain": [
              "[7.064932823181152, 0.14100000262260437]"
            ]
          },
          "metadata": {},
          "execution_count": 21
        },
        {
          "output_type": "display_data",
          "data": {
            "image/png": "[encoded data removed]",
            "text/plain": [
              "<Figure size 432x288 with 1 Axes>"
            ]
          },
          "metadata": {
            "needs_background": "light"
          }
        }
      ]
    },
    {
      "cell_type": "code",
      "metadata": {
        "cellView": "form",
        "id": "JRSCEqKEZtfZ"
      },
      "source": [
        "#@title Store Graph\n",
        "oldHist, oldMetrics = hist, metrics"
      ],
      "execution_count": null,
      "outputs": []
    },
    {
      "cell_type": "code",
      "metadata": {
        "cellView": "form",
        "colab": {
          "base_uri": "https://localhost:8080/",
          "height": 181
        },
        "id": "9H_AGhCUZxGH",
        "outputId": "512b1391-eebe-44e4-c877-66f6c8dc8c96"
      },
      "source": [
        "#@title Compare Graph\n",
        "plot_curve(epochs, hist, metrics, oldHist, oldMetrics)"
      ],
      "execution_count": null,
      "outputs": [
        {
          "output_type": "error",
          "ename": "NameError",
          "evalue": "ignored",
          "traceback": [
            "\u001b[0;31m---------------------------------------------------------------------------\u001b[0m",
            "\u001b[0;31mNameError\u001b[0m                                 Traceback (most recent call last)",
            "\u001b[0;32m<ipython-input-16-0f4cccedb196>\u001b[0m in \u001b[0;36m<module>\u001b[0;34m()\u001b[0m\n\u001b[1;32m      1\u001b[0m \u001b[0;31m#@title Compare Graph\u001b[0m\u001b[0;34m\u001b[0m\u001b[0;34m\u001b[0m\u001b[0;34m\u001b[0m\u001b[0m\n\u001b[0;32m----> 2\u001b[0;31m \u001b[0mplot_curve\u001b[0m\u001b[0;34m(\u001b[0m\u001b[0mepochs\u001b[0m\u001b[0;34m,\u001b[0m \u001b[0mhist\u001b[0m\u001b[0;34m,\u001b[0m \u001b[0mmetrics\u001b[0m\u001b[0;34m,\u001b[0m \u001b[0moldHist\u001b[0m\u001b[0;34m,\u001b[0m \u001b[0moldMetrics\u001b[0m\u001b[0;34m)\u001b[0m\u001b[0;34m\u001b[0m\u001b[0;34m\u001b[0m\u001b[0m\n\u001b[0m",
            "\u001b[0;31mNameError\u001b[0m: name 'hist' is not defined"
          ]
        }
      ]
    },
    {
      "cell_type": "code",
      "metadata": {
        "colab": {
          "base_uri": "https://localhost:8080/"
        },
        "id": "zYs-mXR2Z0_g",
        "cellView": "form",
        "outputId": "edbbb26c-b9b6-44ab-96d7-4374c7dcf5f1"
      },
      "source": [
        "#@title Data Frequency\n",
        "freq = np.zeros((numWords), dtype = np.int32)\n",
        "for data in dataset:\n",
        "  for word in data:\n",
        "    freq[word] += 1\n",
        "print(freq[1:100])\n",
        "print(sum(freq))\n",
        "print(np.where(freq == 1))"
      ],
      "execution_count": null,
      "outputs": [
        {
          "output_type": "stream",
          "name": "stdout",
          "text": [
            "[114744  91354  60623  45258  38361  28710  27947  24127  21463  21174\n",
            "  20270  20038  18454  17181  16564  15424  14012  13000  12747  10882\n",
            "  10287   9822   9664   8791   8762   8642   8348   8216   8106   7793\n",
            "   7647   7620   7171   6902   6764   6741   6144   5922   5303   5293\n",
            "   5197   4768   4761   4520   4497   4408   4369   4314   4237   4166\n",
            "   4151   4103   4101   4043   4021   4015   3915   3905   3853   3839\n",
            "   3803   3778   3756   3733   3656   3526   3406   3300   3297   3289\n",
            "   3254   3206   3187   3148   3086   3039   3003   2997   2994   2940\n",
            "   2934   2898   2888   2837   2834   2826   2782   2782   2753   2699\n",
            "   2686   2685   2672   2568   2565   2530   2520   2503   2450]\n",
            "1683234\n",
            "(array([14516, 14517, 14518, ..., 22614, 22615, 22616]),)\n"
          ]
        }
      ]
    },
    {
      "cell_type": "code",
      "metadata": {
        "cellView": "form",
        "colab": {
          "base_uri": "https://localhost:8080/",
          "height": 249
        },
        "id": "raIWAx71Z4c7",
        "outputId": "ce3d8684-d3aa-4d7c-8e3e-53578f0783ad"
      },
      "source": [
        "#@title Count Entries\n",
        "searchFor = 'brady' #@param {type: \"string\"}\n",
        "shoudPrint = True #@param {type: \"boolean\"}\n",
        "showCount = True #@param {type: \"boolean\"}\n",
        "count = 0\n",
        "for x in range(1, len(wordIndexes)):\n",
        "  if searchFor in wordIndexes[x]:\n",
        "    count += 1\n",
        "    if shoudPrint:\n",
        "      print(wordIndexes[x], x, end=\"  \")\n",
        "      if showCount:\n",
        "        print(freq[x - 1], end=\"\")\n",
        "      print()\n",
        "print(count)"
      ],
      "execution_count": null,
      "outputs": [
        {
          "output_type": "stream",
          "text": [
            "brady 3613  "
          ],
          "name": "stdout"
        },
        {
          "output_type": "error",
          "ename": "NameError",
          "evalue": "ignored",
          "traceback": [
            "\u001b[0;31m---------------------------------------------------------------------------\u001b[0m",
            "\u001b[0;31mNameError\u001b[0m                                 Traceback (most recent call last)",
            "\u001b[0;32m<ipython-input-11-b7be16f40e28>\u001b[0m in \u001b[0;36m<module>\u001b[0;34m()\u001b[0m\n\u001b[1;32m     10\u001b[0m       \u001b[0mprint\u001b[0m\u001b[0;34m(\u001b[0m\u001b[0mwordIndexes\u001b[0m\u001b[0;34m[\u001b[0m\u001b[0mx\u001b[0m\u001b[0;34m]\u001b[0m\u001b[0;34m,\u001b[0m \u001b[0mx\u001b[0m\u001b[0;34m,\u001b[0m \u001b[0mend\u001b[0m\u001b[0;34m=\u001b[0m\u001b[0;34m\"  \"\u001b[0m\u001b[0;34m)\u001b[0m\u001b[0;34m\u001b[0m\u001b[0;34m\u001b[0m\u001b[0m\n\u001b[1;32m     11\u001b[0m       \u001b[0;32mif\u001b[0m \u001b[0mshowCount\u001b[0m\u001b[0;34m:\u001b[0m\u001b[0;34m\u001b[0m\u001b[0;34m\u001b[0m\u001b[0m\n\u001b[0;32m---> 12\u001b[0;31m         \u001b[0mprint\u001b[0m\u001b[0;34m(\u001b[0m\u001b[0mfreq\u001b[0m\u001b[0;34m[\u001b[0m\u001b[0mx\u001b[0m \u001b[0;34m-\u001b[0m \u001b[0;36m1\u001b[0m\u001b[0;34m]\u001b[0m\u001b[0;34m,\u001b[0m \u001b[0mend\u001b[0m\u001b[0;34m=\u001b[0m\u001b[0;34m\"\"\u001b[0m\u001b[0;34m)\u001b[0m\u001b[0;34m\u001b[0m\u001b[0;34m\u001b[0m\u001b[0m\n\u001b[0m\u001b[1;32m     13\u001b[0m       \u001b[0mprint\u001b[0m\u001b[0;34m(\u001b[0m\u001b[0;34m)\u001b[0m\u001b[0;34m\u001b[0m\u001b[0;34m\u001b[0m\u001b[0m\n\u001b[1;32m     14\u001b[0m \u001b[0mprint\u001b[0m\u001b[0;34m(\u001b[0m\u001b[0mcount\u001b[0m\u001b[0;34m)\u001b[0m\u001b[0;34m\u001b[0m\u001b[0;34m\u001b[0m\u001b[0m\n",
            "\u001b[0;31mNameError\u001b[0m: name 'freq' is not defined"
          ]
        }
      ]
    },
    {
      "cell_type": "code",
      "metadata": {
        "colab": {
          "base_uri": "https://localhost:8080/"
        },
        "id": "1Xz6IYlCZ7GO",
        "cellView": "form",
        "outputId": "81f6dea3-8830-4b6a-cc56-8595df66ccf4"
      },
      "source": [
        "#@title Generate New Data\n",
        "# continueFor: number of words for the AI to write\n",
        "# samples: the number of starting phrases\n",
        "# variance: the number of standard deviations of the possibility probabilities to modify the probability when predicting the next word. 0 = always predict the most likely word\n",
        "continueFor = 100\n",
        "samples = 1\n",
        "variance = 76 #@param {type:\"slider\", min:0, max:200, step:2}\n",
        "\n",
        "startIndex = samples + random.randint(0,100)\n",
        "for count in range(startIndex, startIndex + samples):\n",
        "  print()\n",
        "  seed = testFeatureSet[count:count + 1].copy()\n",
        "  for word in seed[0]:\n",
        "    print(wordIndexes[word], end=\" \")\n",
        "  print('*** ')\n",
        "  for x in range(continueFor):\n",
        "    output = model.predict(seed)\n",
        "    output = np.add(output, (np.random.rand(output.shape[1]) - 0.5) * np.std(output) * 2 * variance) # Adds variance\n",
        "    index = np.argmax(output[0])\n",
        "    print(wordIndexes[index], end=\" \")\n",
        "    for y in range(trainSize - 1):\n",
        "      seed[0][y] = seed[0][y + 1]\n",
        "    seed[0][-1] = index\n",
        "    if (x + 1) % 20 == 0:\n",
        "      print()"
      ],
      "execution_count": null,
      "outputs": [
        {
          "output_type": "stream",
          "name": "stdout",
          "text": [
            "\n",
            "i am not trying to get top level security clearance for my children . this was *** \n",
            "systematically lord hour in prison . and creed , we are going to destroy the united states . i want \n",
            "to make it . you know , they're going to be anything in the world . i said , he \n",
            "'s going to be able to be looking at a good thing . they just said , i said , \n",
            "it 's going to do it . i think that they have to make america great again . it 's \n",
            "a great job , and i want to do that , i think there 's true . but i think \n"
          ]
        }
      ]
    },
    {
      "cell_type": "code",
      "metadata": {
        "id": "rGwKHgx-Z-K4"
      },
      "source": [
        "print(wordIndexes)\n",
        "print([wordIndexes[x] for x in range(1, 20)])"
      ],
      "execution_count": null,
      "outputs": []
    },
    {
      "cell_type": "markdown",
      "metadata": {
        "id": "NE2GrcI5aB-o"
      },
      "source": [
        "Remove @names with one mention (15k+)?\n",
        "\n",
        "do not -> don't, would not -> wouldn't (not every)\n",
        "\n",
        "import tweets without @s\n",
        "\n",
        "WordChars: \". , $ ! ? / % -\"\n",
        "\n",
        "Semicolons?, Colons in nontweets?\n",
        "\n",
        "[ when touching chars, No \"uh\", \"um\", \"ah\", \"hmm\"\n",
        "\n",
        "separate 's into words\n",
        "\n",
        ".\n",
        "\n",
        ".\n",
        "\n",
        "HIGH SCORE: 16.55 (21.13 test with 5)\n",
        "\n",
        "200 LSTM 2x0.3 Dropout\n",
        "\n",
        "200 Dense 0.5 Dropout\n",
        "\n",
        "lr = 0.003\n",
        "\n",
        "Test = 5000, VS = 0.1\n",
        "\n",
        "23363 words,\n",
        "\n",
        "size = 16, dim = 300 (standard)\n"
      ]
    },
    {
      "cell_type": "code",
      "metadata": {
        "colab": {
          "base_uri": "https://localhost:8080/",
          "height": 299
        },
        "cellView": "form",
        "id": "cMF3BgAKhluM",
        "outputId": "eac17f20-f8b0-4142-9247-f8fec9cc9e0f"
      },
      "source": [
        "#@title View Embedding\n",
        "everyWord = np.array([embeddingLayer(np.arange(x, x + trainSize)) for x in range(int(numWords / trainSize))])\n",
        "allWords = np.reshape(everyWord, (everyWord.shape[0] * everyWord.shape[1], everyWord.shape[-1]))\n",
        "print(allWords.shape)\n",
        "plt.plot(np.std(allWords, 0))\n",
        "plt.plot(np.mean(allWords, 0))\n",
        "\n",
        ""
      ],
      "execution_count": null,
      "outputs": [
        {
          "output_type": "stream",
          "name": "stdout",
          "text": [
            "(22608, 300)\n"
          ]
        },
        {
          "output_type": "execute_result",
          "data": {
            "text/plain": [
              "[<matplotlib.lines.Line2D at 0x7f2b2acbd810>]"
            ]
          },
          "metadata": {},
          "execution_count": 39
        },
        {
          "output_type": "display_data",
          "data": {
            "image/png": "[encoded data removed]",
            "text/plain": [
              "<Figure size 432x288 with 1 Axes>"
            ]
          },
          "metadata": {
            "needs_background": "light"
          }
        }
      ]
    }
  ]
}