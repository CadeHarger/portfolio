{
  "nbformat": 4,
  "nbformat_minor": 0,
  "metadata": {
    "colab": {
      "provenance": [],
      "authorship_tag": "ABX9TyMES2mDi4ebfUJYADeWnKzG",
      "include_colab_link": true
    },
    "kernelspec": {
      "name": "python3",
      "display_name": "Python 3"
    },
    "language_info": {
      "name": "python"
    },
    "accelerator": "GPU",
    "gpuClass": "standard"
  },
  "cells": [
    {
      "cell_type": "markdown",
      "metadata": {
        "id": "view-in-github",
        "colab_type": "text"
      },
      "source": [
        "<a href=\"https://colab.research.google.com/github/CadeHarger/portfolio/blob/main/Personal_Projects/Convert_StyleGAN2_to_CoreML.ipynb\" target=\"_parent\"><img src=\"https://colab.research.google.com/assets/colab-badge.svg\" alt=\"Open In Colab\"/></a>"
      ]
    },
    {
      "cell_type": "code",
      "execution_count": null,
      "metadata": {
        "colab": {
          "base_uri": "https://localhost:8080/"
        },
        "id": "wF-fuXn54KSC",
        "outputId": "04dac549-1608-4a89-a6cf-82ce9264c9a3"
      },
      "outputs": [
        {
          "output_type": "stream",
          "name": "stdout",
          "text": [
            "Done\n"
          ]
        }
      ],
      "source": [
        "#@title Setup\n",
        "import tensorflow as tf\n",
        "\n",
        "!git clone https://github.com/CadeHarger/ColabStyleGAN2.git --quiet\n",
        "\n",
        "!python /content/ColabStyleGAN2/weights/download.py\n",
        "!mv \"/content/ffhq.npy\" \"/content/ColabStyleGAN2/weights/\"\n",
        "!mkdir /content/out\n",
        "\n",
        "import sys\n",
        "sys.path.insert(0, \"/content/ColabStyleGAN2\")\n",
        "\n",
        "import argparse\n",
        "import time\n",
        "import math\n",
        "import numpy as np\n",
        "import PIL.Image\n",
        "import re\n",
        "import sys\n",
        "import os\n",
        "from google.colab import output as Output\n",
        "import matplotlib.pyplot as plt\n",
        "import matplotlib.image as mpimg\n",
        "from matplotlib.pyplot import figure\n",
        "from utils.utils_stylegan2 import convert_images_to_uint8\n",
        "\n",
        "def generate_styles(gen, seeds, wavg, truncationPSI):\n",
        "  latents = []\n",
        "  styles = []\n",
        "  for seed in seeds:\n",
        "    latent = gen.mapping_network(seed)\n",
        "    dlatent = wavg + (latent - wavg) * truncationPSI\n",
        "    _, style = gen.synthesis_network(dlatent)\n",
        "    latents.append(dlatent)\n",
        "    styles.append(style)\n",
        "  return latents, styles\n",
        "\n",
        "def generate_images(gen, seeds, wavg, truncationPSI):\n",
        "  styles = []\n",
        "  for seed_idx, seed in enumerate(seeds):\n",
        "    latent = gen.mapping_network(seed)\n",
        "    dlatent = wavg + (latent - wavg) * truncationPSI\n",
        "    out, style = gen.synthesis_network(dlatent)\n",
        "    styles.append(style)\n",
        "    print(np.max(out), np.min(out))\n",
        "    img = convert_images_to_uint8(out, nchw_to_nhwc=True, uint8_cast=True)\n",
        "    path = f\"/content/out/image{seed_idx}.png\"\n",
        "    PIL.Image.fromarray(img.numpy()[0], 'RGB').save(path)\n",
        "  return styles\n",
        "\n",
        "impl = 'ref' # 'ref' if cuda is not available in your machine. 'cuda' else\n",
        "gpu = True # False if tensorflow cpu is used\n",
        "\n",
        "from stylegan2_generator import StyleGan2Generator\n",
        "weights_name = 'ffhq' # face model trained by Nvidia\n",
        "# instantiating generator network\n",
        "generator = StyleGan2Generator(weights=weights_name, impl=impl, gpu=gpu)\n",
        "\n",
        "# load the average latent vector\n",
        "w_average = np.load('/content/ColabStyleGAN2/weights/{}_dlatent_avg.npy'.format(weights_name))\n",
        "\n",
        "rms = np.array([0.05, 0.05263157894736842, 0.05555555555555555, 0.058823529411764705, 0.0625, 0.06666666666666667, 0.07142857142857142, 0.07692307692307693, 0.08333333333333333, 0.09090909090909091, 0.1, 0.10526315789473684, 0.1111111111111111, 0.11764705882352941, 0.125, 0.13333333333333333, 0.14285714285714285, 0.15, 0.15384615384615385, 0.15789473684210525, 0.16666666666666666, 0.17647058823529413, 0.18181818181818182, 0.1875, 0.2, 0.21052631578947367, 0.21428571428571427, 0.2222222222222222, 0.23076923076923078, 0.23529411764705882, 0.25, 0.2631578947368421, 0.26666666666666666, 0.2727272727272727, 0.2777777777777778, 0.2857142857142857, 0.29411764705882354, 0.3, 0.3076923076923077, 0.3125, 0.3157894736842105, 0.3333333333333333, 0.35, 0.35294117647058826, 0.35714285714285715, 0.36363636363636365, 0.3684210526315789, 0.375, 0.38461538461538464, 0.3888888888888889, 0.4, 0.4117647058823529, 0.4166666666666667, 0.42105263157894735, 0.42857142857142855, 0.4375, 0.4444444444444444, 0.45, 0.45454545454545453, 0.46153846153846156, 0.4666666666666667, 0.47058823529411764, 0.47368421052631576, 0.5, 0.5263157894736842, 0.5294117647058824, 0.5333333333333333, 0.5384615384615384, 0.5454545454545454, 0.55, 0.5555555555555556, 0.5625, 0.5714285714285714, 0.5789473684210527, 0.5833333333333334, 0.5882352941176471, 0.6, 0.6111111111111112, 0.6153846153846154, 0.625, 0.631578947368421, 0.6363636363636364, 0.6428571428571429, 0.6470588235294118, 0.65, 0.6666666666666666, 0.6842105263157895, 0.6875, 0.6923076923076923, 0.7, 0.7058823529411765, 0.7142857142857143, 0.7222222222222222, 0.7272727272727273, 0.7333333333333333, 0.7368421052631579, 0.75, 0.7647058823529411, 0.7692307692307693, 0.7777777777777778, 0.7857142857142857, 0.7894736842105263, 0.8, 0.8125, 0.8181818181818182, 0.8235294117647058, 0.8333333333333334, 0.8421052631578947, 0.8461538461538461, 0.85, 0.8571428571428571, 0.8666666666666667, 0.875, 0.8823529411764706, 0.8888888888888888, 0.8947368421052632, 0.9, 0.9090909090909091, 0.9166666666666666, 0.9230769230769231, 0.9285714285714286, 0.9333333333333333, 0.9375, 0.9411764705882353, 0.9444444444444444, 0.9473684210526315, 0.95, 1.0, 1.0526315789473684, 1.0555555555555556, 1.0588235294117647, 1.0625, 1.0666666666666667, 1.0714285714285714, 1.0769230769230769, 1.0833333333333333, 1.0909090909090908, 1.1, 1.1111111111111112, 1.1176470588235294, 1.125, 1.1333333333333333, 1.1428571428571428, 1.1538461538461537, 1.1666666666666667, 1.1764705882352942, 1.1818181818181819, 1.1875, 1.2, 1.2142857142857142, 1.2222222222222223, 1.2307692307692308, 1.25, 1.2666666666666666, 1.2727272727272727, 1.2857142857142858, 1.3, 1.3076923076923077, 1.3333333333333333, 1.3571428571428572, 1.3636363636363635, 1.375, 1.3846153846153846, 1.4, 1.4166666666666667, 1.4285714285714286, 1.4444444444444444, 1.4545454545454546, 1.4615384615384615, 1.5, 1.5384615384615385, 1.5454545454545454, 1.5555555555555556, 1.5714285714285714, 1.5833333333333333, 1.6, 1.625, 1.6363636363636365, 1.6666666666666667, 1.7, 1.7142857142857142, 1.7272727272727273, 1.75, 1.7777777777777777, 1.8, 1.8181818181818181, 1.8333333333333333, 1.8571428571428572, 1.875, 1.8888888888888888, 1.9, 2.0, 2.111111111111111, 2.125, 2.142857142857143, 2.1666666666666665, 2.2, 2.2222222222222223, 2.25, 2.2857142857142856, 2.3333333333333335, 2.375, 2.4, 2.4285714285714284, 2.5, 2.5714285714285716, 2.6, 2.6666666666666665, 2.7142857142857144, 2.75, 2.8, 2.8333333333333335, 2.857142857142857, 3.0, 3.1666666666666665, 3.2, 3.25, 3.3333333333333335, 3.4, 3.5, 3.6, 3.6666666666666665, 3.75, 3.8, 4.0, 4.25, 4.333333333333333, 4.5, 4.666666666666667, 4.75, 5.0, 5.333333333333333, 5.5, 5.666666666666667, 6.0, 6.333333333333333, 6.5, 6.666666666666667, 7.0, 7.5, 8.0, 8.5, 9.0, 9.5, 10.0, 11.0, 12.0, 13.0, 14.0, 15.0, 16.0, 17.0, 18.0, 19.0, 20.0])\n",
        "ratios = np.array([-0.04999999999999993, -0.04999999999999993, -0.05999999999999994, -0.05999999999999994, -0.06999999999999995, -0.06999999999999995, -0.07999999999999996, -0.07999999999999996, -0.08999999999999997, -0.09999999999999998, -0.10999999999999999, -0.10999999999999999, -0.12, -0.13, -0.14, -0.15000000000000002, -0.16000000000000003, -0.16999999999999993, -0.17999999999999994, -0.17999999999999994, -0.18999999999999995, -0.20999999999999996, -0.20999999999999996, -0.21999999999999997, -0.24, -0.25, -0.26, -0.27, -0.28, -0.29000000000000004, -0.30999999999999994, -0.32999999999999996, -0.32999999999999996, -0.33999999999999997, -0.35, -0.36, -0.37, -0.38, -0.39, -0.4, -0.4, -0.42999999999999994, -0.44999999999999996, -0.44999999999999996, -0.45999999999999996, -0.47, -0.47, -0.48, -0.49, -0.5, -0.51, -0.52, -0.52, -0.53, -0.53, -0.54, -0.54, -0.56, -0.56, -0.56, -0.56, -0.56, -0.56, -0.54, -0.51, -0.51, -0.5, -0.5, -0.48, -0.48, -0.47, -0.44999999999999996, -0.42999999999999994, -0.41000000000000003, -0.4, -0.38, -0.35, -0.30999999999999994, -0.29999999999999993, -0.27, -0.24, -0.22999999999999998, -0.19999999999999996, -0.18999999999999995, -0.16999999999999993, -0.10999999999999999, -0.040000000000000036, -0.030000000000000027, -0.010000000000000009, 0.020000000000000018, 0.040000000000000036, 0.07000000000000006, 0.10000000000000009, 0.1200000000000001, 0.14000000000000012, 0.15000000000000013, 0.18999999999999995, 0.22999999999999998, 0.24, 0.27, 0.28, 0.29000000000000004, 0.31000000000000005, 0.3400000000000001, 0.3500000000000001, 0.3600000000000001, 0.3700000000000001, 0.3800000000000001, 0.3900000000000001, 0.3900000000000001, 0.40000000000000013, 0.4099999999999999, 0.41999999999999993, 0.42999999999999994, 0.42999999999999994, 0.43999999999999995, 0.43999999999999995, 0.44999999999999996, 0.45999999999999996, 0.45999999999999996, 0.45999999999999996, 0.47, 0.47, 0.47, 0.47, 0.48, 0.48, 0.5, 0.52, 0.52, 0.52, 0.53, 0.53, 0.53, 0.53, 0.53, 0.54, 0.54, 0.55, 0.55, 0.55, 0.56, 0.56, 0.56, 0.5700000000000001, 0.5700000000000001, 0.5800000000000001, 0.5800000000000001, 0.5800000000000001, 0.5900000000000001, 0.5900000000000001, 0.5900000000000001, 0.6000000000000001, 0.6100000000000001, 0.6100000000000001, 0.6200000000000001, 0.6200000000000001, 0.6200000000000001, 0.6300000000000001, 0.6400000000000001, 0.6400000000000001, 0.6500000000000001, 0.6500000000000001, 0.6500000000000001, 0.6600000000000001, 0.6600000000000001, 0.6699999999999999, 0.6699999999999999, 0.6699999999999999, 0.69, 0.7, 0.7, 0.7, 0.71, 0.71, 0.71, 0.72, 0.72, 0.73, 0.74, 0.74, 0.74, 0.75, 0.75, 0.76, 0.76, 0.77, 0.77, 0.77, 0.78, 0.78, 0.8, 0.81, 0.8200000000000001, 0.8200000000000001, 0.8200000000000001, 0.8300000000000001, 0.8300000000000001, 0.8300000000000001, 0.8400000000000001, 0.8400000000000001, 0.8500000000000001, 0.8500000000000001, 0.8500000000000001, 0.8600000000000001, 0.8700000000000001, 0.8700000000000001, 0.8800000000000001, 0.8800000000000001, 0.8800000000000001, 0.8900000000000001, 0.8900000000000001, 0.8900000000000001, 0.9000000000000001, 0.9100000000000001, 0.9100000000000001, 0.9100000000000001, 0.9199999999999999, 0.9199999999999999, 0.9199999999999999, 0.9299999999999999, 0.9299999999999999, 0.9299999999999999, 0.9299999999999999, 0.94, 0.95, 0.95, 0.95, 0.96, 0.96, 0.96, 0.97, 0.97, 0.97, 0.97, 0.98, 0.98, 0.98, 0.98, 0.98, 0.98, 0.99, 0.99, 0.99, 0.99, 0.99, 0.99, 0.99, 0.99, 1.0, 1.0, 1.0, 1.0, 1.0, 1.0])\n",
        "gains = np.array([1.4371363548755446e-78, 1.4680829817189698e-70, 5.808947630500784e-63, 8.205698476325751e-56, 4.1797522422631315e-49, 8.104371047429674e-43, 5.553700619717751e-37, 1.4338785313691494e-31, 1.3429149882302522e-26, 4.576489458679125e-22, 5.7057757035416994e-18, 4.32763477475147e-16, 2.5853094596112175e-14, 1.1933806257495687e-12, 4.26778889821829e-11, 1.1835517504656934e-09, 2.5418989537747195e-08, 1.7047183989997475e-07, 4.221795616625234e-07, 1.0194635773260237e-06, 5.433591081269487e-06, 2.5796632464758705e-05, 5.38828862014155e-05, 0.00010927394453826297, 0.0004110473372485801, 0.0010275695414899296, 0.0013737320691267457, 0.002401199871373471, 0.004070887262966143, 0.005238283100521192, 0.01066024086541743, 0.017870900837200283, 0.020188924629512387, 0.024573770436506867, 0.02858219576473765, 0.03549213442971589, 0.043518505026743814, 0.049503102079127885, 0.05767180058264581, 0.06292306662786379, 0.06655502655695221, 0.08602583226598057, 0.10373564414487392, 0.10665472397107746, 0.11073419953919186, 0.11669358989443794, 0.12080203807981206, 0.12605360823279735, 0.13276026024624013, 0.13536204291127013, 0.14094842279653227, 0.14495801710016157, 0.14602728404860682, 0.14672139125060765, 0.1472444004099937, 0.14686538517489153, 0.1458188192532806, 0.14452876840352907, 0.14320292500956094, 0.1406784747138923, 0.13847437094522172, 0.136598791798913, 0.13500696668639992, 0.11807247299267683, 0.09677480884621993, 0.09410780627992768, 0.09068526445538226, 0.08618431620104829, 0.08000398067300792, 0.07598763805030767, 0.07109047694274183, 0.06503741395801253, 0.057372577592650666, 0.05115849246919247, 0.04761661745198344, 0.04375163123266928, 0.03499033270913076, 0.027438050918494904, 0.02475196020652761, 0.019156576062313392, 0.01571666407899641, 0.013419057844490604, 0.010590121183385188, 0.008930723123411963, 0.00785389380643752, 0.0030769242401154284, 0.0004390762238576853, 0.00021266165614144326, 2.8090386431496997e-05, 8.764492800930017e-05, 0.0004189543611888098, 0.0013005103780720899, 0.002552399982437666, 0.00354569964640226, 0.004931347346021141, 0.005824741382203466, 0.009711954687910444, 0.014931597826110895, 0.016691022645311863, 0.02019558629800074, 0.02362415598057094, 0.0253039965940161, 0.0301379272901756, 0.036113752159605376, 0.038887697735686705, 0.041520535667347515, 0.04641539486368447, 0.05081817205631761, 0.05285982481591263, 0.05479713952790308, 0.058402865769398904, 0.06319336527046336, 0.06736823192248038, 0.07102239504220823, 0.07424421477752068, 0.07712220036430072, 0.07967728784573619, 0.08406680348533016, 0.08765121902447091, 0.09068176762665396, 0.09321824571180619, 0.09541755098373676, 0.09732942256645946, 0.09898973757366589, 0.1004448789462272, 0.10173990861672653, 0.10292389413866602, 0.12382473860654783, 0.14308389466106003, 0.14407040466543788, 0.145158388586908, 0.1463761229194963, 0.14777016880138255, 0.1493340658265127, 0.1511002005106976, 0.15310945471426354, 0.15547536286388672, 0.1582415618562537, 0.16150286703885616, 0.16340197479330254, 0.16547773235810379, 0.1677580943733434, 0.17034665900433527, 0.17320878578225693, 0.17646095295850936, 0.17885274167667797, 0.18011705142662418, 0.18147033044749666, 0.18433727805966396, 0.18748416151806913, 0.18917762012171008, 0.19093911305437886, 0.19478254624738447, 0.19792264938185306, 0.19902813191520052, 0.20130342718984243, 0.2037363992045137, 0.20498598700764364, 0.20895596129963406, 0.21235407963720765, 0.21323037247350166, 0.21472028494353712, 0.21594824134811658, 0.2178057279300313, 0.21973270987481847, 0.2210249514862726, 0.2226801850808398, 0.22367973566501528, 0.2243441097091001, 0.2277292472064046, 0.23064526926692192, 0.23113214056284784, 0.23180446261266965, 0.23279261106152768, 0.23350547471283506, 0.23442674775847194, 0.23568729139923023, 0.2362083579589465, 0.237463414226891, 0.23861795635998703, 0.23905017221528824, 0.23940305171179874, 0.23996167181214112, 0.24051430595087123, 0.24088266475307898, 0.2411203125532782, 0.24128267181007573, 0.2414851968708162, 0.24157976855240806, 0.24163307231604877, 0.2416610325312107, 0.24129759496764386, 0.23988893844366738, 0.23964951842962148, 0.23933258604805316, 0.23887536203499027, 0.23817838532082805, 0.23769035073010109, 0.2370415543017098, 0.23615899205823584, 0.23491026698273818, 0.23375309922515405, 0.23303680682631933, 0.2321929273692225, 0.23000674122613146, 0.22771756579928512, 0.2267831467841434, 0.2245517119472403, 0.22293998024357667, 0.22171477680700857, 0.21998268884088024, 0.2188277672224958, 0.2179986847298266, 0.21299652850396367, 0.20717806118720405, 0.2060239641524486, 0.20429843042654847, 0.20144875663686895, 0.19919726669166793, 0.1958606344856922, 0.19259082052084403, 0.19044699553313277, 0.18780665282963863, 0.18624424336250298, 0.18018738466159195, 0.17301380873802907, 0.17072342146316724, 0.16628398090347168, 0.1620324806256816, 0.15997806600877915, 0.1540731155145997, 0.1467724715338145, 0.1433550138346165, 0.1400787125776142, 0.13392152441730687, 0.12824960747963954, 0.12558253717441098, 0.12301803844455692, 0.11817590353509844, 0.11155919563580964, 0.10561935737931677, 0.10026670337155627, 0.09541840670475546, 0.09100752394520802, 0.08697893240444694, 0.07988951336954798, 0.07385524715009092, 0.06865978590705173, 0.0641413440500749, 0.06017874397130502, 0.05667457952005043, 0.05355398712437107, 0.0507575841868135, 0.04823757750966695, 0.04595508374905487])\n",
        "\n",
        "Output.clear()\n",
        "print(\"Done\")"
      ]
    },
    {
      "cell_type": "code",
      "source": [
        "latents, styles = generate_styles(generator, np.random.normal(0, 1, (1, 1, 512)), w_average, 0.5)"
      ],
      "metadata": {
        "colab": {
          "base_uri": "https://localhost:8080/"
        },
        "id": "ItWiUNZ3j-SS",
        "outputId": "7d12f263-62a9-4811-af61-f5319798bb64"
      },
      "execution_count": null,
      "outputs": [
        {
          "output_type": "stream",
          "name": "stdout",
          "text": [
            "(512,) (1, 18, 512)\n"
          ]
        }
      ]
    },
    {
      "cell_type": "code",
      "source": [
        "#@title Extract weights\n",
        "weights = ['4x4/Const/const', '4x4/Conv/weight', '4x4/Conv/mod_weight', '4x4/Conv/mod_bias', '4x4/Conv/noise_strength', '4x4/Conv/bias', '4x4/ToRGB/weight', '4x4/ToRGB/mod_weight', '4x4/ToRGB/mod_bias', '4x4/ToRGB/bias', '8x8/Conv0_up/weight', '8x8/Conv0_up/mod_weight', '8x8/Conv0_up/mod_bias', '8x8/Conv0_up/noise_strength', '8x8/Conv0_up/bias', '8x8/Conv1/weight', '8x8/Conv1/mod_weight', '8x8/Conv1/mod_bias', '8x8/Conv1/noise_strength', '8x8/Conv1/bias', '8x8/ToRGB/weight', '8x8/ToRGB/mod_weight', '8x8/ToRGB/mod_bias', '8x8/ToRGB/bias', '16x16/Conv0_up/weight', '16x16/Conv0_up/mod_weight', '16x16/Conv0_up/mod_bias', '16x16/Conv0_up/noise_strength', '16x16/Conv0_up/bias', '16x16/Conv1/weight', '16x16/Conv1/mod_weight', '16x16/Conv1/mod_bias', '16x16/Conv1/noise_strength', '16x16/Conv1/bias', '16x16/ToRGB/weight', '16x16/ToRGB/mod_weight', '16x16/ToRGB/mod_bias', '16x16/ToRGB/bias', '32x32/Conv0_up/weight', '32x32/Conv0_up/mod_weight', '32x32/Conv0_up/mod_bias', '32x32/Conv0_up/noise_strength', '32x32/Conv0_up/bias', '32x32/Conv1/weight', '32x32/Conv1/mod_weight', '32x32/Conv1/mod_bias', '32x32/Conv1/noise_strength', '32x32/Conv1/bias', '32x32/ToRGB/weight', '32x32/ToRGB/mod_weight', '32x32/ToRGB/mod_bias', '32x32/ToRGB/bias', '64x64/Conv0_up/weight', '64x64/Conv0_up/mod_weight', '64x64/Conv0_up/mod_bias', '64x64/Conv0_up/noise_strength', '64x64/Conv0_up/bias', '64x64/Conv1/weight', '64x64/Conv1/mod_weight', '64x64/Conv1/mod_bias', '64x64/Conv1/noise_strength', '64x64/Conv1/bias', '64x64/ToRGB/weight', '64x64/ToRGB/mod_weight', '64x64/ToRGB/mod_bias', '64x64/ToRGB/bias', '128x128/Conv0_up/weight', '128x128/Conv0_up/mod_weight', '128x128/Conv0_up/mod_bias', '128x128/Conv0_up/noise_strength', '128x128/Conv0_up/bias', '128x128/Conv1/weight', '128x128/Conv1/mod_weight', '128x128/Conv1/mod_bias', '128x128/Conv1/noise_strength', '128x128/Conv1/bias', '128x128/ToRGB/weight', '128x128/ToRGB/mod_weight', '128x128/ToRGB/mod_bias', '128x128/ToRGB/bias', '256x256/Conv0_up/weight', '256x256/Conv0_up/mod_weight', '256x256/Conv0_up/mod_bias', '256x256/Conv0_up/noise_strength', '256x256/Conv0_up/bias', '256x256/Conv1/weight', '256x256/Conv1/mod_weight', '256x256/Conv1/mod_bias', '256x256/Conv1/noise_strength', '256x256/Conv1/bias', '256x256/ToRGB/weight', '256x256/ToRGB/mod_weight', '256x256/ToRGB/mod_bias', '256x256/ToRGB/bias', '512x512/Conv0_up/weight', '512x512/Conv0_up/mod_weight', '512x512/Conv0_up/mod_bias', '512x512/Conv0_up/noise_strength', '512x512/Conv0_up/bias', '512x512/Conv1/weight', '512x512/Conv1/mod_weight', '512x512/Conv1/mod_bias', '512x512/Conv1/noise_strength', '512x512/Conv1/bias', '512x512/ToRGB/weight', '512x512/ToRGB/mod_weight', '512x512/ToRGB/mod_bias', '512x512/ToRGB/bias', '1024x1024/Conv0_up/weight', '1024x1024/Conv0_up/mod_weight', '1024x1024/Conv0_up/mod_bias', '1024x1024/Conv0_up/noise_strength', '1024x1024/Conv0_up/bias', '1024x1024/Conv1/weight', '1024x1024/Conv1/mod_weight', '1024x1024/Conv1/mod_bias', '1024x1024/Conv1/noise_strength', '1024x1024/Conv1/bias', '1024x1024/ToRGB/weight', '1024x1024/ToRGB/mod_weight', '1024x1024/ToRGB/mod_bias', '1024x1024/ToRGB/bias', 'Dense0/weight', 'Dense0/bias', 'Dense1/weight', 'Dense1/bias', 'Dense2/weight', 'Dense2/bias', 'Dense3/weight', 'Dense3/bias', 'Dense4/weight', 'Dense4/bias', 'Dense5/weight', 'Dense5/bias', 'Dense6/weight', 'Dense6/bias', 'Dense7/weight', 'Dense7/bias', 'noise0', 'noise1', 'noise2', 'noise3', 'noise4', 'noise5', 'noise6', 'noise7', 'noise8', 'noise9', 'noise10', 'noise11', 'noise12', 'noise13', 'noise14', 'noise15', 'noise16', 'disc_1024x1024/FromRGB/weight', 'disc_1024x1024/FromRGB/bias', 'disc_1024x1024/Conv0/weight', 'disc_1024x1024/Conv0/bias', 'disc_1024x1024/Conv1_down/weight', 'disc_1024x1024/Conv1_down/bias', 'disc_1024x1024/Skip/weight', 'disc_512x512/Conv0/weight', 'disc_512x512/Conv0/bias', 'disc_512x512/Conv1_down/weight', 'disc_512x512/Conv1_down/bias', 'disc_512x512/Skip/weight', 'disc_256x256/Conv0/weight', 'disc_256x256/Conv0/bias', 'disc_256x256/Conv1_down/weight', 'disc_256x256/Conv1_down/bias', 'disc_256x256/Skip/weight', 'disc_128x128/Conv0/weight', 'disc_128x128/Conv0/bias', 'disc_128x128/Conv1_down/weight', 'disc_128x128/Conv1_down/bias', 'disc_128x128/Skip/weight', 'disc_64x64/Conv0/weight', 'disc_64x64/Conv0/bias', 'disc_64x64/Conv1_down/weight', 'disc_64x64/Conv1_down/bias', 'disc_64x64/Skip/weight', 'disc_32x32/Conv0/weight', 'disc_32x32/Conv0/bias', 'disc_32x32/Conv1_down/weight', 'disc_32x32/Conv1_down/bias', 'disc_32x32/Skip/weight', 'disc_16x16/Conv0/weight', 'disc_16x16/Conv0/bias', 'disc_16x16/Conv1_down/weight', 'disc_16x16/Conv1_down/bias', 'disc_16x16/Skip/weight', 'disc_8x8/Conv0/weight', 'disc_8x8/Conv0/bias', 'disc_8x8/Conv1_down/weight', 'disc_8x8/Conv1_down/bias', 'disc_8x8/Skip/weight', 'disc_4x4/Conv/weight', 'disc_4x4/Conv/bias', 'disc_4x4/Dense0/weight', 'disc_4x4/Dense0/bias', 'disc_Output/weight', 'disc_Output/bias']\n",
        "print(len(weights))\n",
        "def toRemove(name):\n",
        "  if (not 'mod_bias' in name) and (not 'mod_weight' in name):\n",
        "    return False\n",
        "  return True\n",
        "weights = [w for w in weights if ('mod_bias' in w) or ('mod_weight' in w)]\n",
        "print(len(weights))\n",
        "print(weights)"
      ],
      "metadata": {
        "cellView": "form",
        "id": "AOIyY-TSe0Z5"
      },
      "execution_count": null,
      "outputs": []
    },
    {
      "cell_type": "code",
      "source": [
        "#@title Generate Approximation Data\n",
        "count = 4000 #@param\n",
        "latents, styles = generate_styles(generator, np.random.normal(0, 1, (count, 1, 512)), w_average, 0.5)\n",
        "#latents = np.array([l.flatten() for l in np.array(latents)])\n",
        "latents =  np.swapaxes(np.squeeze(np.array(latents)), 0, 1)\n",
        "styles = np.squeeze(np.array(styles))\n",
        "print(latents.shape)\n",
        "print(styles.shape)"
      ],
      "metadata": {
        "colab": {
          "base_uri": "https://localhost:8080/"
        },
        "cellView": "form",
        "id": "VLSyxPMoVHVX",
        "outputId": "fbe33e8c-0177-460d-e59d-c88aa2a3f3ea"
      },
      "execution_count": null,
      "outputs": [
        {
          "output_type": "stream",
          "name": "stdout",
          "text": [
            "(18, 4000, 512)\n",
            "(4000, 9088)\n"
          ]
        }
      ]
    },
    {
      "cell_type": "code",
      "source": [
        "#@title Train Approximation Network\n",
        "\n",
        "model = tf.keras.Sequential([\n",
        "    tf.keras.layers.InputLayer((9216,)),\n",
        "    tf.keras.layers.Dense(9088, activation=None)\n",
        "\n",
        "])\n",
        "model.compile(optimizer=tf.keras.optimizers.Adam(learning_rate=0.0008),\n",
        "                loss=\"MSE\")\n",
        "hist = model.fit(x=latents, y=styles, batch_size=10, epochs=15, validation_split=0.1)\n",
        "plt.plot(hist.history['val_loss'])"
      ],
      "metadata": {
        "cellView": "form",
        "id": "nLMyh891XJC6"
      },
      "execution_count": null,
      "outputs": []
    },
    {
      "cell_type": "code",
      "source": [
        "#@title Train Mini Approximation Network\n",
        "mappings = [([1, 512], 0), ([1, 512], 1), ([1, 512], 1), ([1, 512], 2), ([1, 512], 3), ([1, 512], 3), ([1, 512], 4), ([1, 512], 5), ([1, 512], 5), ([1, 512], 6), ([1, 512], 7), ([1, 512], 7), ([1, 512], 8), ([1, 512], 9), ([1, 512], 9), ([1, 256], 10), ([1, 256], 11), ([1, 256], 11), ([1, 128], 12), ([1, 128], 13), ([1, 128], 13), ([1, 64], 14), ([1, 64], 15), ([1, 64], 15), ([1, 32], 16), ([1, 32], 17)]\n",
        "\n",
        "inputs = [tf.keras.Input(shape=(512,), name=f\"input_{x}\") for x in range(18)]\n",
        "denses = [tf.keras.layers.Dense(mappings[x][0][1], name=f\"dense_{x}\")(inputs[mappings[x][1]]) for x in range(len(mappings))]\n",
        "output = tf.keras.layers.Concatenate()(denses)\n",
        "model = tf.keras.Model(inputs, output, name=\"Mini\")\n",
        "\n",
        "model.compile(optimizer=tf.keras.optimizers.Adam(learning_rate=0.003),\n",
        "                loss=\"MSE\")\n",
        "hist = model.fit([l for l in latents], y=styles, batch_size=10, epochs=50, validation_split=0.1)\n",
        "plt.plot(hist.history['val_loss'])"
      ],
      "metadata": {
        "colab": {
          "base_uri": "https://localhost:8080/",
          "height": 1000
        },
        "cellView": "form",
        "id": "X1-srUKNl8uL",
        "outputId": "1ba03e97-f1f1-4c5f-f751-3436cac0ebe2"
      },
      "execution_count": null,
      "outputs": [
        {
          "output_type": "stream",
          "name": "stdout",
          "text": [
            "Epoch 1/50\n",
            "400/400 [==============================] - 3s 6ms/step - loss: 9.1928\n",
            "Epoch 2/50\n",
            "400/400 [==============================] - 2s 5ms/step - loss: 0.2972\n",
            "Epoch 3/50\n",
            "400/400 [==============================] - 2s 6ms/step - loss: 0.0942\n",
            "Epoch 4/50\n",
            "400/400 [==============================] - 2s 6ms/step - loss: 0.0728\n",
            "Epoch 5/50\n",
            "400/400 [==============================] - 2s 6ms/step - loss: 0.0629\n",
            "Epoch 6/50\n",
            "400/400 [==============================] - 2s 6ms/step - loss: 0.0560\n",
            "Epoch 7/50\n",
            "400/400 [==============================] - 2s 6ms/step - loss: 0.0505\n",
            "Epoch 8/50\n",
            "400/400 [==============================] - 2s 5ms/step - loss: 0.0467\n",
            "Epoch 9/50\n",
            "400/400 [==============================] - 2s 5ms/step - loss: 0.0435\n",
            "Epoch 10/50\n",
            "400/400 [==============================] - 2s 6ms/step - loss: 0.0409\n",
            "Epoch 11/50\n",
            "400/400 [==============================] - 2s 5ms/step - loss: 0.0390\n",
            "Epoch 12/50\n",
            "400/400 [==============================] - 2s 5ms/step - loss: 0.0363\n",
            "Epoch 13/50\n",
            "400/400 [==============================] - 2s 5ms/step - loss: 0.0347\n",
            "Epoch 14/50\n",
            "400/400 [==============================] - 2s 6ms/step - loss: 0.0330\n",
            "Epoch 15/50\n",
            "400/400 [==============================] - 2s 6ms/step - loss: 0.0316\n",
            "Epoch 16/50\n",
            "400/400 [==============================] - 2s 5ms/step - loss: 0.0299\n",
            "Epoch 17/50\n",
            "400/400 [==============================] - 2s 5ms/step - loss: 0.0283\n",
            "Epoch 18/50\n",
            "400/400 [==============================] - 2s 5ms/step - loss: 0.0273\n",
            "Epoch 19/50\n",
            "400/400 [==============================] - 2s 6ms/step - loss: 0.0263\n",
            "Epoch 20/50\n",
            "400/400 [==============================] - 2s 5ms/step - loss: 0.0249\n",
            "Epoch 21/50\n",
            "400/400 [==============================] - 2s 6ms/step - loss: 0.0243\n",
            "Epoch 22/50\n",
            "400/400 [==============================] - 3s 7ms/step - loss: 0.0237\n",
            "Epoch 23/50\n",
            "400/400 [==============================] - 2s 6ms/step - loss: 0.0215\n",
            "Epoch 24/50\n",
            "400/400 [==============================] - 2s 6ms/step - loss: 0.0215\n",
            "Epoch 25/50\n",
            "400/400 [==============================] - 2s 6ms/step - loss: 0.0197\n",
            "Epoch 26/50\n",
            "400/400 [==============================] - 2s 6ms/step - loss: 0.0194\n",
            "Epoch 27/50\n",
            "400/400 [==============================] - 2s 6ms/step - loss: 0.0193\n",
            "Epoch 28/50\n",
            "400/400 [==============================] - 2s 6ms/step - loss: 0.0172\n",
            "Epoch 29/50\n",
            "400/400 [==============================] - 2s 6ms/step - loss: 0.0176\n",
            "Epoch 30/50\n",
            "400/400 [==============================] - 2s 6ms/step - loss: 0.0164\n",
            "Epoch 31/50\n",
            "400/400 [==============================] - 2s 6ms/step - loss: 0.0157\n",
            "Epoch 32/50\n",
            "400/400 [==============================] - 2s 6ms/step - loss: 0.0152\n",
            "Epoch 33/50\n",
            "400/400 [==============================] - 2s 6ms/step - loss: 0.0149\n",
            "Epoch 34/50\n",
            "400/400 [==============================] - 2s 6ms/step - loss: 0.0144\n",
            "Epoch 35/50\n",
            "400/400 [==============================] - 2s 6ms/step - loss: 0.0133\n",
            "Epoch 36/50\n",
            "400/400 [==============================] - 2s 6ms/step - loss: 0.0141\n",
            "Epoch 37/50\n",
            "400/400 [==============================] - 2s 6ms/step - loss: 0.0124\n",
            "Epoch 38/50\n",
            "400/400 [==============================] - 2s 6ms/step - loss: 0.0129\n",
            "Epoch 39/50\n",
            "400/400 [==============================] - 2s 5ms/step - loss: 0.0114\n",
            "Epoch 40/50\n",
            "400/400 [==============================] - 2s 6ms/step - loss: 0.0125\n",
            "Epoch 41/50\n",
            "400/400 [==============================] - 2s 6ms/step - loss: 0.0108\n",
            "Epoch 42/50\n",
            "400/400 [==============================] - 2s 6ms/step - loss: 0.0107\n",
            "Epoch 43/50\n",
            "400/400 [==============================] - 2s 6ms/step - loss: 0.0107\n",
            "Epoch 44/50\n",
            "400/400 [==============================] - 2s 6ms/step - loss: 0.0101\n",
            "Epoch 45/50\n",
            "400/400 [==============================] - 2s 6ms/step - loss: 0.0096\n",
            "Epoch 46/50\n",
            "400/400 [==============================] - 2s 5ms/step - loss: 0.0097\n",
            "Epoch 47/50\n",
            "400/400 [==============================] - 2s 6ms/step - loss: 0.0093\n",
            "Epoch 48/50\n",
            "400/400 [==============================] - 2s 5ms/step - loss: 0.0092\n",
            "Epoch 49/50\n",
            "400/400 [==============================] - 2s 6ms/step - loss: 0.0090\n",
            "Epoch 50/50\n",
            "400/400 [==============================] - 2s 6ms/step - loss: 0.0084\n"
          ]
        },
        {
          "output_type": "error",
          "ename": "KeyError",
          "evalue": "ignored",
          "traceback": [
            "\u001b[0;31m---------------------------------------------------------------------------\u001b[0m",
            "\u001b[0;31mKeyError\u001b[0m                                  Traceback (most recent call last)",
            "\u001b[0;32m<ipython-input-5-0e64cf5093d0>\u001b[0m in \u001b[0;36m<module>\u001b[0;34m\u001b[0m\n\u001b[1;32m     10\u001b[0m                 loss=\"MSE\")\n\u001b[1;32m     11\u001b[0m \u001b[0mhist\u001b[0m \u001b[0;34m=\u001b[0m \u001b[0mmodel\u001b[0m\u001b[0;34m.\u001b[0m\u001b[0mfit\u001b[0m\u001b[0;34m(\u001b[0m\u001b[0;34m[\u001b[0m\u001b[0ml\u001b[0m \u001b[0;32mfor\u001b[0m \u001b[0ml\u001b[0m \u001b[0;32min\u001b[0m \u001b[0mlatents\u001b[0m\u001b[0;34m]\u001b[0m\u001b[0;34m,\u001b[0m \u001b[0my\u001b[0m\u001b[0;34m=\u001b[0m\u001b[0mstyles\u001b[0m\u001b[0;34m,\u001b[0m \u001b[0mbatch_size\u001b[0m\u001b[0;34m=\u001b[0m\u001b[0;36m10\u001b[0m\u001b[0;34m,\u001b[0m \u001b[0mepochs\u001b[0m\u001b[0;34m=\u001b[0m\u001b[0;36m50\u001b[0m\u001b[0;34m)\u001b[0m\u001b[0;34m\u001b[0m\u001b[0;34m\u001b[0m\u001b[0m\n\u001b[0;32m---> 12\u001b[0;31m \u001b[0mplt\u001b[0m\u001b[0;34m.\u001b[0m\u001b[0mplot\u001b[0m\u001b[0;34m(\u001b[0m\u001b[0mhist\u001b[0m\u001b[0;34m.\u001b[0m\u001b[0mhistory\u001b[0m\u001b[0;34m[\u001b[0m\u001b[0;34m'val_loss'\u001b[0m\u001b[0;34m]\u001b[0m\u001b[0;34m)\u001b[0m\u001b[0;34m\u001b[0m\u001b[0;34m\u001b[0m\u001b[0m\n\u001b[0m",
            "\u001b[0;31mKeyError\u001b[0m: 'val_loss'"
          ]
        }
      ]
    },
    {
      "cell_type": "code",
      "source": [
        "styles = np.array(styles)\n",
        "imgs = np.array(imgs)\n",
        "styles = np.squeeze(styles)\n",
        "imgs = np.squeeze(imgs)\n",
        "mixed = np.swapaxes(styles, 1, 0)\n",
        "print(mixed.shape)\n",
        "print(styles.shape)"
      ],
      "metadata": {
        "colab": {
          "base_uri": "https://localhost:8080/"
        },
        "id": "u4AzvLvuVAe9",
        "outputId": "13c45e4e-54c5-4e2d-bd95-125b50d768d2"
      },
      "execution_count": null,
      "outputs": [
        {
          "output_type": "stream",
          "name": "stdout",
          "text": [
            "(9088, 10)\n",
            "(10, 9088)\n"
          ]
        }
      ]
    },
    {
      "cell_type": "code",
      "source": [
        "print(np.mean(styles, 0).shape)\n",
        "print(np.std(styles, 0).shape)\n",
        "plt.plot(np.mean(styles, 0))\n",
        "plt.plot(np.std(styles, 0))"
      ],
      "metadata": {
        "colab": {
          "base_uri": "https://localhost:8080/",
          "height": 316
        },
        "id": "ytyC2xUAWRuD",
        "outputId": "4ec1ab4f-adc5-4261-f3a1-ff1fb46e82f5"
      },
      "execution_count": null,
      "outputs": [
        {
          "output_type": "stream",
          "name": "stdout",
          "text": [
            "(9088,)\n",
            "(9088,)\n"
          ]
        },
        {
          "output_type": "execute_result",
          "data": {
            "text/plain": [
              "[<matplotlib.lines.Line2D at 0x7eff50048cd0>]"
            ]
          },
          "metadata": {},
          "execution_count": 6
        },
        {
          "output_type": "display_data",
          "data": {
            "text/plain": [
              "<Figure size 432x288 with 1 Axes>"
            ],
            "image/png": "[encoded data removed]"
          },
          "metadata": {
            "needs_background": "light"
          }
        }
      ]
    },
    {
      "cell_type": "code",
      "source": [
        "np.savetxt(\"exFace.txt\", styles[4].astype(np.float32), fmt=\"%.10f\", encoding = \"utf8\")"
      ],
      "metadata": {
        "id": "jdx1_kYp-dZV"
      },
      "execution_count": null,
      "outputs": []
    },
    {
      "cell_type": "code",
      "source": [
        "np.savetxt(\"StdFace.txt\", np.std(styles, 0).astype(np.float32), fmt=\"%.10f\", encoding = \"utf8\")"
      ],
      "metadata": {
        "id": "CCFggfLBH-ws"
      },
      "execution_count": null,
      "outputs": []
    },
    {
      "cell_type": "code",
      "source": [
        "np.savetxt(\"MeanFace.txt\", np.mean(styles, 0).astype(np.float32), fmt=\"%.10f\", encoding = \"utf8\")"
      ],
      "metadata": {
        "id": "HVv0NhxxXGny"
      },
      "execution_count": null,
      "outputs": []
    },
    {
      "cell_type": "code",
      "source": [
        "np.savetxt(\"w_avg.txt\", w_average.astype(np.float32), fmt=\"%.10f\", encoding = \"utf8\")"
      ],
      "metadata": {
        "id": "nbaa51ahfn7M"
      },
      "execution_count": null,
      "outputs": []
    },
    {
      "cell_type": "code",
      "source": [
        "np.save('latents', latents)\n",
        "np.save('styles', styles)"
      ],
      "metadata": {
        "id": "GfnH5t6L936q"
      },
      "execution_count": null,
      "outputs": []
    },
    {
      "cell_type": "code",
      "source": [
        "latents = np.load('latents.npy', dtype=int)\n",
        "styles = np.load('styles.npy', dtype=int)"
      ],
      "metadata": {
        "id": "-rG0VUQk-9d8"
      },
      "execution_count": null,
      "outputs": []
    },
    {
      "cell_type": "code",
      "source": [
        "!pip install coremltools\n",
        "import coremltools as ct"
      ],
      "metadata": {
        "colab": {
          "base_uri": "https://localhost:8080/"
        },
        "id": "TfgakVJMEuuh",
        "outputId": "afd07275-e37d-4b0e-ac18-2514e171d97f"
      },
      "execution_count": null,
      "outputs": [
        {
          "output_type": "stream",
          "name": "stdout",
          "text": [
            "Looking in indexes: https://pypi.org/simple, https://us-python.pkg.dev/colab-wheels/public/simple/\n",
            "Collecting coremltools\n",
            "  Downloading coremltools-5.2.0-cp37-none-manylinux1_x86_64.whl (1.6 MB)\n",
            "\u001b[K     |████████████████████████████████| 1.6 MB 4.7 MB/s \n",
            "\u001b[?25hRequirement already satisfied: sympy in /usr/local/lib/python3.7/dist-packages (from coremltools) (1.7.1)\n",
            "Requirement already satisfied: packaging in /usr/local/lib/python3.7/dist-packages (from coremltools) (21.3)\n",
            "Requirement already satisfied: tqdm in /usr/local/lib/python3.7/dist-packages (from coremltools) (4.64.0)\n",
            "Requirement already satisfied: protobuf>=3.1.0 in /usr/local/lib/python3.7/dist-packages (from coremltools) (3.17.3)\n",
            "Requirement already satisfied: numpy>=1.14.5 in /usr/local/lib/python3.7/dist-packages (from coremltools) (1.21.6)\n",
            "Requirement already satisfied: six>=1.9 in /usr/local/lib/python3.7/dist-packages (from protobuf>=3.1.0->coremltools) (1.15.0)\n",
            "Requirement already satisfied: pyparsing!=3.0.5,>=2.0.2 in /usr/local/lib/python3.7/dist-packages (from packaging->coremltools) (3.0.9)\n",
            "Requirement already satisfied: mpmath>=0.19 in /usr/local/lib/python3.7/dist-packages (from sympy->coremltools) (1.2.1)\n",
            "Installing collected packages: coremltools\n",
            "Successfully installed coremltools-5.2.0\n"
          ]
        },
        {
          "output_type": "stream",
          "name": "stderr",
          "text": [
            "WARNING:root:scikit-learn version 1.0.2 is not supported. Minimum required version: 0.17. Maximum required version: 0.19.2. Disabling scikit-learn conversion API.\n",
            "WARNING:root:TensorFlow version 2.8.2 has not been tested with coremltools. You may run into unexpected errors. TensorFlow 2.6.2 is the most recent version that has been tested.\n",
            "WARNING:root:Keras version 2.8.0 has not been tested with coremltools. You may run into unexpected errors. Keras 2.6.0 is the most recent version that has been tested.\n",
            "WARNING:root:Torch version 1.12.1+cu113 has not been tested with coremltools. You may run into unexpected errors. Torch 1.10.2 is the most recent version that has been tested.\n"
          ]
        }
      ]
    },
    {
      "cell_type": "code",
      "source": [
        "m = ct.convert(model)\n",
        "m.save(\"approx.mlpackage\")\n",
        "!zip -r /content/approx.zip /content/approx.mlpackage"
      ],
      "metadata": {
        "colab": {
          "base_uri": "https://localhost:8080/"
        },
        "id": "qVu8UQ50E80V",
        "outputId": "9bd56a49-02aa-4ea9-f23d-e235fbb6b53e"
      },
      "execution_count": null,
      "outputs": [
        {
          "output_type": "stream",
          "name": "stderr",
          "text": [
            "Running TensorFlow Graph Passes: 100%|██████████| 6/6 [00:00<00:00, 10.52 passes/s]\n",
            "Converting Frontend ==> MIL Ops: 100%|██████████| 125/125 [00:00<00:00, 2862.57 ops/s]\n",
            "Running MIL Common passes: 100%|██████████| 34/34 [00:00<00:00, 278.02 passes/s]\n",
            "Running MIL Clean up passes: 100%|██████████| 9/9 [00:00<00:00, 110.90 passes/s]\n",
            "Translating MIL ==> NeuralNetwork Ops: 100%|██████████| 81/81 [00:00<00:00, 204.41 ops/s]\n"
          ]
        },
        {
          "output_type": "stream",
          "name": "stdout",
          "text": [
            "  adding: content/approx.mlpackage/ (stored 0%)\n",
            "  adding: content/approx.mlpackage/Data/ (stored 0%)\n",
            "  adding: content/approx.mlpackage/Data/com.apple.CoreML/ (stored 0%)\n",
            "  adding: content/approx.mlpackage/Data/com.apple.CoreML/model.mlmodel (deflated 7%)\n",
            "  adding: content/approx.mlpackage/Manifest.json (deflated 49%)\n"
          ]
        }
      ]
    },
    {
      "cell_type": "code",
      "source": [
        "model = tf.keras.Sequential([\n",
        "    tf.keras.layers.InputLayer((512,)),\n",
        "    generator.mapping_network\n",
        "])\n",
        "m = ct.convert(model)\n",
        "m.save(\"mapping.mlpackage\")\n",
        "!zip -r /content/mapping.zip /content/mapping.mlpackage"
      ],
      "metadata": {
        "colab": {
          "base_uri": "https://localhost:8080/"
        },
        "id": "ny9mnruy-Ywq",
        "outputId": "54cb2711-eec0-488e-b280-3b7f657a65b7"
      },
      "execution_count": null,
      "outputs": [
        {
          "output_type": "stream",
          "name": "stderr",
          "text": [
            "Running TensorFlow Graph Passes: 100%|██████████| 6/6 [00:00<00:00,  9.63 passes/s]\n",
            "Converting Frontend ==> MIL Ops: 100%|██████████| 69/69 [00:00<00:00, 978.29 ops/s]\n",
            "Running MIL Common passes: 100%|██████████| 34/34 [00:00<00:00, 235.13 passes/s]\n",
            "Running MIL Clean up passes: 100%|██████████| 9/9 [00:00<00:00, 160.67 passes/s]\n",
            "Translating MIL ==> NeuralNetwork Ops: 100%|██████████| 69/69 [00:00<00:00, 120.21 ops/s]\n"
          ]
        },
        {
          "output_type": "stream",
          "name": "stdout",
          "text": [
            "  adding: content/mapping.mlpackage/ (stored 0%)\n",
            "  adding: content/mapping.mlpackage/Data/ (stored 0%)\n",
            "  adding: content/mapping.mlpackage/Data/com.apple.CoreML/ (stored 0%)\n",
            "  adding: content/mapping.mlpackage/Data/com.apple.CoreML/model.mlmodel (deflated 7%)\n",
            "  adding: content/mapping.mlpackage/Manifest.json (deflated 49%)\n"
          ]
        }
      ]
    }
  ]
}